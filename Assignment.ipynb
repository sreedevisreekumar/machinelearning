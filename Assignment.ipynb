{
 "cells": [
  {
   "cell_type": "markdown",
   "id": "a9ac1351",
   "metadata": {},
   "source": [
    "# Lending Club Case Study - Sreekumar N.P."
   ]
  },
  {
   "cell_type": "markdown",
   "id": "cf337899",
   "metadata": {},
   "source": [
    "Problem Statement :\n",
    "Lending Club requires me to analyze all patterns and dependencies of the Loan defaulters and provide them with recommendations to identify such applicants."
   ]
  },
  {
   "cell_type": "code",
   "execution_count": 1,
   "id": "eb3ed7be",
   "metadata": {},
   "outputs": [],
   "source": [
    "#import the libraries\n",
    "import pandas as pd,numpy as np\n",
    "import warnings\n",
    "warnings.filterwarnings(\"ignore\")\n",
    "#import the plotting libraries\n",
    "import matplotlib.pyplot as plt\n",
    "%matplotlib inline\n",
    "import seaborn as sns"
   ]
  },
  {
   "cell_type": "markdown",
   "id": "c158914e",
   "metadata": {},
   "source": [
    "# Data Understanding"
   ]
  },
  {
   "cell_type": "code",
   "execution_count": 2,
   "id": "fd8e537b",
   "metadata": {},
   "outputs": [
    {
     "data": {
      "text/html": [
       "<div>\n",
       "<style scoped>\n",
       "    .dataframe tbody tr th:only-of-type {\n",
       "        vertical-align: middle;\n",
       "    }\n",
       "\n",
       "    .dataframe tbody tr th {\n",
       "        vertical-align: top;\n",
       "    }\n",
       "\n",
       "    .dataframe thead th {\n",
       "        text-align: right;\n",
       "    }\n",
       "</style>\n",
       "<table border=\"1\" class=\"dataframe\">\n",
       "  <thead>\n",
       "    <tr style=\"text-align: right;\">\n",
       "      <th></th>\n",
       "      <th>id</th>\n",
       "      <th>member_id</th>\n",
       "      <th>loan_amnt</th>\n",
       "      <th>funded_amnt</th>\n",
       "      <th>funded_amnt_inv</th>\n",
       "      <th>term</th>\n",
       "      <th>int_rate</th>\n",
       "      <th>installment</th>\n",
       "      <th>grade</th>\n",
       "      <th>sub_grade</th>\n",
       "      <th>...</th>\n",
       "      <th>num_tl_90g_dpd_24m</th>\n",
       "      <th>num_tl_op_past_12m</th>\n",
       "      <th>pct_tl_nvr_dlq</th>\n",
       "      <th>percent_bc_gt_75</th>\n",
       "      <th>pub_rec_bankruptcies</th>\n",
       "      <th>tax_liens</th>\n",
       "      <th>tot_hi_cred_lim</th>\n",
       "      <th>total_bal_ex_mort</th>\n",
       "      <th>total_bc_limit</th>\n",
       "      <th>total_il_high_credit_limit</th>\n",
       "    </tr>\n",
       "  </thead>\n",
       "  <tbody>\n",
       "    <tr>\n",
       "      <th>0</th>\n",
       "      <td>1077501</td>\n",
       "      <td>1296599</td>\n",
       "      <td>5000</td>\n",
       "      <td>5000</td>\n",
       "      <td>4975.0</td>\n",
       "      <td>36 months</td>\n",
       "      <td>10.65%</td>\n",
       "      <td>162.87</td>\n",
       "      <td>B</td>\n",
       "      <td>B2</td>\n",
       "      <td>...</td>\n",
       "      <td>NaN</td>\n",
       "      <td>NaN</td>\n",
       "      <td>NaN</td>\n",
       "      <td>NaN</td>\n",
       "      <td>0.0</td>\n",
       "      <td>0.0</td>\n",
       "      <td>NaN</td>\n",
       "      <td>NaN</td>\n",
       "      <td>NaN</td>\n",
       "      <td>NaN</td>\n",
       "    </tr>\n",
       "    <tr>\n",
       "      <th>1</th>\n",
       "      <td>1077430</td>\n",
       "      <td>1314167</td>\n",
       "      <td>2500</td>\n",
       "      <td>2500</td>\n",
       "      <td>2500.0</td>\n",
       "      <td>60 months</td>\n",
       "      <td>15.27%</td>\n",
       "      <td>59.83</td>\n",
       "      <td>C</td>\n",
       "      <td>C4</td>\n",
       "      <td>...</td>\n",
       "      <td>NaN</td>\n",
       "      <td>NaN</td>\n",
       "      <td>NaN</td>\n",
       "      <td>NaN</td>\n",
       "      <td>0.0</td>\n",
       "      <td>0.0</td>\n",
       "      <td>NaN</td>\n",
       "      <td>NaN</td>\n",
       "      <td>NaN</td>\n",
       "      <td>NaN</td>\n",
       "    </tr>\n",
       "    <tr>\n",
       "      <th>2</th>\n",
       "      <td>1077175</td>\n",
       "      <td>1313524</td>\n",
       "      <td>2400</td>\n",
       "      <td>2400</td>\n",
       "      <td>2400.0</td>\n",
       "      <td>36 months</td>\n",
       "      <td>15.96%</td>\n",
       "      <td>84.33</td>\n",
       "      <td>C</td>\n",
       "      <td>C5</td>\n",
       "      <td>...</td>\n",
       "      <td>NaN</td>\n",
       "      <td>NaN</td>\n",
       "      <td>NaN</td>\n",
       "      <td>NaN</td>\n",
       "      <td>0.0</td>\n",
       "      <td>0.0</td>\n",
       "      <td>NaN</td>\n",
       "      <td>NaN</td>\n",
       "      <td>NaN</td>\n",
       "      <td>NaN</td>\n",
       "    </tr>\n",
       "    <tr>\n",
       "      <th>3</th>\n",
       "      <td>1076863</td>\n",
       "      <td>1277178</td>\n",
       "      <td>10000</td>\n",
       "      <td>10000</td>\n",
       "      <td>10000.0</td>\n",
       "      <td>36 months</td>\n",
       "      <td>13.49%</td>\n",
       "      <td>339.31</td>\n",
       "      <td>C</td>\n",
       "      <td>C1</td>\n",
       "      <td>...</td>\n",
       "      <td>NaN</td>\n",
       "      <td>NaN</td>\n",
       "      <td>NaN</td>\n",
       "      <td>NaN</td>\n",
       "      <td>0.0</td>\n",
       "      <td>0.0</td>\n",
       "      <td>NaN</td>\n",
       "      <td>NaN</td>\n",
       "      <td>NaN</td>\n",
       "      <td>NaN</td>\n",
       "    </tr>\n",
       "    <tr>\n",
       "      <th>4</th>\n",
       "      <td>1075358</td>\n",
       "      <td>1311748</td>\n",
       "      <td>3000</td>\n",
       "      <td>3000</td>\n",
       "      <td>3000.0</td>\n",
       "      <td>60 months</td>\n",
       "      <td>12.69%</td>\n",
       "      <td>67.79</td>\n",
       "      <td>B</td>\n",
       "      <td>B5</td>\n",
       "      <td>...</td>\n",
       "      <td>NaN</td>\n",
       "      <td>NaN</td>\n",
       "      <td>NaN</td>\n",
       "      <td>NaN</td>\n",
       "      <td>0.0</td>\n",
       "      <td>0.0</td>\n",
       "      <td>NaN</td>\n",
       "      <td>NaN</td>\n",
       "      <td>NaN</td>\n",
       "      <td>NaN</td>\n",
       "    </tr>\n",
       "  </tbody>\n",
       "</table>\n",
       "<p>5 rows × 111 columns</p>\n",
       "</div>"
      ],
      "text/plain": [
       "        id  member_id  loan_amnt  funded_amnt  funded_amnt_inv        term  \\\n",
       "0  1077501    1296599       5000         5000           4975.0   36 months   \n",
       "1  1077430    1314167       2500         2500           2500.0   60 months   \n",
       "2  1077175    1313524       2400         2400           2400.0   36 months   \n",
       "3  1076863    1277178      10000        10000          10000.0   36 months   \n",
       "4  1075358    1311748       3000         3000           3000.0   60 months   \n",
       "\n",
       "  int_rate  installment grade sub_grade  ... num_tl_90g_dpd_24m  \\\n",
       "0   10.65%       162.87     B        B2  ...                NaN   \n",
       "1   15.27%        59.83     C        C4  ...                NaN   \n",
       "2   15.96%        84.33     C        C5  ...                NaN   \n",
       "3   13.49%       339.31     C        C1  ...                NaN   \n",
       "4   12.69%        67.79     B        B5  ...                NaN   \n",
       "\n",
       "  num_tl_op_past_12m pct_tl_nvr_dlq  percent_bc_gt_75 pub_rec_bankruptcies  \\\n",
       "0                NaN            NaN               NaN                  0.0   \n",
       "1                NaN            NaN               NaN                  0.0   \n",
       "2                NaN            NaN               NaN                  0.0   \n",
       "3                NaN            NaN               NaN                  0.0   \n",
       "4                NaN            NaN               NaN                  0.0   \n",
       "\n",
       "  tax_liens tot_hi_cred_lim total_bal_ex_mort total_bc_limit  \\\n",
       "0       0.0             NaN               NaN            NaN   \n",
       "1       0.0             NaN               NaN            NaN   \n",
       "2       0.0             NaN               NaN            NaN   \n",
       "3       0.0             NaN               NaN            NaN   \n",
       "4       0.0             NaN               NaN            NaN   \n",
       "\n",
       "  total_il_high_credit_limit  \n",
       "0                        NaN  \n",
       "1                        NaN  \n",
       "2                        NaN  \n",
       "3                        NaN  \n",
       "4                        NaN  \n",
       "\n",
       "[5 rows x 111 columns]"
      ]
     },
     "execution_count": 2,
     "metadata": {},
     "output_type": "execute_result"
    }
   ],
   "source": [
    "#read the dataset and check the first five rows\n",
    "df1=pd.read_csv(\"loan.csv\")\n",
    "df1.head()"
   ]
  },
  {
   "cell_type": "code",
   "execution_count": 3,
   "id": "78f055ec",
   "metadata": {},
   "outputs": [
    {
     "data": {
      "text/plain": [
       "(39717, 111)"
      ]
     },
     "execution_count": 3,
     "metadata": {},
     "output_type": "execute_result"
    }
   ],
   "source": [
    "#Check the shape of the dataframe\n",
    "df1.shape\n"
   ]
  },
  {
   "cell_type": "code",
   "execution_count": 4,
   "id": "6fc7255a",
   "metadata": {},
   "outputs": [
    {
     "name": "stdout",
     "output_type": "stream",
     "text": [
      "<class 'pandas.core.frame.DataFrame'>\n",
      "RangeIndex: 39717 entries, 0 to 39716\n",
      "Columns: 111 entries, id to total_il_high_credit_limit\n",
      "dtypes: float64(74), int64(13), object(24)\n",
      "memory usage: 33.6+ MB\n"
     ]
    }
   ],
   "source": [
    "#Check the information related to the dataframe\n",
    "df1.info()"
   ]
  },
  {
   "cell_type": "code",
   "execution_count": 5,
   "id": "66cf245c",
   "metadata": {},
   "outputs": [
    {
     "data": {
      "text/html": [
       "<div>\n",
       "<style scoped>\n",
       "    .dataframe tbody tr th:only-of-type {\n",
       "        vertical-align: middle;\n",
       "    }\n",
       "\n",
       "    .dataframe tbody tr th {\n",
       "        vertical-align: top;\n",
       "    }\n",
       "\n",
       "    .dataframe thead th {\n",
       "        text-align: right;\n",
       "    }\n",
       "</style>\n",
       "<table border=\"1\" class=\"dataframe\">\n",
       "  <thead>\n",
       "    <tr style=\"text-align: right;\">\n",
       "      <th></th>\n",
       "      <th>id</th>\n",
       "      <th>member_id</th>\n",
       "      <th>loan_amnt</th>\n",
       "      <th>funded_amnt</th>\n",
       "      <th>funded_amnt_inv</th>\n",
       "      <th>installment</th>\n",
       "      <th>annual_inc</th>\n",
       "      <th>dti</th>\n",
       "      <th>delinq_2yrs</th>\n",
       "      <th>inq_last_6mths</th>\n",
       "      <th>...</th>\n",
       "      <th>num_tl_90g_dpd_24m</th>\n",
       "      <th>num_tl_op_past_12m</th>\n",
       "      <th>pct_tl_nvr_dlq</th>\n",
       "      <th>percent_bc_gt_75</th>\n",
       "      <th>pub_rec_bankruptcies</th>\n",
       "      <th>tax_liens</th>\n",
       "      <th>tot_hi_cred_lim</th>\n",
       "      <th>total_bal_ex_mort</th>\n",
       "      <th>total_bc_limit</th>\n",
       "      <th>total_il_high_credit_limit</th>\n",
       "    </tr>\n",
       "  </thead>\n",
       "  <tbody>\n",
       "    <tr>\n",
       "      <th>count</th>\n",
       "      <td>3.971700e+04</td>\n",
       "      <td>3.971700e+04</td>\n",
       "      <td>39717.000000</td>\n",
       "      <td>39717.000000</td>\n",
       "      <td>39717.000000</td>\n",
       "      <td>39717.000000</td>\n",
       "      <td>3.971700e+04</td>\n",
       "      <td>39717.000000</td>\n",
       "      <td>39717.000000</td>\n",
       "      <td>39717.000000</td>\n",
       "      <td>...</td>\n",
       "      <td>0.0</td>\n",
       "      <td>0.0</td>\n",
       "      <td>0.0</td>\n",
       "      <td>0.0</td>\n",
       "      <td>39020.000000</td>\n",
       "      <td>39678.0</td>\n",
       "      <td>0.0</td>\n",
       "      <td>0.0</td>\n",
       "      <td>0.0</td>\n",
       "      <td>0.0</td>\n",
       "    </tr>\n",
       "    <tr>\n",
       "      <th>mean</th>\n",
       "      <td>6.831319e+05</td>\n",
       "      <td>8.504636e+05</td>\n",
       "      <td>11219.443815</td>\n",
       "      <td>10947.713196</td>\n",
       "      <td>10397.448868</td>\n",
       "      <td>324.561922</td>\n",
       "      <td>6.896893e+04</td>\n",
       "      <td>13.315130</td>\n",
       "      <td>0.146512</td>\n",
       "      <td>0.869200</td>\n",
       "      <td>...</td>\n",
       "      <td>NaN</td>\n",
       "      <td>NaN</td>\n",
       "      <td>NaN</td>\n",
       "      <td>NaN</td>\n",
       "      <td>0.043260</td>\n",
       "      <td>0.0</td>\n",
       "      <td>NaN</td>\n",
       "      <td>NaN</td>\n",
       "      <td>NaN</td>\n",
       "      <td>NaN</td>\n",
       "    </tr>\n",
       "    <tr>\n",
       "      <th>std</th>\n",
       "      <td>2.106941e+05</td>\n",
       "      <td>2.656783e+05</td>\n",
       "      <td>7456.670694</td>\n",
       "      <td>7187.238670</td>\n",
       "      <td>7128.450439</td>\n",
       "      <td>208.874874</td>\n",
       "      <td>6.379377e+04</td>\n",
       "      <td>6.678594</td>\n",
       "      <td>0.491812</td>\n",
       "      <td>1.070219</td>\n",
       "      <td>...</td>\n",
       "      <td>NaN</td>\n",
       "      <td>NaN</td>\n",
       "      <td>NaN</td>\n",
       "      <td>NaN</td>\n",
       "      <td>0.204324</td>\n",
       "      <td>0.0</td>\n",
       "      <td>NaN</td>\n",
       "      <td>NaN</td>\n",
       "      <td>NaN</td>\n",
       "      <td>NaN</td>\n",
       "    </tr>\n",
       "    <tr>\n",
       "      <th>min</th>\n",
       "      <td>5.473400e+04</td>\n",
       "      <td>7.069900e+04</td>\n",
       "      <td>500.000000</td>\n",
       "      <td>500.000000</td>\n",
       "      <td>0.000000</td>\n",
       "      <td>15.690000</td>\n",
       "      <td>4.000000e+03</td>\n",
       "      <td>0.000000</td>\n",
       "      <td>0.000000</td>\n",
       "      <td>0.000000</td>\n",
       "      <td>...</td>\n",
       "      <td>NaN</td>\n",
       "      <td>NaN</td>\n",
       "      <td>NaN</td>\n",
       "      <td>NaN</td>\n",
       "      <td>0.000000</td>\n",
       "      <td>0.0</td>\n",
       "      <td>NaN</td>\n",
       "      <td>NaN</td>\n",
       "      <td>NaN</td>\n",
       "      <td>NaN</td>\n",
       "    </tr>\n",
       "    <tr>\n",
       "      <th>25%</th>\n",
       "      <td>5.162210e+05</td>\n",
       "      <td>6.667800e+05</td>\n",
       "      <td>5500.000000</td>\n",
       "      <td>5400.000000</td>\n",
       "      <td>5000.000000</td>\n",
       "      <td>167.020000</td>\n",
       "      <td>4.040400e+04</td>\n",
       "      <td>8.170000</td>\n",
       "      <td>0.000000</td>\n",
       "      <td>0.000000</td>\n",
       "      <td>...</td>\n",
       "      <td>NaN</td>\n",
       "      <td>NaN</td>\n",
       "      <td>NaN</td>\n",
       "      <td>NaN</td>\n",
       "      <td>0.000000</td>\n",
       "      <td>0.0</td>\n",
       "      <td>NaN</td>\n",
       "      <td>NaN</td>\n",
       "      <td>NaN</td>\n",
       "      <td>NaN</td>\n",
       "    </tr>\n",
       "    <tr>\n",
       "      <th>50%</th>\n",
       "      <td>6.656650e+05</td>\n",
       "      <td>8.508120e+05</td>\n",
       "      <td>10000.000000</td>\n",
       "      <td>9600.000000</td>\n",
       "      <td>8975.000000</td>\n",
       "      <td>280.220000</td>\n",
       "      <td>5.900000e+04</td>\n",
       "      <td>13.400000</td>\n",
       "      <td>0.000000</td>\n",
       "      <td>1.000000</td>\n",
       "      <td>...</td>\n",
       "      <td>NaN</td>\n",
       "      <td>NaN</td>\n",
       "      <td>NaN</td>\n",
       "      <td>NaN</td>\n",
       "      <td>0.000000</td>\n",
       "      <td>0.0</td>\n",
       "      <td>NaN</td>\n",
       "      <td>NaN</td>\n",
       "      <td>NaN</td>\n",
       "      <td>NaN</td>\n",
       "    </tr>\n",
       "    <tr>\n",
       "      <th>75%</th>\n",
       "      <td>8.377550e+05</td>\n",
       "      <td>1.047339e+06</td>\n",
       "      <td>15000.000000</td>\n",
       "      <td>15000.000000</td>\n",
       "      <td>14400.000000</td>\n",
       "      <td>430.780000</td>\n",
       "      <td>8.230000e+04</td>\n",
       "      <td>18.600000</td>\n",
       "      <td>0.000000</td>\n",
       "      <td>1.000000</td>\n",
       "      <td>...</td>\n",
       "      <td>NaN</td>\n",
       "      <td>NaN</td>\n",
       "      <td>NaN</td>\n",
       "      <td>NaN</td>\n",
       "      <td>0.000000</td>\n",
       "      <td>0.0</td>\n",
       "      <td>NaN</td>\n",
       "      <td>NaN</td>\n",
       "      <td>NaN</td>\n",
       "      <td>NaN</td>\n",
       "    </tr>\n",
       "    <tr>\n",
       "      <th>max</th>\n",
       "      <td>1.077501e+06</td>\n",
       "      <td>1.314167e+06</td>\n",
       "      <td>35000.000000</td>\n",
       "      <td>35000.000000</td>\n",
       "      <td>35000.000000</td>\n",
       "      <td>1305.190000</td>\n",
       "      <td>6.000000e+06</td>\n",
       "      <td>29.990000</td>\n",
       "      <td>11.000000</td>\n",
       "      <td>8.000000</td>\n",
       "      <td>...</td>\n",
       "      <td>NaN</td>\n",
       "      <td>NaN</td>\n",
       "      <td>NaN</td>\n",
       "      <td>NaN</td>\n",
       "      <td>2.000000</td>\n",
       "      <td>0.0</td>\n",
       "      <td>NaN</td>\n",
       "      <td>NaN</td>\n",
       "      <td>NaN</td>\n",
       "      <td>NaN</td>\n",
       "    </tr>\n",
       "  </tbody>\n",
       "</table>\n",
       "<p>8 rows × 87 columns</p>\n",
       "</div>"
      ],
      "text/plain": [
       "                 id     member_id     loan_amnt   funded_amnt  \\\n",
       "count  3.971700e+04  3.971700e+04  39717.000000  39717.000000   \n",
       "mean   6.831319e+05  8.504636e+05  11219.443815  10947.713196   \n",
       "std    2.106941e+05  2.656783e+05   7456.670694   7187.238670   \n",
       "min    5.473400e+04  7.069900e+04    500.000000    500.000000   \n",
       "25%    5.162210e+05  6.667800e+05   5500.000000   5400.000000   \n",
       "50%    6.656650e+05  8.508120e+05  10000.000000   9600.000000   \n",
       "75%    8.377550e+05  1.047339e+06  15000.000000  15000.000000   \n",
       "max    1.077501e+06  1.314167e+06  35000.000000  35000.000000   \n",
       "\n",
       "       funded_amnt_inv   installment    annual_inc           dti  \\\n",
       "count     39717.000000  39717.000000  3.971700e+04  39717.000000   \n",
       "mean      10397.448868    324.561922  6.896893e+04     13.315130   \n",
       "std        7128.450439    208.874874  6.379377e+04      6.678594   \n",
       "min           0.000000     15.690000  4.000000e+03      0.000000   \n",
       "25%        5000.000000    167.020000  4.040400e+04      8.170000   \n",
       "50%        8975.000000    280.220000  5.900000e+04     13.400000   \n",
       "75%       14400.000000    430.780000  8.230000e+04     18.600000   \n",
       "max       35000.000000   1305.190000  6.000000e+06     29.990000   \n",
       "\n",
       "        delinq_2yrs  inq_last_6mths  ...  num_tl_90g_dpd_24m  \\\n",
       "count  39717.000000    39717.000000  ...                 0.0   \n",
       "mean       0.146512        0.869200  ...                 NaN   \n",
       "std        0.491812        1.070219  ...                 NaN   \n",
       "min        0.000000        0.000000  ...                 NaN   \n",
       "25%        0.000000        0.000000  ...                 NaN   \n",
       "50%        0.000000        1.000000  ...                 NaN   \n",
       "75%        0.000000        1.000000  ...                 NaN   \n",
       "max       11.000000        8.000000  ...                 NaN   \n",
       "\n",
       "       num_tl_op_past_12m  pct_tl_nvr_dlq  percent_bc_gt_75  \\\n",
       "count                 0.0             0.0               0.0   \n",
       "mean                  NaN             NaN               NaN   \n",
       "std                   NaN             NaN               NaN   \n",
       "min                   NaN             NaN               NaN   \n",
       "25%                   NaN             NaN               NaN   \n",
       "50%                   NaN             NaN               NaN   \n",
       "75%                   NaN             NaN               NaN   \n",
       "max                   NaN             NaN               NaN   \n",
       "\n",
       "       pub_rec_bankruptcies  tax_liens  tot_hi_cred_lim  total_bal_ex_mort  \\\n",
       "count          39020.000000    39678.0              0.0                0.0   \n",
       "mean               0.043260        0.0              NaN                NaN   \n",
       "std                0.204324        0.0              NaN                NaN   \n",
       "min                0.000000        0.0              NaN                NaN   \n",
       "25%                0.000000        0.0              NaN                NaN   \n",
       "50%                0.000000        0.0              NaN                NaN   \n",
       "75%                0.000000        0.0              NaN                NaN   \n",
       "max                2.000000        0.0              NaN                NaN   \n",
       "\n",
       "       total_bc_limit  total_il_high_credit_limit  \n",
       "count             0.0                         0.0  \n",
       "mean              NaN                         NaN  \n",
       "std               NaN                         NaN  \n",
       "min               NaN                         NaN  \n",
       "25%               NaN                         NaN  \n",
       "50%               NaN                         NaN  \n",
       "75%               NaN                         NaN  \n",
       "max               NaN                         NaN  \n",
       "\n",
       "[8 rows x 87 columns]"
      ]
     },
     "execution_count": 5,
     "metadata": {},
     "output_type": "execute_result"
    }
   ],
   "source": [
    "#Check statistical information of the dataframe\n",
    "df1.describe()"
   ]
  },
  {
   "cell_type": "markdown",
   "id": "2ef0c903",
   "metadata": {},
   "source": [
    "# Inference from the data above : Seems there is large amount of valid data, hence requires detailed checks for data cleaning"
   ]
  },
  {
   "cell_type": "code",
   "execution_count": 6,
   "id": "7f277e0b",
   "metadata": {},
   "outputs": [
    {
     "data": {
      "text/plain": [
       "id                              int64\n",
       "member_id                       int64\n",
       "loan_amnt                       int64\n",
       "funded_amnt                     int64\n",
       "funded_amnt_inv               float64\n",
       "                               ...   \n",
       "tax_liens                     float64\n",
       "tot_hi_cred_lim               float64\n",
       "total_bal_ex_mort             float64\n",
       "total_bc_limit                float64\n",
       "total_il_high_credit_limit    float64\n",
       "Length: 111, dtype: object"
      ]
     },
     "execution_count": 6,
     "metadata": {},
     "output_type": "execute_result"
    }
   ],
   "source": [
    "##Check the datatypes of all the columns of the dataframe\n",
    "df1.dtypes"
   ]
  },
  {
   "cell_type": "code",
   "execution_count": 7,
   "id": "5ace97a1",
   "metadata": {},
   "outputs": [
    {
     "data": {
      "text/plain": [
       "id                                0\n",
       "member_id                         0\n",
       "loan_amnt                         0\n",
       "funded_amnt                       0\n",
       "funded_amnt_inv                   0\n",
       "                              ...  \n",
       "tax_liens                        39\n",
       "tot_hi_cred_lim               39717\n",
       "total_bal_ex_mort             39717\n",
       "total_bc_limit                39717\n",
       "total_il_high_credit_limit    39717\n",
       "Length: 111, dtype: int64"
      ]
     },
     "execution_count": 7,
     "metadata": {},
     "output_type": "execute_result"
    }
   ],
   "source": [
    "df1.isnull().sum()"
   ]
  },
  {
   "cell_type": "markdown",
   "id": "6e8cb6b3",
   "metadata": {},
   "source": [
    "# Seems there are few columns which only contains null values in its rows e.g. 39717 rows having null values out of Total rows = 39717. Take action to delete those Columns which only contains null values in its rows."
   ]
  },
  {
   "cell_type": "code",
   "execution_count": 8,
   "id": "f0351a21",
   "metadata": {},
   "outputs": [
    {
     "data": {
      "text/plain": [
       "54"
      ]
     },
     "execution_count": 8,
     "metadata": {},
     "output_type": "execute_result"
    }
   ],
   "source": [
    "#Find columns having null values\n",
    "df1.isnull().all().sum()"
   ]
  },
  {
   "cell_type": "code",
   "execution_count": 9,
   "id": "66186506",
   "metadata": {
    "scrolled": true
   },
   "outputs": [
    {
     "data": {
      "text/plain": [
       "mths_since_last_major_derog       float64\n",
       "annual_inc_joint                  float64\n",
       "dti_joint                         float64\n",
       "verification_status_joint         float64\n",
       "tot_coll_amt                      float64\n",
       "tot_cur_bal                       float64\n",
       "open_acc_6m                       float64\n",
       "open_il_6m                        float64\n",
       "open_il_12m                       float64\n",
       "open_il_24m                       float64\n",
       "mths_since_rcnt_il                float64\n",
       "total_bal_il                      float64\n",
       "il_util                           float64\n",
       "open_rv_12m                       float64\n",
       "open_rv_24m                       float64\n",
       "max_bal_bc                        float64\n",
       "all_util                          float64\n",
       "total_rev_hi_lim                  float64\n",
       "inq_fi                            float64\n",
       "total_cu_tl                       float64\n",
       "inq_last_12m                      float64\n",
       "acc_open_past_24mths              float64\n",
       "avg_cur_bal                       float64\n",
       "bc_open_to_buy                    float64\n",
       "bc_util                           float64\n",
       "mo_sin_old_il_acct                float64\n",
       "mo_sin_old_rev_tl_op              float64\n",
       "mo_sin_rcnt_rev_tl_op             float64\n",
       "mo_sin_rcnt_tl                    float64\n",
       "mort_acc                          float64\n",
       "mths_since_recent_bc              float64\n",
       "mths_since_recent_bc_dlq          float64\n",
       "mths_since_recent_inq             float64\n",
       "mths_since_recent_revol_delinq    float64\n",
       "num_accts_ever_120_pd             float64\n",
       "num_actv_bc_tl                    float64\n",
       "num_actv_rev_tl                   float64\n",
       "num_bc_sats                       float64\n",
       "num_bc_tl                         float64\n",
       "num_il_tl                         float64\n",
       "num_op_rev_tl                     float64\n",
       "num_rev_accts                     float64\n",
       "num_rev_tl_bal_gt_0               float64\n",
       "num_sats                          float64\n",
       "num_tl_120dpd_2m                  float64\n",
       "num_tl_30dpd                      float64\n",
       "num_tl_90g_dpd_24m                float64\n",
       "num_tl_op_past_12m                float64\n",
       "pct_tl_nvr_dlq                    float64\n",
       "percent_bc_gt_75                  float64\n",
       "tot_hi_cred_lim                   float64\n",
       "total_bal_ex_mort                 float64\n",
       "total_bc_limit                    float64\n",
       "total_il_high_credit_limit        float64\n",
       "dtype: object"
      ]
     },
     "execution_count": 9,
     "metadata": {},
     "output_type": "execute_result"
    }
   ],
   "source": [
    "#Find columns with all null values and display it before making a decision to drop them\n",
    "df1_null=df1.loc[:,df1.isnull().all()]\n",
    "df1_null.dtypes"
   ]
  },
  {
   "cell_type": "code",
   "execution_count": 10,
   "id": "bff74407",
   "metadata": {},
   "outputs": [],
   "source": [
    "#dropping columns with all null\n",
    "df1=df1.dropna(axis=1,how='all')"
   ]
  },
  {
   "cell_type": "code",
   "execution_count": 11,
   "id": "5fffd08a",
   "metadata": {},
   "outputs": [
    {
     "data": {
      "text/plain": [
       "0"
      ]
     },
     "execution_count": 11,
     "metadata": {},
     "output_type": "execute_result"
    }
   ],
   "source": [
    "#Check if the Coulmns with all null values in their rows are deleted.\n",
    "df1.isnull().all().sum()\n"
   ]
  },
  {
   "cell_type": "code",
   "execution_count": 12,
   "id": "1e2df120",
   "metadata": {},
   "outputs": [
    {
     "data": {
      "text/plain": [
       "id                                0\n",
       "member_id                         0\n",
       "loan_amnt                         0\n",
       "funded_amnt                       0\n",
       "funded_amnt_inv                   0\n",
       "term                              0\n",
       "int_rate                          0\n",
       "installment                       0\n",
       "grade                             0\n",
       "sub_grade                         0\n",
       "emp_title                      2459\n",
       "emp_length                     1075\n",
       "home_ownership                    0\n",
       "annual_inc                        0\n",
       "verification_status               0\n",
       "issue_d                           0\n",
       "loan_status                       0\n",
       "pymnt_plan                        0\n",
       "url                               0\n",
       "desc                          12940\n",
       "purpose                           0\n",
       "title                            11\n",
       "zip_code                          0\n",
       "addr_state                        0\n",
       "dti                               0\n",
       "delinq_2yrs                       0\n",
       "earliest_cr_line                  0\n",
       "inq_last_6mths                    0\n",
       "mths_since_last_delinq        25682\n",
       "mths_since_last_record        36931\n",
       "open_acc                          0\n",
       "pub_rec                           0\n",
       "revol_bal                         0\n",
       "revol_util                       50\n",
       "total_acc                         0\n",
       "initial_list_status               0\n",
       "out_prncp                         0\n",
       "out_prncp_inv                     0\n",
       "total_pymnt                       0\n",
       "total_pymnt_inv                   0\n",
       "total_rec_prncp                   0\n",
       "total_rec_int                     0\n",
       "total_rec_late_fee                0\n",
       "recoveries                        0\n",
       "collection_recovery_fee           0\n",
       "last_pymnt_d                     71\n",
       "last_pymnt_amnt                   0\n",
       "next_pymnt_d                  38577\n",
       "last_credit_pull_d                2\n",
       "collections_12_mths_ex_med       56\n",
       "policy_code                       0\n",
       "application_type                  0\n",
       "acc_now_delinq                    0\n",
       "chargeoff_within_12_mths         56\n",
       "delinq_amnt                       0\n",
       "pub_rec_bankruptcies            697\n",
       "tax_liens                        39\n",
       "dtype: int64"
      ]
     },
     "execution_count": 12,
     "metadata": {},
     "output_type": "execute_result"
    }
   ],
   "source": [
    "#Find rows having null values\n",
    "df1.isnull().sum()"
   ]
  },
  {
   "cell_type": "markdown",
   "id": "fdb4647b",
   "metadata": {},
   "source": [
    " # Inference from the data above : There seems to be some more columns with more Null data in their rows.Note1 : mths_since_last_record ,next_pymnt_d has more than 90% of Null data, better to remove them.Note2:mths_since_last_delinq seems interesting from domain knowledge gained, that it conveys positive prospects until that month , but could be potential defaulters afterwards. I feel not to delete them and analyze in detail if required."
   ]
  },
  {
   "cell_type": "code",
   "execution_count": 13,
   "id": "a91c04db",
   "metadata": {},
   "outputs": [],
   "source": [
    "#Delete Columns : mths_since_last_record ,mths_since_last_delinq\n",
    "df1 = df1.drop(columns = ['mths_since_last_record' ,'next_pymnt_d'])"
   ]
  },
  {
   "cell_type": "code",
   "execution_count": 14,
   "id": "414ba22a",
   "metadata": {},
   "outputs": [
    {
     "data": {
      "text/plain": [
       "id                                0\n",
       "member_id                         0\n",
       "loan_amnt                         0\n",
       "funded_amnt                       0\n",
       "funded_amnt_inv                   0\n",
       "term                              0\n",
       "int_rate                          0\n",
       "installment                       0\n",
       "grade                             0\n",
       "sub_grade                         0\n",
       "emp_title                      2459\n",
       "emp_length                     1075\n",
       "home_ownership                    0\n",
       "annual_inc                        0\n",
       "verification_status               0\n",
       "issue_d                           0\n",
       "loan_status                       0\n",
       "pymnt_plan                        0\n",
       "url                               0\n",
       "desc                          12940\n",
       "purpose                           0\n",
       "title                            11\n",
       "zip_code                          0\n",
       "addr_state                        0\n",
       "dti                               0\n",
       "delinq_2yrs                       0\n",
       "earliest_cr_line                  0\n",
       "inq_last_6mths                    0\n",
       "mths_since_last_delinq        25682\n",
       "open_acc                          0\n",
       "pub_rec                           0\n",
       "revol_bal                         0\n",
       "revol_util                       50\n",
       "total_acc                         0\n",
       "initial_list_status               0\n",
       "out_prncp                         0\n",
       "out_prncp_inv                     0\n",
       "total_pymnt                       0\n",
       "total_pymnt_inv                   0\n",
       "total_rec_prncp                   0\n",
       "total_rec_int                     0\n",
       "total_rec_late_fee                0\n",
       "recoveries                        0\n",
       "collection_recovery_fee           0\n",
       "last_pymnt_d                     71\n",
       "last_pymnt_amnt                   0\n",
       "last_credit_pull_d                2\n",
       "collections_12_mths_ex_med       56\n",
       "policy_code                       0\n",
       "application_type                  0\n",
       "acc_now_delinq                    0\n",
       "chargeoff_within_12_mths         56\n",
       "delinq_amnt                       0\n",
       "pub_rec_bankruptcies            697\n",
       "tax_liens                        39\n",
       "dtype: int64"
      ]
     },
     "execution_count": 14,
     "metadata": {},
     "output_type": "execute_result"
    }
   ],
   "source": [
    "#Find rows having null values\n",
    "df1.isnull().sum()"
   ]
  },
  {
   "cell_type": "code",
   "execution_count": 15,
   "id": "61d4f5d3",
   "metadata": {},
   "outputs": [
    {
     "data": {
      "text/plain": [
       "0"
      ]
     },
     "execution_count": 15,
     "metadata": {},
     "output_type": "execute_result"
    }
   ],
   "source": [
    "#Analyze the Tatget variable : loan_status to identify any irrelevant rows\n",
    "df1.loan_status.isnull().sum()\n"
   ]
  },
  {
   "cell_type": "code",
   "execution_count": 16,
   "id": "bbe13514",
   "metadata": {},
   "outputs": [
    {
     "data": {
      "text/plain": [
       "Fully Paid     32950\n",
       "Charged Off     5627\n",
       "Current         1140\n",
       "Name: loan_status, dtype: int64"
      ]
     },
     "execution_count": 16,
     "metadata": {},
     "output_type": "execute_result"
    }
   ],
   "source": [
    "df1.loan_status.value_counts()"
   ]
  },
  {
   "cell_type": "code",
   "execution_count": 17,
   "id": "8f04ae91",
   "metadata": {},
   "outputs": [
    {
     "data": {
      "text/plain": [
       "id                              int64\n",
       "member_id                       int64\n",
       "loan_amnt                       int64\n",
       "funded_amnt                     int64\n",
       "funded_amnt_inv               float64\n",
       "term                           object\n",
       "int_rate                       object\n",
       "installment                   float64\n",
       "grade                          object\n",
       "sub_grade                      object\n",
       "emp_title                      object\n",
       "emp_length                     object\n",
       "home_ownership                 object\n",
       "annual_inc                    float64\n",
       "verification_status            object\n",
       "issue_d                        object\n",
       "loan_status                    object\n",
       "pymnt_plan                     object\n",
       "url                            object\n",
       "desc                           object\n",
       "purpose                        object\n",
       "title                          object\n",
       "zip_code                       object\n",
       "addr_state                     object\n",
       "dti                           float64\n",
       "delinq_2yrs                     int64\n",
       "earliest_cr_line               object\n",
       "inq_last_6mths                  int64\n",
       "mths_since_last_delinq        float64\n",
       "open_acc                        int64\n",
       "pub_rec                         int64\n",
       "revol_bal                       int64\n",
       "revol_util                     object\n",
       "total_acc                       int64\n",
       "initial_list_status            object\n",
       "out_prncp                     float64\n",
       "out_prncp_inv                 float64\n",
       "total_pymnt                   float64\n",
       "total_pymnt_inv               float64\n",
       "total_rec_prncp               float64\n",
       "total_rec_int                 float64\n",
       "total_rec_late_fee            float64\n",
       "recoveries                    float64\n",
       "collection_recovery_fee       float64\n",
       "last_pymnt_d                   object\n",
       "last_pymnt_amnt               float64\n",
       "last_credit_pull_d             object\n",
       "collections_12_mths_ex_med    float64\n",
       "policy_code                     int64\n",
       "application_type               object\n",
       "acc_now_delinq                  int64\n",
       "chargeoff_within_12_mths      float64\n",
       "delinq_amnt                     int64\n",
       "pub_rec_bankruptcies          float64\n",
       "tax_liens                     float64\n",
       "dtype: object"
      ]
     },
     "execution_count": 17,
     "metadata": {},
     "output_type": "execute_result"
    }
   ],
   "source": [
    "#Find the data type of columns\n",
    "df1.dtypes"
   ]
  },
  {
   "cell_type": "code",
   "execution_count": 18,
   "id": "cab8279b",
   "metadata": {},
   "outputs": [
    {
     "data": {
      "text/plain": [
       "(38577, 55)"
      ]
     },
     "execution_count": 18,
     "metadata": {},
     "output_type": "execute_result"
    }
   ],
   "source": [
    "#important\n",
    "#As anaysis is on finding the factors that contribute for chargeoff, details related to 'Current' are irrelevant.\n",
    "#So dropping them\n",
    "df1 = df1.drop(df1[df1.loan_status == 'Current'].index)\n",
    "df1.shape"
   ]
  },
  {
   "cell_type": "code",
   "execution_count": 19,
   "id": "6f3075e8",
   "metadata": {},
   "outputs": [
    {
     "data": {
      "text/html": [
       "<div>\n",
       "<style scoped>\n",
       "    .dataframe tbody tr th:only-of-type {\n",
       "        vertical-align: middle;\n",
       "    }\n",
       "\n",
       "    .dataframe tbody tr th {\n",
       "        vertical-align: top;\n",
       "    }\n",
       "\n",
       "    .dataframe thead th {\n",
       "        text-align: right;\n",
       "    }\n",
       "</style>\n",
       "<table border=\"1\" class=\"dataframe\">\n",
       "  <thead>\n",
       "    <tr style=\"text-align: right;\">\n",
       "      <th></th>\n",
       "      <th>id</th>\n",
       "      <th>member_id</th>\n",
       "      <th>loan_amnt</th>\n",
       "      <th>funded_amnt</th>\n",
       "      <th>funded_amnt_inv</th>\n",
       "      <th>term</th>\n",
       "      <th>int_rate</th>\n",
       "      <th>installment</th>\n",
       "      <th>grade</th>\n",
       "      <th>sub_grade</th>\n",
       "      <th>...</th>\n",
       "      <th>last_pymnt_amnt</th>\n",
       "      <th>last_credit_pull_d</th>\n",
       "      <th>collections_12_mths_ex_med</th>\n",
       "      <th>policy_code</th>\n",
       "      <th>application_type</th>\n",
       "      <th>acc_now_delinq</th>\n",
       "      <th>chargeoff_within_12_mths</th>\n",
       "      <th>delinq_amnt</th>\n",
       "      <th>pub_rec_bankruptcies</th>\n",
       "      <th>tax_liens</th>\n",
       "    </tr>\n",
       "  </thead>\n",
       "  <tbody>\n",
       "    <tr>\n",
       "      <th>0</th>\n",
       "      <td>1077501</td>\n",
       "      <td>1296599</td>\n",
       "      <td>5000</td>\n",
       "      <td>5000</td>\n",
       "      <td>4975.0</td>\n",
       "      <td>36 months</td>\n",
       "      <td>10.65</td>\n",
       "      <td>162.87</td>\n",
       "      <td>B</td>\n",
       "      <td>B2</td>\n",
       "      <td>...</td>\n",
       "      <td>171.62</td>\n",
       "      <td>May-16</td>\n",
       "      <td>0.0</td>\n",
       "      <td>1</td>\n",
       "      <td>INDIVIDUAL</td>\n",
       "      <td>0</td>\n",
       "      <td>0.0</td>\n",
       "      <td>0</td>\n",
       "      <td>0.0</td>\n",
       "      <td>0.0</td>\n",
       "    </tr>\n",
       "    <tr>\n",
       "      <th>1</th>\n",
       "      <td>1077430</td>\n",
       "      <td>1314167</td>\n",
       "      <td>2500</td>\n",
       "      <td>2500</td>\n",
       "      <td>2500.0</td>\n",
       "      <td>60 months</td>\n",
       "      <td>15.27</td>\n",
       "      <td>59.83</td>\n",
       "      <td>C</td>\n",
       "      <td>C4</td>\n",
       "      <td>...</td>\n",
       "      <td>119.66</td>\n",
       "      <td>Sep-13</td>\n",
       "      <td>0.0</td>\n",
       "      <td>1</td>\n",
       "      <td>INDIVIDUAL</td>\n",
       "      <td>0</td>\n",
       "      <td>0.0</td>\n",
       "      <td>0</td>\n",
       "      <td>0.0</td>\n",
       "      <td>0.0</td>\n",
       "    </tr>\n",
       "    <tr>\n",
       "      <th>2</th>\n",
       "      <td>1077175</td>\n",
       "      <td>1313524</td>\n",
       "      <td>2400</td>\n",
       "      <td>2400</td>\n",
       "      <td>2400.0</td>\n",
       "      <td>36 months</td>\n",
       "      <td>15.96</td>\n",
       "      <td>84.33</td>\n",
       "      <td>C</td>\n",
       "      <td>C5</td>\n",
       "      <td>...</td>\n",
       "      <td>649.91</td>\n",
       "      <td>May-16</td>\n",
       "      <td>0.0</td>\n",
       "      <td>1</td>\n",
       "      <td>INDIVIDUAL</td>\n",
       "      <td>0</td>\n",
       "      <td>0.0</td>\n",
       "      <td>0</td>\n",
       "      <td>0.0</td>\n",
       "      <td>0.0</td>\n",
       "    </tr>\n",
       "    <tr>\n",
       "      <th>3</th>\n",
       "      <td>1076863</td>\n",
       "      <td>1277178</td>\n",
       "      <td>10000</td>\n",
       "      <td>10000</td>\n",
       "      <td>10000.0</td>\n",
       "      <td>36 months</td>\n",
       "      <td>13.49</td>\n",
       "      <td>339.31</td>\n",
       "      <td>C</td>\n",
       "      <td>C1</td>\n",
       "      <td>...</td>\n",
       "      <td>357.48</td>\n",
       "      <td>Apr-16</td>\n",
       "      <td>0.0</td>\n",
       "      <td>1</td>\n",
       "      <td>INDIVIDUAL</td>\n",
       "      <td>0</td>\n",
       "      <td>0.0</td>\n",
       "      <td>0</td>\n",
       "      <td>0.0</td>\n",
       "      <td>0.0</td>\n",
       "    </tr>\n",
       "    <tr>\n",
       "      <th>5</th>\n",
       "      <td>1075269</td>\n",
       "      <td>1311441</td>\n",
       "      <td>5000</td>\n",
       "      <td>5000</td>\n",
       "      <td>5000.0</td>\n",
       "      <td>36 months</td>\n",
       "      <td>7.90</td>\n",
       "      <td>156.46</td>\n",
       "      <td>A</td>\n",
       "      <td>A4</td>\n",
       "      <td>...</td>\n",
       "      <td>161.03</td>\n",
       "      <td>Jan-16</td>\n",
       "      <td>0.0</td>\n",
       "      <td>1</td>\n",
       "      <td>INDIVIDUAL</td>\n",
       "      <td>0</td>\n",
       "      <td>0.0</td>\n",
       "      <td>0</td>\n",
       "      <td>0.0</td>\n",
       "      <td>0.0</td>\n",
       "    </tr>\n",
       "  </tbody>\n",
       "</table>\n",
       "<p>5 rows × 55 columns</p>\n",
       "</div>"
      ],
      "text/plain": [
       "        id  member_id  loan_amnt  funded_amnt  funded_amnt_inv        term  \\\n",
       "0  1077501    1296599       5000         5000           4975.0   36 months   \n",
       "1  1077430    1314167       2500         2500           2500.0   60 months   \n",
       "2  1077175    1313524       2400         2400           2400.0   36 months   \n",
       "3  1076863    1277178      10000        10000          10000.0   36 months   \n",
       "5  1075269    1311441       5000         5000           5000.0   36 months   \n",
       "\n",
       "   int_rate  installment grade sub_grade  ... last_pymnt_amnt  \\\n",
       "0     10.65       162.87     B        B2  ...          171.62   \n",
       "1     15.27        59.83     C        C4  ...          119.66   \n",
       "2     15.96        84.33     C        C5  ...          649.91   \n",
       "3     13.49       339.31     C        C1  ...          357.48   \n",
       "5      7.90       156.46     A        A4  ...          161.03   \n",
       "\n",
       "  last_credit_pull_d collections_12_mths_ex_med  policy_code application_type  \\\n",
       "0             May-16                        0.0            1       INDIVIDUAL   \n",
       "1             Sep-13                        0.0            1       INDIVIDUAL   \n",
       "2             May-16                        0.0            1       INDIVIDUAL   \n",
       "3             Apr-16                        0.0            1       INDIVIDUAL   \n",
       "5             Jan-16                        0.0            1       INDIVIDUAL   \n",
       "\n",
       "  acc_now_delinq chargeoff_within_12_mths delinq_amnt pub_rec_bankruptcies  \\\n",
       "0              0                      0.0           0                  0.0   \n",
       "1              0                      0.0           0                  0.0   \n",
       "2              0                      0.0           0                  0.0   \n",
       "3              0                      0.0           0                  0.0   \n",
       "5              0                      0.0           0                  0.0   \n",
       "\n",
       "  tax_liens  \n",
       "0       0.0  \n",
       "1       0.0  \n",
       "2       0.0  \n",
       "3       0.0  \n",
       "5       0.0  \n",
       "\n",
       "[5 rows x 55 columns]"
      ]
     },
     "execution_count": 19,
     "metadata": {},
     "output_type": "execute_result"
    }
   ],
   "source": [
    "# interst rate dtype needs to be converted to a quantitative value for easy analysis.\n",
    "df1.int_rate=df1.int_rate.str.replace('%','')\n",
    "df1.int_rate.value_counts()\n",
    "df1.int_rate=df1.int_rate.astype(\"float\")\n",
    "df1.head()"
   ]
  },
  {
   "cell_type": "code",
   "execution_count": 20,
   "id": "055b0df3",
   "metadata": {},
   "outputs": [
    {
     "data": {
      "text/plain": [
       "id                              int64\n",
       "member_id                       int64\n",
       "loan_amnt                       int64\n",
       "funded_amnt                     int64\n",
       "funded_amnt_inv               float64\n",
       "term                           object\n",
       "int_rate                      float64\n",
       "installment                   float64\n",
       "grade                          object\n",
       "sub_grade                      object\n",
       "emp_title                      object\n",
       "emp_length                     object\n",
       "home_ownership                 object\n",
       "annual_inc                    float64\n",
       "verification_status            object\n",
       "issue_d                        object\n",
       "loan_status                    object\n",
       "pymnt_plan                     object\n",
       "url                            object\n",
       "desc                           object\n",
       "purpose                        object\n",
       "title                          object\n",
       "zip_code                       object\n",
       "addr_state                     object\n",
       "dti                           float64\n",
       "delinq_2yrs                     int64\n",
       "earliest_cr_line               object\n",
       "inq_last_6mths                  int64\n",
       "mths_since_last_delinq        float64\n",
       "open_acc                        int64\n",
       "pub_rec                         int64\n",
       "revol_bal                       int64\n",
       "revol_util                     object\n",
       "total_acc                       int64\n",
       "initial_list_status            object\n",
       "out_prncp                     float64\n",
       "out_prncp_inv                 float64\n",
       "total_pymnt                   float64\n",
       "total_pymnt_inv               float64\n",
       "total_rec_prncp               float64\n",
       "total_rec_int                 float64\n",
       "total_rec_late_fee            float64\n",
       "recoveries                    float64\n",
       "collection_recovery_fee       float64\n",
       "last_pymnt_d                   object\n",
       "last_pymnt_amnt               float64\n",
       "last_credit_pull_d             object\n",
       "collections_12_mths_ex_med    float64\n",
       "policy_code                     int64\n",
       "application_type               object\n",
       "acc_now_delinq                  int64\n",
       "chargeoff_within_12_mths      float64\n",
       "delinq_amnt                     int64\n",
       "pub_rec_bankruptcies          float64\n",
       "tax_liens                     float64\n",
       "dtype: object"
      ]
     },
     "execution_count": 20,
     "metadata": {},
     "output_type": "execute_result"
    }
   ],
   "source": [
    "#Check and ensure that int_rate is changed to float64\n",
    "df1.dtypes"
   ]
  },
  {
   "cell_type": "code",
   "execution_count": 21,
   "id": "66dc71c3",
   "metadata": {},
   "outputs": [
    {
     "data": {
      "text/plain": [
       "0"
      ]
     },
     "execution_count": 21,
     "metadata": {},
     "output_type": "execute_result"
    }
   ],
   "source": [
    "df1.dti.isnull().sum()"
   ]
  },
  {
   "cell_type": "code",
   "execution_count": 22,
   "id": "bdeb95a8",
   "metadata": {},
   "outputs": [
    {
     "data": {
      "text/plain": [
       "1033"
      ]
     },
     "execution_count": 22,
     "metadata": {},
     "output_type": "execute_result"
    }
   ],
   "source": [
    "df1.emp_length.isnull().sum()"
   ]
  },
  {
   "cell_type": "code",
   "execution_count": 23,
   "id": "446f30f1",
   "metadata": {},
   "outputs": [
    {
     "data": {
      "text/plain": [
       "10+ years    8488\n",
       "< 1 year     4508\n",
       "2 years      4291\n",
       "3 years      4012\n",
       "4 years      3342\n",
       "5 years      3194\n",
       "1 year       3169\n",
       "6 years      2168\n",
       "7 years      1711\n",
       "8 years      1435\n",
       "9 years      1226\n",
       "Name: emp_length, dtype: int64"
      ]
     },
     "execution_count": 23,
     "metadata": {},
     "output_type": "execute_result"
    }
   ],
   "source": [
    "df1.emp_length.value_counts()"
   ]
  },
  {
   "cell_type": "code",
   "execution_count": 24,
   "id": "1d2d76b3",
   "metadata": {},
   "outputs": [
    {
     "data": {
      "text/plain": [
       "0"
      ]
     },
     "execution_count": 24,
     "metadata": {},
     "output_type": "execute_result"
    }
   ],
   "source": [
    "df1.emp_length.fillna(0,inplace = True)\n",
    "df1.emp_length.isnull().sum()"
   ]
  },
  {
   "cell_type": "markdown",
   "id": "c572c466",
   "metadata": {},
   "source": [
    "# Note : At the beginning it was (39717, 111). After data cleaning of missing values and redundant columns, The remaining rows are 38577 and columns are 55.\n",
    "\n",
    "# Data Cleaning phase is complete\n",
    "\n",
    "# Start to perform Data Analysis"
   ]
  },
  {
   "cell_type": "markdown",
   "id": "543b229a",
   "metadata": {},
   "source": [
    "# From further investigation to gain domain experience the important variables identified are: \n",
    "1. Annual Income \n",
    "2. Loan Amount\n",
    "3. Term\n",
    "4. Grade\n",
    "5. SubGrade\n",
    "6. Loan Amount\n",
    "7. Purpose of loan\n",
    "8. DTI\n",
    "9. Emp_length\n",
    "10. Loan Date\n",
    "11. Hpme Ownership\n",
    "12. Verification_Status\n",
    "\n",
    "There are customer behavioral variables present in the dataset, but that won't be available at the time of loan application hence can be ignored.\n"
   ]
  },
  {
   "cell_type": "code",
   "execution_count": 25,
   "id": "f45f14ef",
   "metadata": {
    "scrolled": true
   },
   "outputs": [
    {
     "data": {
      "text/plain": [
       "id                              int64\n",
       "member_id                       int64\n",
       "loan_amnt                       int64\n",
       "funded_amnt                     int64\n",
       "funded_amnt_inv               float64\n",
       "term                           object\n",
       "int_rate                      float64\n",
       "installment                   float64\n",
       "grade                          object\n",
       "sub_grade                      object\n",
       "emp_title                      object\n",
       "emp_length                     object\n",
       "home_ownership                 object\n",
       "annual_inc                    float64\n",
       "verification_status            object\n",
       "issue_d                        object\n",
       "loan_status                    object\n",
       "pymnt_plan                     object\n",
       "url                            object\n",
       "desc                           object\n",
       "purpose                        object\n",
       "title                          object\n",
       "zip_code                       object\n",
       "addr_state                     object\n",
       "dti                           float64\n",
       "delinq_2yrs                     int64\n",
       "earliest_cr_line               object\n",
       "inq_last_6mths                  int64\n",
       "mths_since_last_delinq        float64\n",
       "open_acc                        int64\n",
       "pub_rec                         int64\n",
       "revol_bal                       int64\n",
       "revol_util                     object\n",
       "total_acc                       int64\n",
       "initial_list_status            object\n",
       "out_prncp                     float64\n",
       "out_prncp_inv                 float64\n",
       "total_pymnt                   float64\n",
       "total_pymnt_inv               float64\n",
       "total_rec_prncp               float64\n",
       "total_rec_int                 float64\n",
       "total_rec_late_fee            float64\n",
       "recoveries                    float64\n",
       "collection_recovery_fee       float64\n",
       "last_pymnt_d                   object\n",
       "last_pymnt_amnt               float64\n",
       "last_credit_pull_d             object\n",
       "collections_12_mths_ex_med    float64\n",
       "policy_code                     int64\n",
       "application_type               object\n",
       "acc_now_delinq                  int64\n",
       "chargeoff_within_12_mths      float64\n",
       "delinq_amnt                     int64\n",
       "pub_rec_bankruptcies          float64\n",
       "tax_liens                     float64\n",
       "dtype: object"
      ]
     },
     "execution_count": 25,
     "metadata": {},
     "output_type": "execute_result"
    }
   ],
   "source": [
    "df1.dtypes"
   ]
  },
  {
   "cell_type": "markdown",
   "id": "959bfb12",
   "metadata": {},
   "source": [
    "# Quantitative Variables - Univariate Analysis"
   ]
  },
  {
   "cell_type": "code",
   "execution_count": 26,
   "id": "fc631cea",
   "metadata": {},
   "outputs": [
    {
     "data": {
      "text/plain": [
       "count    3.857700e+04\n",
       "mean     6.877797e+04\n",
       "std      6.421868e+04\n",
       "min      4.000000e+03\n",
       "25%      4.000000e+04\n",
       "50%      5.886800e+04\n",
       "75%      8.200000e+04\n",
       "max      6.000000e+06\n",
       "Name: annual_inc, dtype: float64"
      ]
     },
     "execution_count": 26,
     "metadata": {},
     "output_type": "execute_result"
    }
   ],
   "source": [
    "df1.annual_inc.describe()"
   ]
  },
  {
   "cell_type": "code",
   "execution_count": 27,
   "id": "8a05a3c5",
   "metadata": {},
   "outputs": [
    {
     "data": {
      "text/plain": [
       "<AxesSubplot:>"
      ]
     },
     "execution_count": 27,
     "metadata": {},
     "output_type": "execute_result"
    },
    {
     "data": {
      "image/png": "[encoded data removed]",
      "text/plain": [
       "<Figure size 432x288 with 1 Axes>"
      ]
     },
     "metadata": {
      "needs_background": "light"
     },
     "output_type": "display_data"
    }
   ],
   "source": [
    "df1.annual_inc.plot.box()"
   ]
  },
  {
   "cell_type": "code",
   "execution_count": 28,
   "id": "802de658",
   "metadata": {},
   "outputs": [
    {
     "data": {
      "image/png": "[encoded data removed]",
      "text/plain": [
       "<Figure size 432x288 with 1 Axes>"
      ]
     },
     "metadata": {
      "needs_background": "light"
     },
     "output_type": "display_data"
    }
   ],
   "source": [
    "sns.boxplot(df1.annual_inc,df1.loan_status)\n",
    "plt.show()"
   ]
  },
  {
   "cell_type": "code",
   "execution_count": 29,
   "id": "17f29363",
   "metadata": {},
   "outputs": [],
   "source": [
    "df1 = df1[df1.annual_inc < 1000000]"
   ]
  },
  {
   "cell_type": "code",
   "execution_count": 30,
   "id": "02915446",
   "metadata": {},
   "outputs": [
    {
     "data": {
      "image/png": "[encoded data removed]",
      "text/plain": [
       "<Figure size 432x288 with 1 Axes>"
      ]
     },
     "metadata": {
      "needs_background": "light"
     },
     "output_type": "display_data"
    }
   ],
   "source": [
    "sns.boxplot(df1.annual_inc,df1.loan_status)\n",
    "plt.show()"
   ]
  },
  {
   "cell_type": "code",
   "execution_count": 31,
   "id": "2bc86a6c",
   "metadata": {},
   "outputs": [
    {
     "data": {
      "text/html": [
       "<div>\n",
       "<style scoped>\n",
       "    .dataframe tbody tr th:only-of-type {\n",
       "        vertical-align: middle;\n",
       "    }\n",
       "\n",
       "    .dataframe tbody tr th {\n",
       "        vertical-align: top;\n",
       "    }\n",
       "\n",
       "    .dataframe thead th {\n",
       "        text-align: right;\n",
       "    }\n",
       "</style>\n",
       "<table border=\"1\" class=\"dataframe\">\n",
       "  <thead>\n",
       "    <tr style=\"text-align: right;\">\n",
       "      <th></th>\n",
       "      <th>id</th>\n",
       "      <th>member_id</th>\n",
       "      <th>loan_amnt</th>\n",
       "      <th>funded_amnt</th>\n",
       "      <th>funded_amnt_inv</th>\n",
       "      <th>int_rate</th>\n",
       "      <th>installment</th>\n",
       "      <th>annual_inc</th>\n",
       "      <th>dti</th>\n",
       "      <th>delinq_2yrs</th>\n",
       "      <th>...</th>\n",
       "      <th>recoveries</th>\n",
       "      <th>collection_recovery_fee</th>\n",
       "      <th>last_pymnt_amnt</th>\n",
       "      <th>collections_12_mths_ex_med</th>\n",
       "      <th>policy_code</th>\n",
       "      <th>acc_now_delinq</th>\n",
       "      <th>chargeoff_within_12_mths</th>\n",
       "      <th>delinq_amnt</th>\n",
       "      <th>pub_rec_bankruptcies</th>\n",
       "      <th>tax_liens</th>\n",
       "    </tr>\n",
       "  </thead>\n",
       "  <tbody>\n",
       "    <tr>\n",
       "      <th>count</th>\n",
       "      <td>5.626000e+03</td>\n",
       "      <td>5.626000e+03</td>\n",
       "      <td>5626.000000</td>\n",
       "      <td>5626.000000</td>\n",
       "      <td>5626.000000</td>\n",
       "      <td>5626.000000</td>\n",
       "      <td>5626.000000</td>\n",
       "      <td>5626.000000</td>\n",
       "      <td>5626.000000</td>\n",
       "      <td>5626.000000</td>\n",
       "      <td>...</td>\n",
       "      <td>5626.000000</td>\n",
       "      <td>5626.000000</td>\n",
       "      <td>5626.000000</td>\n",
       "      <td>5620.0</td>\n",
       "      <td>5626.0</td>\n",
       "      <td>5626.0</td>\n",
       "      <td>5620.0</td>\n",
       "      <td>5626.0</td>\n",
       "      <td>5508.000000</td>\n",
       "      <td>5625.0</td>\n",
       "    </tr>\n",
       "    <tr>\n",
       "      <th>mean</th>\n",
       "      <td>6.978205e+05</td>\n",
       "      <td>8.677217e+05</td>\n",
       "      <td>12103.732670</td>\n",
       "      <td>11752.683967</td>\n",
       "      <td>10863.652949</td>\n",
       "      <td>13.820579</td>\n",
       "      <td>336.170976</td>\n",
       "      <td>62216.211525</td>\n",
       "      <td>13.999236</td>\n",
       "      <td>0.170636</td>\n",
       "      <td>...</td>\n",
       "      <td>672.217754</td>\n",
       "      <td>87.580860</td>\n",
       "      <td>326.014998</td>\n",
       "      <td>0.0</td>\n",
       "      <td>1.0</td>\n",
       "      <td>0.0</td>\n",
       "      <td>0.0</td>\n",
       "      <td>0.0</td>\n",
       "      <td>0.067175</td>\n",
       "      <td>0.0</td>\n",
       "    </tr>\n",
       "    <tr>\n",
       "      <th>std</th>\n",
       "      <td>2.163887e+05</td>\n",
       "      <td>2.723416e+05</td>\n",
       "      <td>8086.302606</td>\n",
       "      <td>7761.020860</td>\n",
       "      <td>7662.154617</td>\n",
       "      <td>3.654721</td>\n",
       "      <td>217.070923</td>\n",
       "      <td>45079.747234</td>\n",
       "      <td>6.585339</td>\n",
       "      <td>0.535029</td>\n",
       "      <td>...</td>\n",
       "      <td>1720.873939</td>\n",
       "      <td>386.623347</td>\n",
       "      <td>529.029889</td>\n",
       "      <td>0.0</td>\n",
       "      <td>0.0</td>\n",
       "      <td>0.0</td>\n",
       "      <td>0.0</td>\n",
       "      <td>0.0</td>\n",
       "      <td>0.251794</td>\n",
       "      <td>0.0</td>\n",
       "    </tr>\n",
       "    <tr>\n",
       "      <th>min</th>\n",
       "      <td>6.141900e+04</td>\n",
       "      <td>8.035300e+04</td>\n",
       "      <td>900.000000</td>\n",
       "      <td>900.000000</td>\n",
       "      <td>0.000000</td>\n",
       "      <td>5.420000</td>\n",
       "      <td>22.790000</td>\n",
       "      <td>4080.000000</td>\n",
       "      <td>0.000000</td>\n",
       "      <td>0.000000</td>\n",
       "      <td>...</td>\n",
       "      <td>0.000000</td>\n",
       "      <td>0.000000</td>\n",
       "      <td>0.000000</td>\n",
       "      <td>0.0</td>\n",
       "      <td>1.0</td>\n",
       "      <td>0.0</td>\n",
       "      <td>0.0</td>\n",
       "      <td>0.0</td>\n",
       "      <td>0.000000</td>\n",
       "      <td>0.0</td>\n",
       "    </tr>\n",
       "    <tr>\n",
       "      <th>25%</th>\n",
       "      <td>5.297122e+05</td>\n",
       "      <td>6.848970e+05</td>\n",
       "      <td>5600.000000</td>\n",
       "      <td>5562.500000</td>\n",
       "      <td>5000.000000</td>\n",
       "      <td>11.295000</td>\n",
       "      <td>168.522500</td>\n",
       "      <td>37000.000000</td>\n",
       "      <td>9.050000</td>\n",
       "      <td>0.000000</td>\n",
       "      <td>...</td>\n",
       "      <td>0.000000</td>\n",
       "      <td>0.000000</td>\n",
       "      <td>112.827500</td>\n",
       "      <td>0.0</td>\n",
       "      <td>1.0</td>\n",
       "      <td>0.0</td>\n",
       "      <td>0.0</td>\n",
       "      <td>0.0</td>\n",
       "      <td>0.000000</td>\n",
       "      <td>0.0</td>\n",
       "    </tr>\n",
       "    <tr>\n",
       "      <th>50%</th>\n",
       "      <td>6.969170e+05</td>\n",
       "      <td>8.881330e+05</td>\n",
       "      <td>10000.000000</td>\n",
       "      <td>10000.000000</td>\n",
       "      <td>9400.605813</td>\n",
       "      <td>13.610000</td>\n",
       "      <td>293.870000</td>\n",
       "      <td>53000.000000</td>\n",
       "      <td>14.290000</td>\n",
       "      <td>0.000000</td>\n",
       "      <td>...</td>\n",
       "      <td>173.050000</td>\n",
       "      <td>2.511600</td>\n",
       "      <td>238.200000</td>\n",
       "      <td>0.0</td>\n",
       "      <td>1.0</td>\n",
       "      <td>0.0</td>\n",
       "      <td>0.0</td>\n",
       "      <td>0.0</td>\n",
       "      <td>0.000000</td>\n",
       "      <td>0.0</td>\n",
       "    </tr>\n",
       "    <tr>\n",
       "      <th>75%</th>\n",
       "      <td>8.548820e+05</td>\n",
       "      <td>1.066599e+06</td>\n",
       "      <td>16500.000000</td>\n",
       "      <td>16000.000000</td>\n",
       "      <td>15000.000000</td>\n",
       "      <td>16.400000</td>\n",
       "      <td>457.925000</td>\n",
       "      <td>75000.000000</td>\n",
       "      <td>19.290000</td>\n",
       "      <td>0.000000</td>\n",
       "      <td>...</td>\n",
       "      <td>595.767500</td>\n",
       "      <td>9.372500</td>\n",
       "      <td>405.887500</td>\n",
       "      <td>0.0</td>\n",
       "      <td>1.0</td>\n",
       "      <td>0.0</td>\n",
       "      <td>0.0</td>\n",
       "      <td>0.0</td>\n",
       "      <td>0.000000</td>\n",
       "      <td>0.0</td>\n",
       "    </tr>\n",
       "    <tr>\n",
       "      <th>max</th>\n",
       "      <td>1.077430e+06</td>\n",
       "      <td>1.314167e+06</td>\n",
       "      <td>35000.000000</td>\n",
       "      <td>35000.000000</td>\n",
       "      <td>35000.000000</td>\n",
       "      <td>24.400000</td>\n",
       "      <td>1305.190000</td>\n",
       "      <td>840000.000000</td>\n",
       "      <td>29.850000</td>\n",
       "      <td>8.000000</td>\n",
       "      <td>...</td>\n",
       "      <td>29623.350000</td>\n",
       "      <td>7002.190000</td>\n",
       "      <td>12818.380000</td>\n",
       "      <td>0.0</td>\n",
       "      <td>1.0</td>\n",
       "      <td>0.0</td>\n",
       "      <td>0.0</td>\n",
       "      <td>0.0</td>\n",
       "      <td>2.000000</td>\n",
       "      <td>0.0</td>\n",
       "    </tr>\n",
       "  </tbody>\n",
       "</table>\n",
       "<p>8 rows × 33 columns</p>\n",
       "</div>"
      ],
      "text/plain": [
       "                 id     member_id     loan_amnt   funded_amnt  \\\n",
       "count  5.626000e+03  5.626000e+03   5626.000000   5626.000000   \n",
       "mean   6.978205e+05  8.677217e+05  12103.732670  11752.683967   \n",
       "std    2.163887e+05  2.723416e+05   8086.302606   7761.020860   \n",
       "min    6.141900e+04  8.035300e+04    900.000000    900.000000   \n",
       "25%    5.297122e+05  6.848970e+05   5600.000000   5562.500000   \n",
       "50%    6.969170e+05  8.881330e+05  10000.000000  10000.000000   \n",
       "75%    8.548820e+05  1.066599e+06  16500.000000  16000.000000   \n",
       "max    1.077430e+06  1.314167e+06  35000.000000  35000.000000   \n",
       "\n",
       "       funded_amnt_inv     int_rate  installment     annual_inc          dti  \\\n",
       "count      5626.000000  5626.000000  5626.000000    5626.000000  5626.000000   \n",
       "mean      10863.652949    13.820579   336.170976   62216.211525    13.999236   \n",
       "std        7662.154617     3.654721   217.070923   45079.747234     6.585339   \n",
       "min           0.000000     5.420000    22.790000    4080.000000     0.000000   \n",
       "25%        5000.000000    11.295000   168.522500   37000.000000     9.050000   \n",
       "50%        9400.605813    13.610000   293.870000   53000.000000    14.290000   \n",
       "75%       15000.000000    16.400000   457.925000   75000.000000    19.290000   \n",
       "max       35000.000000    24.400000  1305.190000  840000.000000    29.850000   \n",
       "\n",
       "       delinq_2yrs  ...    recoveries  collection_recovery_fee  \\\n",
       "count  5626.000000  ...   5626.000000              5626.000000   \n",
       "mean      0.170636  ...    672.217754                87.580860   \n",
       "std       0.535029  ...   1720.873939               386.623347   \n",
       "min       0.000000  ...      0.000000                 0.000000   \n",
       "25%       0.000000  ...      0.000000                 0.000000   \n",
       "50%       0.000000  ...    173.050000                 2.511600   \n",
       "75%       0.000000  ...    595.767500                 9.372500   \n",
       "max       8.000000  ...  29623.350000              7002.190000   \n",
       "\n",
       "       last_pymnt_amnt  collections_12_mths_ex_med  policy_code  \\\n",
       "count      5626.000000                      5620.0       5626.0   \n",
       "mean        326.014998                         0.0          1.0   \n",
       "std         529.029889                         0.0          0.0   \n",
       "min           0.000000                         0.0          1.0   \n",
       "25%         112.827500                         0.0          1.0   \n",
       "50%         238.200000                         0.0          1.0   \n",
       "75%         405.887500                         0.0          1.0   \n",
       "max       12818.380000                         0.0          1.0   \n",
       "\n",
       "       acc_now_delinq  chargeoff_within_12_mths  delinq_amnt  \\\n",
       "count          5626.0                    5620.0       5626.0   \n",
       "mean              0.0                       0.0          0.0   \n",
       "std               0.0                       0.0          0.0   \n",
       "min               0.0                       0.0          0.0   \n",
       "25%               0.0                       0.0          0.0   \n",
       "50%               0.0                       0.0          0.0   \n",
       "75%               0.0                       0.0          0.0   \n",
       "max               0.0                       0.0          0.0   \n",
       "\n",
       "       pub_rec_bankruptcies  tax_liens  \n",
       "count           5508.000000     5625.0  \n",
       "mean               0.067175        0.0  \n",
       "std                0.251794        0.0  \n",
       "min                0.000000        0.0  \n",
       "25%                0.000000        0.0  \n",
       "50%                0.000000        0.0  \n",
       "75%                0.000000        0.0  \n",
       "max                2.000000        0.0  \n",
       "\n",
       "[8 rows x 33 columns]"
      ]
     },
     "execution_count": 31,
     "metadata": {},
     "output_type": "execute_result"
    }
   ],
   "source": [
    "df2 = df1[(df1.annual_inc <10000000) & (df1.loan_status == 'Charged Off')]\n",
    "df2.head()\n",
    "df2.describe()\n"
   ]
  },
  {
   "cell_type": "markdown",
   "id": "576804d0",
   "metadata": {},
   "source": [
    "# Inference from the data above : The charged Off maximum annual income is 840000. We can remove the outliers of annual income above it."
   ]
  },
  {
   "cell_type": "code",
   "execution_count": 32,
   "id": "403b103c",
   "metadata": {},
   "outputs": [],
   "source": [
    "df1 = df1[df1.annual_inc <= 840000]"
   ]
  },
  {
   "cell_type": "code",
   "execution_count": 33,
   "id": "213311b5",
   "metadata": {},
   "outputs": [
    {
     "data": {
      "image/png": "[encoded data removed]",
      "text/plain": [
       "<Figure size 432x288 with 1 Axes>"
      ]
     },
     "metadata": {
      "needs_background": "light"
     },
     "output_type": "display_data"
    }
   ],
   "source": [
    "sns.boxplot(df1.annual_inc,df1.loan_status)\n",
    "plt.show()"
   ]
  },
  {
   "cell_type": "code",
   "execution_count": 34,
   "id": "d4491210",
   "metadata": {},
   "outputs": [
    {
     "data": {
      "image/png": "[encoded data removed]",
      "text/plain": [
       "<Figure size 432x288 with 1 Axes>"
      ]
     },
     "metadata": {
      "needs_background": "light"
     },
     "output_type": "display_data"
    }
   ],
   "source": [
    "sns.boxplot(df1.loan_amnt,df1.loan_status)\n",
    "plt.show()"
   ]
  },
  {
   "cell_type": "code",
   "execution_count": 35,
   "id": "21f22092",
   "metadata": {},
   "outputs": [
    {
     "data": {
      "image/png": "[encoded data removed]",
      "text/plain": [
       "<Figure size 432x288 with 1 Axes>"
      ]
     },
     "metadata": {
      "needs_background": "light"
     },
     "output_type": "display_data"
    }
   ],
   "source": [
    "sns.boxplot(df1.dti,df1.loan_status)\n",
    "plt.show()"
   ]
  },
  {
   "cell_type": "markdown",
   "id": "de619962",
   "metadata": {},
   "source": [
    "# Bivariate analysis"
   ]
  },
  {
   "cell_type": "code",
   "execution_count": 43,
   "id": "c8bd60cd",
   "metadata": {},
   "outputs": [
    {
     "data": {
      "text/plain": [
       "<AxesSubplot:xlabel='loan_status'>"
      ]
     },
     "execution_count": 43,
     "metadata": {},
     "output_type": "execute_result"
    },
    {
     "data": {
      "image/png": "[encoded data removed]",
      "text/plain": [
       "<Figure size 432x288 with 1 Axes>"
      ]
     },
     "metadata": {
      "needs_background": "light"
     },
     "output_type": "display_data"
    }
   ],
   "source": [
    "df1.groupby(['loan_status'])['annual_inc'].mean().plot.bar()\n",
    "#dont make sense could be outliers in annual inc so mean"
   ]
  },
  {
   "cell_type": "code",
   "execution_count": 44,
   "id": "a1407232",
   "metadata": {},
   "outputs": [
    {
     "data": {
      "text/plain": [
       "<AxesSubplot:xlabel='loan_status'>"
      ]
     },
     "execution_count": 44,
     "metadata": {},
     "output_type": "execute_result"
    },
    {
     "data": {
      "image/png": "[encoded data removed]",
      "text/plain": [
       "<Figure size 432x288 with 1 Axes>"
      ]
     },
     "metadata": {
      "needs_background": "light"
     },
     "output_type": "display_data"
    }
   ],
   "source": [
    "df1.groupby(['loan_status'])['annual_inc'].median().plot.bar()"
   ]
  },
  {
   "cell_type": "markdown",
   "id": "a168e72d",
   "metadata": {},
   "source": [
    "# Inference from the data above : There is not much to infer from the mean and median bar plots, hence it would require the process of binning and further analysis"
   ]
  },
  {
   "cell_type": "code",
   "execution_count": 46,
   "id": "792c7f1b",
   "metadata": {},
   "outputs": [],
   "source": [
    "df1['incomeRange']=pd.qcut(df1.annual_inc,[0,0.33,0.66,1],[\"L\",\"M\",\"H\"])"
   ]
  },
  {
   "cell_type": "raw",
   "id": "421035ec",
   "metadata": {},
   "source": [
    "# The qcut method is used to bin the annual income distributed over wide range into alomost equally sized bins."
   ]
  },
  {
   "cell_type": "code",
   "execution_count": 48,
   "id": "40ed5927",
   "metadata": {},
   "outputs": [
    {
     "data": {
      "text/plain": [
       "M    12959\n",
       "L    12806\n",
       "H    12792\n",
       "Name: incomeRange, dtype: int64"
      ]
     },
     "execution_count": 48,
     "metadata": {},
     "output_type": "execute_result"
    }
   ],
   "source": [
    "df1.incomeRange.value_counts()"
   ]
  },
  {
   "cell_type": "code",
   "execution_count": 57,
   "id": "db944b4d",
   "metadata": {},
   "outputs": [],
   "source": [
    "#loan_status of different incomegroup over median loan amount\n",
    "#res=pd.pivot_table(data=df1,index=\"loan_status\",columns =\"incomeRange\",values=\"loan_amnt\",aggfunc=lambda x: np.quantile(x,0.5))\n",
    "res=pd.pivot_table(data=df1,index=\"loan_status\",columns =\"incomeRange\",values=\"loan_amnt\",aggfunc=sum)"
   ]
  },
  {
   "cell_type": "code",
   "execution_count": 58,
   "id": "299af64c",
   "metadata": {},
   "outputs": [
    {
     "data": {
      "text/plain": [
       "<AxesSubplot:xlabel='incomeRange', ylabel='loan_status'>"
      ]
     },
     "execution_count": 58,
     "metadata": {},
     "output_type": "execute_result"
    },
    {
     "data": {
      "image/png": "[encoded data removed]",
      "text/plain": [
       "<Figure size 432x288 with 2 Axes>"
      ]
     },
     "metadata": {
      "needs_background": "light"
     },
     "output_type": "display_data"
    }
   ],
   "source": [
    "##Apply customisations\n",
    "sns.heatmap(res,cmap=\"Greens\",annot=True,fmt='g')"
   ]
  },
  {
   "cell_type": "markdown",
   "id": "820b5526",
   "metadata": {},
   "source": [
    "# Inference from the data above : The Total amount Charged Off is higher for medium income and higher income than the Lower income range people.\n"
   ]
  },
  {
   "cell_type": "code",
   "execution_count": null,
   "id": "91ff883d",
   "metadata": {},
   "outputs": [],
   "source": [
    "#loan_status of different incomegroup over median loan amount\n",
    "dfAnPurpose=df1[['purpose','incomeRange','loan_amnt']]\n",
    "sns.countplot(x=\"incomeRange\",data=dfAnPurpose)"
   ]
  },
  {
   "cell_type": "code",
   "execution_count": null,
   "id": "be610893",
   "metadata": {},
   "outputs": [],
   "source": [
    "#loan_status for different purpose over median loan amount\n",
    "resp=pd.pivot_table(data=df1,index=\"purpose\",columns =\"loan_status\",values=\"loan_amnt\",aggfunc=lambda x: np.quantile(x,0.5))"
   ]
  },
  {
   "cell_type": "code",
   "execution_count": null,
   "id": "3aa621af",
   "metadata": {},
   "outputs": [],
   "source": [
    "sns.heatmap(resp,cmap=\"Greens\",annot=True,fmt='g')"
   ]
  },
  {
   "cell_type": "code",
   "execution_count": null,
   "id": "91f47add",
   "metadata": {},
   "outputs": [],
   "source": [
    "#important\n",
    "# The loan_amount taken for creditcard,debt_consolidation,small_business are among the top defaulted ones\n"
   ]
  },
  {
   "cell_type": "code",
   "execution_count": null,
   "id": "d8ff7c92",
   "metadata": {},
   "outputs": [],
   "source": [
    "resa=pd.pivot_table(data=df1,index=\"purpose\",columns =\"incomeRange\",values=\"loan_amnt\",aggfunc=lambda x: np.quantile(x,0.5))"
   ]
  },
  {
   "cell_type": "code",
   "execution_count": null,
   "id": "b23bc46f",
   "metadata": {},
   "outputs": [],
   "source": [
    "sns.heatmap(resa,cmap=\"Greens\",annot=True,fmt='g')"
   ]
  },
  {
   "cell_type": "code",
   "execution_count": null,
   "id": "1ecba36c",
   "metadata": {},
   "outputs": [],
   "source": [
    "dfannual=df1[['purpose','incomeRange']]\n",
    "resannual=pd.pivot_table(data=dfannual,index=\"purpose\",columns =\"incomeRange\",aggfunc=len)\n",
    "resannual.head()\n"
   ]
  },
  {
   "cell_type": "code",
   "execution_count": null,
   "id": "4890339c",
   "metadata": {},
   "outputs": [],
   "source": [
    "resannual.plot(kind=\"bar\")\n",
    "plt.show()"
   ]
  },
  {
   "cell_type": "code",
   "execution_count": null,
   "id": "f6a84f88",
   "metadata": {},
   "outputs": [],
   "source": [
    "#important\n",
    "#Moderate income group applies more loan mostly for debt_consolidation"
   ]
  },
  {
   "cell_type": "code",
   "execution_count": null,
   "id": "ac19cd79",
   "metadata": {},
   "outputs": [],
   "source": [
    "dfannualdefault=df1[['purpose','incomeRange','loan_status']]\n",
    "dfannualdefault=dfannualdefault[dfannualdefault['loan_status']=='Charged Off']\n",
    "dfannualdefault.head()\n",
    "resannualdef=pd.pivot_table(data=dfannualdefault,index=[\"purpose\",\"loan_status\"],columns =\"incomeRange\",aggfunc=len)\n",
    "resannualdef.head()"
   ]
  },
  {
   "cell_type": "code",
   "execution_count": null,
   "id": "4a5af601",
   "metadata": {},
   "outputs": [],
   "source": [
    "resannualdef['sum']=resannualdef['L']+resannualdef['M']+resannualdef['H']\n",
    "resannualdef['lper']=(resannualdef['L']/resannualdef['sum'])*100\n",
    "resannualdef['mper']=(resannualdef['M']/resannualdef['sum'])*100\n",
    "resannualdef['hper']=(resannualdef['H']/resannualdef['sum'])*100\n",
    "resannualdef.head()\n"
   ]
  },
  {
   "cell_type": "code",
   "execution_count": null,
   "id": "2f660b16",
   "metadata": {},
   "outputs": [],
   "source": [
    "resannualdef.tail()"
   ]
  },
  {
   "cell_type": "code",
   "execution_count": null,
   "id": "18dcecf8",
   "metadata": {},
   "outputs": [],
   "source": [
    "resannualdefper=resannualdef[['lper','mper','hper']]\n",
    "resannualdefper.plot(kind=\"bar\")"
   ]
  },
  {
   "cell_type": "code",
   "execution_count": null,
   "id": "6eb8f196",
   "metadata": {},
   "outputs": [],
   "source": [
    "#important\n",
    "#On percentage analysis,Low income group creates more charge_offs when they apply for educational,moving,renewableenergy loans."
   ]
  },
  {
   "cell_type": "code",
   "execution_count": null,
   "id": "20723909",
   "metadata": {},
   "outputs": [],
   "source": [
    "dfannualpaid=df1[['purpose','incomeRange','loan_status']]\n",
    "dfannualpaid=dfannualpaid[dfannualpaid['loan_status']=='Fully Paid']\n",
    "dfannualpaid.head()\n",
    "resannualpaid=pd.pivot_table(data=dfannualpaid,index=[\"purpose\",\"loan_status\"],columns =\"incomeRange\",aggfunc=len)\n",
    "resannualpaid.head()"
   ]
  },
  {
   "cell_type": "code",
   "execution_count": null,
   "id": "83633de7",
   "metadata": {},
   "outputs": [],
   "source": [
    "resannualpaid['sum']=resannualpaid['L']+resannualpaid['M']+resannualpaid['H']\n",
    "resannualpaid['lper']=(resannualpaid['L']/resannualpaid['sum'])*100\n",
    "resannualpaid['mper']=(resannualpaid['M']/resannualpaid['sum'])*100\n",
    "resannualpaid['hper']=(resannualpaid['H']/resannualpaid['sum'])*100\n",
    "resannualpaid.head()"
   ]
  },
  {
   "cell_type": "code",
   "execution_count": null,
   "id": "82aaea22",
   "metadata": {},
   "outputs": [],
   "source": [
    "resannualpaidper=resannualpaid[['lper','mper','hper']]\n",
    "resannualpaidper.plot(kind=\"bar\")"
   ]
  },
  {
   "cell_type": "code",
   "execution_count": null,
   "id": "e8884f98",
   "metadata": {},
   "outputs": [],
   "source": [
    "#important\n",
    "#Medium income group fully pays debtconsolidation loans.But Low income makes chargeoffs\n",
    "#Low income group is highest in paying educational loans fully but they are also high in making chargedoffs in the same category"
   ]
  },
  {
   "cell_type": "code",
   "execution_count": null,
   "id": "08d31d24",
   "metadata": {},
   "outputs": [],
   "source": []
  },
  {
   "cell_type": "code",
   "execution_count": null,
   "id": "da3ba062",
   "metadata": {},
   "outputs": [],
   "source": []
  },
  {
   "cell_type": "code",
   "execution_count": null,
   "id": "0586e7a7",
   "metadata": {},
   "outputs": [],
   "source": []
  },
  {
   "cell_type": "code",
   "execution_count": null,
   "id": "01c76c14",
   "metadata": {},
   "outputs": [],
   "source": [
    "df1.groupby(['purpose'])['loan_status'].value_counts().plot.bar()\n",
    "#The largest number of loan is taken for debt_consolidation"
   ]
  },
  {
   "cell_type": "code",
   "execution_count": null,
   "id": "af8ac34e",
   "metadata": {},
   "outputs": [],
   "source": [
    "df1.dtypes"
   ]
  },
  {
   "cell_type": "code",
   "execution_count": null,
   "id": "f326706b",
   "metadata": {},
   "outputs": [],
   "source": [
    "dfdelinq=df1[['id','loan_amnt','loan_status','delinq_2yrs','mths_since_last_delinq','acc_now_delinq','chargeoff_within_12_mths','incomeRange','delinq_amnt','grade']]\n",
    "dfdelinq.head()"
   ]
  },
  {
   "cell_type": "code",
   "execution_count": null,
   "id": "f1a5c4f7",
   "metadata": {},
   "outputs": [],
   "source": [
    "sns.barplot(data=dfdelinq,x='grade',y='mths_since_last_delinq',estimator =np.median)\n",
    "plt.show()"
   ]
  },
  {
   "cell_type": "code",
   "execution_count": null,
   "id": "1a057f83",
   "metadata": {
    "scrolled": true
   },
   "outputs": [],
   "source": [
    "dfdelinq.dtypes"
   ]
  },
  {
   "cell_type": "code",
   "execution_count": null,
   "id": "9ece14e9",
   "metadata": {},
   "outputs": [],
   "source": [
    "dfdelinq.mths_since_last_delinq.value_counts()"
   ]
  },
  {
   "cell_type": "code",
   "execution_count": null,
   "id": "0556729d",
   "metadata": {},
   "outputs": [],
   "source": [
    "dfdelinq.delinq_2yrs.value_counts()"
   ]
  },
  {
   "cell_type": "code",
   "execution_count": null,
   "id": "2ea02f05",
   "metadata": {},
   "outputs": [],
   "source": [
    "dfdelinq.acc_now_delinq.value_counts()"
   ]
  },
  {
   "cell_type": "code",
   "execution_count": null,
   "id": "0eefc74f",
   "metadata": {},
   "outputs": [],
   "source": [
    "dfdelinq.mths_since_last_delinq.isnull().sum()"
   ]
  },
  {
   "cell_type": "code",
   "execution_count": null,
   "id": "44753469",
   "metadata": {},
   "outputs": [],
   "source": [
    "dfdelinq=dfdelinq[~dfdelinq.mths_since_last_delinq.isnull()]\n",
    "dfdelinq.dtypes"
   ]
  },
  {
   "cell_type": "code",
   "execution_count": null,
   "id": "2a45ec71",
   "metadata": {},
   "outputs": [],
   "source": [
    "dfdelinq.grade.value_counts()"
   ]
  },
  {
   "cell_type": "code",
   "execution_count": null,
   "id": "e8895977",
   "metadata": {},
   "outputs": [],
   "source": [
    "sns.barplot(data=dfdelinq,x='grade',y='mths_since_last_delinq',estimator =np.median)\n",
    "plt.show()"
   ]
  },
  {
   "cell_type": "code",
   "execution_count": null,
   "id": "4205ad3e",
   "metadata": {},
   "outputs": [],
   "source": [
    "#People in low risk A,B,C,D does not have much delinques in last months.Their mths_since_last_delinq tend to be higher"
   ]
  },
  {
   "cell_type": "code",
   "execution_count": null,
   "id": "a9eb9da0",
   "metadata": {},
   "outputs": [],
   "source": [
    "df1.groupby(['grade'])['loan_status'].count().plot.bar()"
   ]
  },
  {
   "cell_type": "code",
   "execution_count": null,
   "id": "5426a1be",
   "metadata": {},
   "outputs": [],
   "source": [
    "dfrisk=df1[['grade','loan_status']]\n",
    "resrisk=pd.pivot_table(data=dfrisk,index=\"grade\",columns =\"loan_status\",aggfunc=len)\n"
   ]
  },
  {
   "cell_type": "code",
   "execution_count": null,
   "id": "c42d6b62",
   "metadata": {},
   "outputs": [],
   "source": [
    "resrisk.plot(kind=\"bar\")\n",
    "plt.show()"
   ]
  },
  {
   "cell_type": "code",
   "execution_count": null,
   "id": "020e4a2a",
   "metadata": {},
   "outputs": [],
   "source": [
    "#important\n",
    "#Chance of getting loan of high risk group is minimal. 'A' grade loans represent the lowest risk while 'G' grade loans are the riskiest."
   ]
  },
  {
   "cell_type": "code",
   "execution_count": null,
   "id": "37de94a8",
   "metadata": {},
   "outputs": [],
   "source": [
    "df1.groupby(['grade'])['loan_amnt'].median().plot.bar()"
   ]
  },
  {
   "cell_type": "code",
   "execution_count": null,
   "id": "96ad05f7",
   "metadata": {},
   "outputs": [],
   "source": [
    "#importaant\n",
    "#The median amount of loan taken by high risk group will be higher"
   ]
  },
  {
   "cell_type": "code",
   "execution_count": null,
   "id": "e7beda00",
   "metadata": {},
   "outputs": [],
   "source": [
    "sns.barplot(data=df1,x='grade',y='loan_amnt',estimator =np.min)\n",
    "plt.show()"
   ]
  },
  {
   "cell_type": "code",
   "execution_count": null,
   "id": "b983d30c",
   "metadata": {},
   "outputs": [],
   "source": [
    "resg=pd.pivot_table(data=df1,index=\"purpose\",columns =\"grade\",values=\"loan_amnt\",aggfunc=lambda x: np.quantile(x,0.5))"
   ]
  },
  {
   "cell_type": "code",
   "execution_count": null,
   "id": "eab1078e",
   "metadata": {},
   "outputs": [],
   "source": [
    "sns.heatmap(resg,cmap=\"Greens\",annot=True,fmt='g')"
   ]
  },
  {
   "cell_type": "code",
   "execution_count": null,
   "id": "72c94042",
   "metadata": {},
   "outputs": [],
   "source": [
    "#important\n",
    "#High risk group needs loan more for credit_Card,medical,home_improvement purposes"
   ]
  },
  {
   "cell_type": "code",
   "execution_count": null,
   "id": "d7da6e08",
   "metadata": {},
   "outputs": [],
   "source": [
    "dfriskdefault=df1[['grade','incomeRange','loan_status']]\n",
    "dfriskdefault=dfriskdefault[dfriskdefault['loan_status']=='Charged Off']\n",
    "dfriskdefault.head()\n"
   ]
  },
  {
   "cell_type": "code",
   "execution_count": null,
   "id": "f12b6782",
   "metadata": {},
   "outputs": [],
   "source": [
    "resriskdft=pd.pivot_table(data=dfriskdefault,index=['grade'],columns =[\"loan_status\",'incomeRange'],aggfunc=len)\n"
   ]
  },
  {
   "cell_type": "code",
   "execution_count": null,
   "id": "a3e180cf",
   "metadata": {},
   "outputs": [],
   "source": [
    "resriskdft.head()"
   ]
  },
  {
   "cell_type": "code",
   "execution_count": null,
   "id": "da51eb98",
   "metadata": {},
   "outputs": [],
   "source": [
    "resriskdft.plot(kind='bar')"
   ]
  },
  {
   "cell_type": "code",
   "execution_count": null,
   "id": "1c6ea750",
   "metadata": {},
   "outputs": [],
   "source": [
    "#important this shows largest number of chargeoff occured in risk group 'B'.But the truth is the number of total loans in RiskGroup B also will be higher.so we have to take percentage"
   ]
  },
  {
   "cell_type": "code",
   "execution_count": null,
   "id": "cf2c8c67",
   "metadata": {},
   "outputs": [],
   "source": [
    "resrisk[\"Total\"]=resrisk[\"Charged Off\"]++resrisk[\"Fully Paid\"]\n",
    "resrisk[\"perOff\"]=(resrisk[\"Charged Off\"]/resrisk[\"Total\"])*100\n",
    "resrisk.head()\n",
    "plotrisk=resrisk[['perOff']]\n",
    "plotrisk.head()"
   ]
  },
  {
   "cell_type": "code",
   "execution_count": null,
   "id": "d19d5007",
   "metadata": {},
   "outputs": [],
   "source": [
    "plotrisk.plot(kind=\"bar\")\n",
    "plt.show()"
   ]
  },
  {
   "cell_type": "code",
   "execution_count": null,
   "id": "1443bbd0",
   "metadata": {},
   "outputs": [],
   "source": [
    "#important \n",
    "#The percentage of chargeoff increases with risk"
   ]
  },
  {
   "cell_type": "code",
   "execution_count": null,
   "id": "7b74a2bd",
   "metadata": {},
   "outputs": [],
   "source": [
    "#years in employment\n",
    "\n"
   ]
  },
  {
   "cell_type": "code",
   "execution_count": null,
   "id": "555b5f62",
   "metadata": {},
   "outputs": [],
   "source": [
    "df1.dtypes"
   ]
  },
  {
   "cell_type": "code",
   "execution_count": null,
   "id": "80221757",
   "metadata": {},
   "outputs": [],
   "source": []
  },
  {
   "cell_type": "code",
   "execution_count": null,
   "id": "dbc7380d",
   "metadata": {},
   "outputs": [],
   "source": [
    "df1.term.value_counts()"
   ]
  },
  {
   "cell_type": "code",
   "execution_count": null,
   "id": "fc7316ea",
   "metadata": {},
   "outputs": [],
   "source": [
    "df1.term.isnull().sum()"
   ]
  },
  {
   "cell_type": "code",
   "execution_count": null,
   "id": "67acbc98",
   "metadata": {},
   "outputs": [],
   "source": [
    "dfempl=df1[['emp_length','term']]\n",
    "resempl=pd.pivot_table(data=dfempl,index=['emp_length'],columns =['term'],aggfunc=len)\n"
   ]
  },
  {
   "cell_type": "code",
   "execution_count": null,
   "id": "3804b769",
   "metadata": {},
   "outputs": [],
   "source": [
    "resempl.head()"
   ]
  },
  {
   "cell_type": "code",
   "execution_count": null,
   "id": "3d47f487",
   "metadata": {},
   "outputs": [],
   "source": [
    "resempl.plot(kind=\"bar\")"
   ]
  },
  {
   "cell_type": "code",
   "execution_count": null,
   "id": "12bf7ec6",
   "metadata": {},
   "outputs": [],
   "source": [
    "#important\n",
    "#short term loans are mostly requested among all employee groups"
   ]
  },
  {
   "cell_type": "code",
   "execution_count": null,
   "id": "c9531330",
   "metadata": {},
   "outputs": [],
   "source": [
    "dfemplgrade=df1[['grade','term']]\n",
    "resemplg=pd.pivot_table(data=dfemplgrade,index=['grade'],columns =['term'],aggfunc=len)\n",
    "resemplg.head()"
   ]
  },
  {
   "cell_type": "code",
   "execution_count": null,
   "id": "49542164",
   "metadata": {},
   "outputs": [],
   "source": [
    "resemplg.plot(kind=\"bar\")"
   ]
  },
  {
   "cell_type": "code",
   "execution_count": null,
   "id": "2b98d2cf",
   "metadata": {},
   "outputs": [],
   "source": [
    "#important\n",
    "#Short term loans are mostly preferred over long term with people with good credit score."
   ]
  },
  {
   "cell_type": "code",
   "execution_count": null,
   "id": "7a0297c0",
   "metadata": {},
   "outputs": [],
   "source": [
    "plt.show()"
   ]
  },
  {
   "cell_type": "code",
   "execution_count": null,
   "id": "e7431722",
   "metadata": {},
   "outputs": [],
   "source": [
    "dfemplstat=df1[['emp_length','loan_status']]\n",
    "#func = lambda x: 100*x.count()/dfemplstat.shape[0]\n",
    "resemplstat=pd.pivot_table(data=dfemplstat,index=['emp_length'],columns =['loan_status'],aggfunc=len)\n"
   ]
  },
  {
   "cell_type": "code",
   "execution_count": null,
   "id": "e32d48ea",
   "metadata": {},
   "outputs": [],
   "source": [
    "resemplstat.head()\n"
   ]
  },
  {
   "cell_type": "code",
   "execution_count": null,
   "id": "6e8fbdd3",
   "metadata": {},
   "outputs": [],
   "source": [
    "resemplstat['Total']=resemplstat['Charged Off']+resemplstat['Fully Paid']\n",
    "resemplstat['perOff']=resemplstat['Charged Off']/resemplstat['Total']*100\n",
    "resemplstat.head()"
   ]
  },
  {
   "cell_type": "code",
   "execution_count": null,
   "id": "d915de94",
   "metadata": {},
   "outputs": [],
   "source": [
    "#important\n",
    "#People with O employeement length have more percentage of chargeoff."
   ]
  },
  {
   "cell_type": "code",
   "execution_count": null,
   "id": "efb046d8",
   "metadata": {},
   "outputs": [],
   "source": [
    "resemplstatplt=resemplstat[['perOff']]\n",
    "resemplstatplt.plot(kind=\"bar\")\n"
   ]
  },
  {
   "cell_type": "code",
   "execution_count": null,
   "id": "03980392",
   "metadata": {},
   "outputs": [],
   "source": [
    "#dti analysis\n",
    "#A debt-to-income ratio (DTI) is a personal finance measure that compares the amount of debt you have to your overall income. Lenders, including issuers of mortgages, use it as a way to measure your ability to manage the payments you make each month and repay the money you have borrowed.\n",
    "#Measuring dti against loan status\n",
    "df1.dti.value_counts()"
   ]
  },
  {
   "cell_type": "code",
   "execution_count": null,
   "id": "88c409f7",
   "metadata": {},
   "outputs": [],
   "source": [
    "df1.dti.isnull().sum()"
   ]
  },
  {
   "cell_type": "code",
   "execution_count": null,
   "id": "40aebf9e",
   "metadata": {},
   "outputs": [],
   "source": [
    "df1['dtiRange']=pd.qcut(df1.dti,[0,0.33,0.66,1],[\"L\",\"M\",\"H\"])\n",
    "df1[['dti','dtiRange']]"
   ]
  },
  {
   "cell_type": "code",
   "execution_count": null,
   "id": "c6534371",
   "metadata": {},
   "outputs": [],
   "source": []
  },
  {
   "cell_type": "code",
   "execution_count": null,
   "id": "5664f66c",
   "metadata": {},
   "outputs": [],
   "source": [
    "dfdtRange=df1[['loan_status','dtiRange']]\n",
    "dfdtRange.head()"
   ]
  },
  {
   "cell_type": "code",
   "execution_count": null,
   "id": "b086707e",
   "metadata": {},
   "outputs": [],
   "source": [
    "resdti=pd.pivot_table(data=dfdtRange,index=['dtiRange'],columns =['loan_status'],aggfunc=len)\n",
    "resdti.head()"
   ]
  },
  {
   "cell_type": "code",
   "execution_count": null,
   "id": "0882e303",
   "metadata": {},
   "outputs": [],
   "source": []
  },
  {
   "cell_type": "code",
   "execution_count": null,
   "id": "3e2b2ddf",
   "metadata": {},
   "outputs": [],
   "source": [
    "resdti.plot(kind=\"bar\")"
   ]
  },
  {
   "cell_type": "code",
   "execution_count": null,
   "id": "2fe9e87f",
   "metadata": {},
   "outputs": [],
   "source": [
    "resdtplt = resdti[['Charged Off']]\n",
    "resdtplt.plot(kind='bar')"
   ]
  },
  {
   "cell_type": "code",
   "execution_count": null,
   "id": "2cfb2cb3",
   "metadata": {},
   "outputs": [],
   "source": [
    "#important\n",
    "#dtiRange high will make higher chargeOff"
   ]
  },
  {
   "cell_type": "code",
   "execution_count": null,
   "id": "dea30d39",
   "metadata": {},
   "outputs": [],
   "source": [
    "#implementing with cut"
   ]
  },
  {
   "cell_type": "code",
   "execution_count": null,
   "id": "38fd5a19",
   "metadata": {},
   "outputs": [],
   "source": [
    "#checking qcut and cut\n",
    "df1['dtibitRange'] =pd.cut(x=df1['dti'], bins=(0,10,30,45))\n",
    "df1[['dti','dtiRange','dtibitRange']]"
   ]
  },
  {
   "cell_type": "code",
   "execution_count": null,
   "id": "012550b4",
   "metadata": {},
   "outputs": [],
   "source": [
    "dfdtRange1=df1[['loan_status','dtibitRange']]\n",
    "dfdtRange1.head()"
   ]
  },
  {
   "cell_type": "code",
   "execution_count": null,
   "id": "7dfe3801",
   "metadata": {},
   "outputs": [],
   "source": [
    "dfdtRange1.dtibitRange.value_counts()"
   ]
  },
  {
   "cell_type": "code",
   "execution_count": null,
   "id": "e35faa1e",
   "metadata": {},
   "outputs": [],
   "source": [
    "resdti1=pd.pivot_table(data=dfdtRange1,index=['dtibitRange'],columns =['loan_status'],aggfunc=len)\n",
    "resdti1.head()"
   ]
  },
  {
   "cell_type": "code",
   "execution_count": null,
   "id": "002d8707",
   "metadata": {},
   "outputs": [],
   "source": [
    "resdti1.plot(kind=\"bar\")"
   ]
  },
  {
   "cell_type": "code",
   "execution_count": null,
   "id": "694c00ab",
   "metadata": {},
   "outputs": [],
   "source": [
    "resdtplt1 = resdti1[['Charged Off']]\n",
    "resdtplt1.plot(kind='bar')"
   ]
  },
  {
   "cell_type": "code",
   "execution_count": null,
   "id": "e9a28cdf",
   "metadata": {},
   "outputs": [],
   "source": [
    "#important\n",
    "#Chargeoffs are higher in high dti range"
   ]
  },
  {
   "cell_type": "code",
   "execution_count": null,
   "id": "81d5bc5e",
   "metadata": {},
   "outputs": [],
   "source": [
    "#important \n",
    "#Checking whether int_rate hinders payment of lowincome group for educational purpose loans\n",
    "dfLowIncome=df1[['incomeRange','loan_status','term','int_rate','grade','purpose']]\n",
    "dfLowIncome.head()"
   ]
  },
  {
   "cell_type": "code",
   "execution_count": null,
   "id": "468b5957",
   "metadata": {},
   "outputs": [],
   "source": [
    "dfLowIncome=dfLowIncome[dfLowIncome.incomeRange =='L']\n",
    "dfLowIncome=dfLowIncome[dfLowIncome.purpose =='educational']\n",
    "dfLowIncome.head()"
   ]
  },
  {
   "cell_type": "code",
   "execution_count": null,
   "id": "281283cc",
   "metadata": {},
   "outputs": [],
   "source": [
    "dfLowIncome.int_rate.value_counts()\n",
    "dfLowIncome.dtypes"
   ]
  },
  {
   "cell_type": "code",
   "execution_count": null,
   "id": "adebe9a1",
   "metadata": {},
   "outputs": [],
   "source": [
    "dfLowIncome.int_rate=dfLowIncome.int_rate.str.replace('%','')\n",
    "dfLowIncome.int_rate.value_counts()"
   ]
  },
  {
   "cell_type": "code",
   "execution_count": null,
   "id": "39e58de9",
   "metadata": {},
   "outputs": [],
   "source": [
    "dfLowIncome.isnull().sum()"
   ]
  },
  {
   "cell_type": "code",
   "execution_count": null,
   "id": "be7ad0af",
   "metadata": {},
   "outputs": [],
   "source": [
    "\n"
   ]
  },
  {
   "cell_type": "code",
   "execution_count": null,
   "id": "498a301c",
   "metadata": {},
   "outputs": [],
   "source": [
    "dfLowIncome['intRange']=pd.qcut(dfLowIncome.int_rate,[0,0.33,0.66,1],[\"L\",\"M\",\"H\"])\n",
    "dfLowIncome=dfLowIncome[['loan_status','term','intRange']]"
   ]
  },
  {
   "cell_type": "code",
   "execution_count": null,
   "id": "0a095421",
   "metadata": {},
   "outputs": [],
   "source": [
    "resLincome=pd.pivot_table(data=dfLowIncome,index=[\"loan_status\",\"term\"],columns =[\"intRange\"],aggfunc=len)\n",
    "resLincome.head()"
   ]
  },
  {
   "cell_type": "code",
   "execution_count": null,
   "id": "60f2526f",
   "metadata": {},
   "outputs": [],
   "source": []
  },
  {
   "cell_type": "code",
   "execution_count": null,
   "id": "a48c8341",
   "metadata": {},
   "outputs": [],
   "source": [
    "resLincome['Total']=resLincome['L']+resLincome['M']+resLincome['H']\n",
    "resLincome['perL']=resLincome['L']/resLincome['Total']*100\n",
    "resLincome['perM']=resLincome['M']/resLincome['Total']*100\n",
    "resLincome['perH']=resLincome['H']/resLincome['Total']*100\n",
    "resLincome.head()"
   ]
  },
  {
   "cell_type": "code",
   "execution_count": null,
   "id": "e8c5dac4",
   "metadata": {},
   "outputs": [],
   "source": [
    "resIncPer=resLincome[['perL','perM','perH']]\n",
    "#For low income group, the chargeoff will be higher in case of longterm"
   ]
  },
  {
   "cell_type": "code",
   "execution_count": null,
   "id": "dcadaa95",
   "metadata": {},
   "outputs": [],
   "source": [
    "resIncPer.head()"
   ]
  },
  {
   "cell_type": "code",
   "execution_count": null,
   "id": "99d37090",
   "metadata": {},
   "outputs": [],
   "source": [
    "resIncPer.plot(kind=\"bar\")"
   ]
  },
  {
   "cell_type": "code",
   "execution_count": null,
   "id": "58207b0f",
   "metadata": {},
   "outputs": [],
   "source": [
    "#important\n",
    "#For education loans chargeoff occurs when interest rate is high and term is short in low income group\n",
    "#If the term is long, high interest loans are also getting paid\n"
   ]
  }
 ],
 "metadata": {
  "kernelspec": {
   "display_name": "Python 3 (ipykernel)",
   "language": "python",
   "name": "python3"
  },
  "language_info": {
   "codemirror_mode": {
    "name": "ipython",
    "version": 3
   },
   "file_extension": ".py",
   "mimetype": "text/x-python",
   "name": "python",
   "nbconvert_exporter": "python",
   "pygments_lexer": "ipython3",
   "version": "3.9.6"
  }
 },
 "nbformat": 4,
 "nbformat_minor": 5
}
