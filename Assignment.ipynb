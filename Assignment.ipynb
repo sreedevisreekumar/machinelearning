{
 "cells": [
  {
   "cell_type": "markdown",
   "id": "4198bf4f",
   "metadata": {},
   "source": [
    "# Lending Club Case Study - Sreekumar N.P."
   ]
  },
  {
   "cell_type": "markdown",
   "id": "08903e4e",
   "metadata": {},
   "source": [
    "Problem Statement :\n",
    "Lending Club requires me to analyze all patterns and dependencies of the Loan defaulters and provide them with recommendations to identify such applicants."
   ]
  },
  {
   "cell_type": "code",
   "execution_count": 1,
   "id": "eb3ed7be",
   "metadata": {},
   "outputs": [],
   "source": [
    "#import the libraries\n",
    "import pandas as pd,numpy as np\n",
    "import warnings\n",
    "warnings.filterwarnings(\"ignore\")\n",
    "#import the plotting libraries\n",
    "import matplotlib.pyplot as plt\n",
    "%matplotlib inline\n",
    "import seaborn as sns"
   ]
  },
  {
   "cell_type": "markdown",
   "id": "24b73331",
   "metadata": {},
   "source": [
    "# Step1 : Data Understanding"
   ]
  },
  {
   "cell_type": "code",
   "execution_count": 2,
   "id": "fd8e537b",
   "metadata": {},
   "outputs": [
    {
     "data": {
      "text/html": [
       "<div>\n",
       "<style scoped>\n",
       "    .dataframe tbody tr th:only-of-type {\n",
       "        vertical-align: middle;\n",
       "    }\n",
       "\n",
       "    .dataframe tbody tr th {\n",
       "        vertical-align: top;\n",
       "    }\n",
       "\n",
       "    .dataframe thead th {\n",
       "        text-align: right;\n",
       "    }\n",
       "</style>\n",
       "<table border=\"1\" class=\"dataframe\">\n",
       "  <thead>\n",
       "    <tr style=\"text-align: right;\">\n",
       "      <th></th>\n",
       "      <th>id</th>\n",
       "      <th>member_id</th>\n",
       "      <th>loan_amnt</th>\n",
       "      <th>funded_amnt</th>\n",
       "      <th>funded_amnt_inv</th>\n",
       "      <th>term</th>\n",
       "      <th>int_rate</th>\n",
       "      <th>installment</th>\n",
       "      <th>grade</th>\n",
       "      <th>sub_grade</th>\n",
       "      <th>...</th>\n",
       "      <th>num_tl_90g_dpd_24m</th>\n",
       "      <th>num_tl_op_past_12m</th>\n",
       "      <th>pct_tl_nvr_dlq</th>\n",
       "      <th>percent_bc_gt_75</th>\n",
       "      <th>pub_rec_bankruptcies</th>\n",
       "      <th>tax_liens</th>\n",
       "      <th>tot_hi_cred_lim</th>\n",
       "      <th>total_bal_ex_mort</th>\n",
       "      <th>total_bc_limit</th>\n",
       "      <th>total_il_high_credit_limit</th>\n",
       "    </tr>\n",
       "  </thead>\n",
       "  <tbody>\n",
       "    <tr>\n",
       "      <th>0</th>\n",
       "      <td>1077501</td>\n",
       "      <td>1296599</td>\n",
       "      <td>5000</td>\n",
       "      <td>5000</td>\n",
       "      <td>4975.0</td>\n",
       "      <td>36 months</td>\n",
       "      <td>10.65%</td>\n",
       "      <td>162.87</td>\n",
       "      <td>B</td>\n",
       "      <td>B2</td>\n",
       "      <td>...</td>\n",
       "      <td>NaN</td>\n",
       "      <td>NaN</td>\n",
       "      <td>NaN</td>\n",
       "      <td>NaN</td>\n",
       "      <td>0.0</td>\n",
       "      <td>0.0</td>\n",
       "      <td>NaN</td>\n",
       "      <td>NaN</td>\n",
       "      <td>NaN</td>\n",
       "      <td>NaN</td>\n",
       "    </tr>\n",
       "    <tr>\n",
       "      <th>1</th>\n",
       "      <td>1077430</td>\n",
       "      <td>1314167</td>\n",
       "      <td>2500</td>\n",
       "      <td>2500</td>\n",
       "      <td>2500.0</td>\n",
       "      <td>60 months</td>\n",
       "      <td>15.27%</td>\n",
       "      <td>59.83</td>\n",
       "      <td>C</td>\n",
       "      <td>C4</td>\n",
       "      <td>...</td>\n",
       "      <td>NaN</td>\n",
       "      <td>NaN</td>\n",
       "      <td>NaN</td>\n",
       "      <td>NaN</td>\n",
       "      <td>0.0</td>\n",
       "      <td>0.0</td>\n",
       "      <td>NaN</td>\n",
       "      <td>NaN</td>\n",
       "      <td>NaN</td>\n",
       "      <td>NaN</td>\n",
       "    </tr>\n",
       "    <tr>\n",
       "      <th>2</th>\n",
       "      <td>1077175</td>\n",
       "      <td>1313524</td>\n",
       "      <td>2400</td>\n",
       "      <td>2400</td>\n",
       "      <td>2400.0</td>\n",
       "      <td>36 months</td>\n",
       "      <td>15.96%</td>\n",
       "      <td>84.33</td>\n",
       "      <td>C</td>\n",
       "      <td>C5</td>\n",
       "      <td>...</td>\n",
       "      <td>NaN</td>\n",
       "      <td>NaN</td>\n",
       "      <td>NaN</td>\n",
       "      <td>NaN</td>\n",
       "      <td>0.0</td>\n",
       "      <td>0.0</td>\n",
       "      <td>NaN</td>\n",
       "      <td>NaN</td>\n",
       "      <td>NaN</td>\n",
       "      <td>NaN</td>\n",
       "    </tr>\n",
       "    <tr>\n",
       "      <th>3</th>\n",
       "      <td>1076863</td>\n",
       "      <td>1277178</td>\n",
       "      <td>10000</td>\n",
       "      <td>10000</td>\n",
       "      <td>10000.0</td>\n",
       "      <td>36 months</td>\n",
       "      <td>13.49%</td>\n",
       "      <td>339.31</td>\n",
       "      <td>C</td>\n",
       "      <td>C1</td>\n",
       "      <td>...</td>\n",
       "      <td>NaN</td>\n",
       "      <td>NaN</td>\n",
       "      <td>NaN</td>\n",
       "      <td>NaN</td>\n",
       "      <td>0.0</td>\n",
       "      <td>0.0</td>\n",
       "      <td>NaN</td>\n",
       "      <td>NaN</td>\n",
       "      <td>NaN</td>\n",
       "      <td>NaN</td>\n",
       "    </tr>\n",
       "    <tr>\n",
       "      <th>4</th>\n",
       "      <td>1075358</td>\n",
       "      <td>1311748</td>\n",
       "      <td>3000</td>\n",
       "      <td>3000</td>\n",
       "      <td>3000.0</td>\n",
       "      <td>60 months</td>\n",
       "      <td>12.69%</td>\n",
       "      <td>67.79</td>\n",
       "      <td>B</td>\n",
       "      <td>B5</td>\n",
       "      <td>...</td>\n",
       "      <td>NaN</td>\n",
       "      <td>NaN</td>\n",
       "      <td>NaN</td>\n",
       "      <td>NaN</td>\n",
       "      <td>0.0</td>\n",
       "      <td>0.0</td>\n",
       "      <td>NaN</td>\n",
       "      <td>NaN</td>\n",
       "      <td>NaN</td>\n",
       "      <td>NaN</td>\n",
       "    </tr>\n",
       "  </tbody>\n",
       "</table>\n",
       "<p>5 rows × 111 columns</p>\n",
       "</div>"
      ],
      "text/plain": [
       "        id  member_id  loan_amnt  funded_amnt  funded_amnt_inv        term  \\\n",
       "0  1077501    1296599       5000         5000           4975.0   36 months   \n",
       "1  1077430    1314167       2500         2500           2500.0   60 months   \n",
       "2  1077175    1313524       2400         2400           2400.0   36 months   \n",
       "3  1076863    1277178      10000        10000          10000.0   36 months   \n",
       "4  1075358    1311748       3000         3000           3000.0   60 months   \n",
       "\n",
       "  int_rate  installment grade sub_grade  ... num_tl_90g_dpd_24m  \\\n",
       "0   10.65%       162.87     B        B2  ...                NaN   \n",
       "1   15.27%        59.83     C        C4  ...                NaN   \n",
       "2   15.96%        84.33     C        C5  ...                NaN   \n",
       "3   13.49%       339.31     C        C1  ...                NaN   \n",
       "4   12.69%        67.79     B        B5  ...                NaN   \n",
       "\n",
       "  num_tl_op_past_12m pct_tl_nvr_dlq  percent_bc_gt_75 pub_rec_bankruptcies  \\\n",
       "0                NaN            NaN               NaN                  0.0   \n",
       "1                NaN            NaN               NaN                  0.0   \n",
       "2                NaN            NaN               NaN                  0.0   \n",
       "3                NaN            NaN               NaN                  0.0   \n",
       "4                NaN            NaN               NaN                  0.0   \n",
       "\n",
       "  tax_liens tot_hi_cred_lim total_bal_ex_mort total_bc_limit  \\\n",
       "0       0.0             NaN               NaN            NaN   \n",
       "1       0.0             NaN               NaN            NaN   \n",
       "2       0.0             NaN               NaN            NaN   \n",
       "3       0.0             NaN               NaN            NaN   \n",
       "4       0.0             NaN               NaN            NaN   \n",
       "\n",
       "  total_il_high_credit_limit  \n",
       "0                        NaN  \n",
       "1                        NaN  \n",
       "2                        NaN  \n",
       "3                        NaN  \n",
       "4                        NaN  \n",
       "\n",
       "[5 rows x 111 columns]"
      ]
     },
     "execution_count": 2,
     "metadata": {},
     "output_type": "execute_result"
    }
   ],
   "source": [
    "#read the dataset and check the first five rows to Check if the data in the data frame is consistent such that there \n",
    "#is no misplaced data between columns.\n",
    "\n",
    "df1=pd.read_csv(\"loan.csv\")\n",
    "df1.head()"
   ]
  },
  {
   "cell_type": "code",
   "execution_count": 3,
   "id": "78f055ec",
   "metadata": {},
   "outputs": [
    {
     "data": {
      "text/plain": [
       "(39717, 111)"
      ]
     },
     "execution_count": 3,
     "metadata": {},
     "output_type": "execute_result"
    }
   ],
   "source": [
    "#Check the shape of the dataframe\n",
    "df1.shape\n"
   ]
  },
  {
   "cell_type": "code",
   "execution_count": 4,
   "id": "7382adca",
   "metadata": {},
   "outputs": [
    {
     "name": "stdout",
     "output_type": "stream",
     "text": [
      "<class 'pandas.core.frame.DataFrame'>\n",
      "RangeIndex: 39717 entries, 0 to 39716\n",
      "Columns: 111 entries, id to total_il_high_credit_limit\n",
      "dtypes: float64(74), int64(13), object(24)\n",
      "memory usage: 33.6+ MB\n"
     ]
    }
   ],
   "source": [
    "#Check the information related to the dataframe to see if the quantitative values are int/float \n",
    "#and categorical is object / String\n",
    "\n",
    "df1.info()"
   ]
  },
  {
   "cell_type": "code",
   "execution_count": 5,
   "id": "68515b89",
   "metadata": {},
   "outputs": [
    {
     "data": {
      "text/html": [
       "<div>\n",
       "<style scoped>\n",
       "    .dataframe tbody tr th:only-of-type {\n",
       "        vertical-align: middle;\n",
       "    }\n",
       "\n",
       "    .dataframe tbody tr th {\n",
       "        vertical-align: top;\n",
       "    }\n",
       "\n",
       "    .dataframe thead th {\n",
       "        text-align: right;\n",
       "    }\n",
       "</style>\n",
       "<table border=\"1\" class=\"dataframe\">\n",
       "  <thead>\n",
       "    <tr style=\"text-align: right;\">\n",
       "      <th></th>\n",
       "      <th>id</th>\n",
       "      <th>member_id</th>\n",
       "      <th>loan_amnt</th>\n",
       "      <th>funded_amnt</th>\n",
       "      <th>funded_amnt_inv</th>\n",
       "      <th>installment</th>\n",
       "      <th>annual_inc</th>\n",
       "      <th>dti</th>\n",
       "      <th>delinq_2yrs</th>\n",
       "      <th>inq_last_6mths</th>\n",
       "      <th>...</th>\n",
       "      <th>num_tl_90g_dpd_24m</th>\n",
       "      <th>num_tl_op_past_12m</th>\n",
       "      <th>pct_tl_nvr_dlq</th>\n",
       "      <th>percent_bc_gt_75</th>\n",
       "      <th>pub_rec_bankruptcies</th>\n",
       "      <th>tax_liens</th>\n",
       "      <th>tot_hi_cred_lim</th>\n",
       "      <th>total_bal_ex_mort</th>\n",
       "      <th>total_bc_limit</th>\n",
       "      <th>total_il_high_credit_limit</th>\n",
       "    </tr>\n",
       "  </thead>\n",
       "  <tbody>\n",
       "    <tr>\n",
       "      <th>count</th>\n",
       "      <td>3.971700e+04</td>\n",
       "      <td>3.971700e+04</td>\n",
       "      <td>39717.000000</td>\n",
       "      <td>39717.000000</td>\n",
       "      <td>39717.000000</td>\n",
       "      <td>39717.000000</td>\n",
       "      <td>3.971700e+04</td>\n",
       "      <td>39717.000000</td>\n",
       "      <td>39717.000000</td>\n",
       "      <td>39717.000000</td>\n",
       "      <td>...</td>\n",
       "      <td>0.0</td>\n",
       "      <td>0.0</td>\n",
       "      <td>0.0</td>\n",
       "      <td>0.0</td>\n",
       "      <td>39020.000000</td>\n",
       "      <td>39678.0</td>\n",
       "      <td>0.0</td>\n",
       "      <td>0.0</td>\n",
       "      <td>0.0</td>\n",
       "      <td>0.0</td>\n",
       "    </tr>\n",
       "    <tr>\n",
       "      <th>mean</th>\n",
       "      <td>6.831319e+05</td>\n",
       "      <td>8.504636e+05</td>\n",
       "      <td>11219.443815</td>\n",
       "      <td>10947.713196</td>\n",
       "      <td>10397.448868</td>\n",
       "      <td>324.561922</td>\n",
       "      <td>6.896893e+04</td>\n",
       "      <td>13.315130</td>\n",
       "      <td>0.146512</td>\n",
       "      <td>0.869200</td>\n",
       "      <td>...</td>\n",
       "      <td>NaN</td>\n",
       "      <td>NaN</td>\n",
       "      <td>NaN</td>\n",
       "      <td>NaN</td>\n",
       "      <td>0.043260</td>\n",
       "      <td>0.0</td>\n",
       "      <td>NaN</td>\n",
       "      <td>NaN</td>\n",
       "      <td>NaN</td>\n",
       "      <td>NaN</td>\n",
       "    </tr>\n",
       "    <tr>\n",
       "      <th>std</th>\n",
       "      <td>2.106941e+05</td>\n",
       "      <td>2.656783e+05</td>\n",
       "      <td>7456.670694</td>\n",
       "      <td>7187.238670</td>\n",
       "      <td>7128.450439</td>\n",
       "      <td>208.874874</td>\n",
       "      <td>6.379377e+04</td>\n",
       "      <td>6.678594</td>\n",
       "      <td>0.491812</td>\n",
       "      <td>1.070219</td>\n",
       "      <td>...</td>\n",
       "      <td>NaN</td>\n",
       "      <td>NaN</td>\n",
       "      <td>NaN</td>\n",
       "      <td>NaN</td>\n",
       "      <td>0.204324</td>\n",
       "      <td>0.0</td>\n",
       "      <td>NaN</td>\n",
       "      <td>NaN</td>\n",
       "      <td>NaN</td>\n",
       "      <td>NaN</td>\n",
       "    </tr>\n",
       "    <tr>\n",
       "      <th>min</th>\n",
       "      <td>5.473400e+04</td>\n",
       "      <td>7.069900e+04</td>\n",
       "      <td>500.000000</td>\n",
       "      <td>500.000000</td>\n",
       "      <td>0.000000</td>\n",
       "      <td>15.690000</td>\n",
       "      <td>4.000000e+03</td>\n",
       "      <td>0.000000</td>\n",
       "      <td>0.000000</td>\n",
       "      <td>0.000000</td>\n",
       "      <td>...</td>\n",
       "      <td>NaN</td>\n",
       "      <td>NaN</td>\n",
       "      <td>NaN</td>\n",
       "      <td>NaN</td>\n",
       "      <td>0.000000</td>\n",
       "      <td>0.0</td>\n",
       "      <td>NaN</td>\n",
       "      <td>NaN</td>\n",
       "      <td>NaN</td>\n",
       "      <td>NaN</td>\n",
       "    </tr>\n",
       "    <tr>\n",
       "      <th>25%</th>\n",
       "      <td>5.162210e+05</td>\n",
       "      <td>6.667800e+05</td>\n",
       "      <td>5500.000000</td>\n",
       "      <td>5400.000000</td>\n",
       "      <td>5000.000000</td>\n",
       "      <td>167.020000</td>\n",
       "      <td>4.040400e+04</td>\n",
       "      <td>8.170000</td>\n",
       "      <td>0.000000</td>\n",
       "      <td>0.000000</td>\n",
       "      <td>...</td>\n",
       "      <td>NaN</td>\n",
       "      <td>NaN</td>\n",
       "      <td>NaN</td>\n",
       "      <td>NaN</td>\n",
       "      <td>0.000000</td>\n",
       "      <td>0.0</td>\n",
       "      <td>NaN</td>\n",
       "      <td>NaN</td>\n",
       "      <td>NaN</td>\n",
       "      <td>NaN</td>\n",
       "    </tr>\n",
       "    <tr>\n",
       "      <th>50%</th>\n",
       "      <td>6.656650e+05</td>\n",
       "      <td>8.508120e+05</td>\n",
       "      <td>10000.000000</td>\n",
       "      <td>9600.000000</td>\n",
       "      <td>8975.000000</td>\n",
       "      <td>280.220000</td>\n",
       "      <td>5.900000e+04</td>\n",
       "      <td>13.400000</td>\n",
       "      <td>0.000000</td>\n",
       "      <td>1.000000</td>\n",
       "      <td>...</td>\n",
       "      <td>NaN</td>\n",
       "      <td>NaN</td>\n",
       "      <td>NaN</td>\n",
       "      <td>NaN</td>\n",
       "      <td>0.000000</td>\n",
       "      <td>0.0</td>\n",
       "      <td>NaN</td>\n",
       "      <td>NaN</td>\n",
       "      <td>NaN</td>\n",
       "      <td>NaN</td>\n",
       "    </tr>\n",
       "    <tr>\n",
       "      <th>75%</th>\n",
       "      <td>8.377550e+05</td>\n",
       "      <td>1.047339e+06</td>\n",
       "      <td>15000.000000</td>\n",
       "      <td>15000.000000</td>\n",
       "      <td>14400.000000</td>\n",
       "      <td>430.780000</td>\n",
       "      <td>8.230000e+04</td>\n",
       "      <td>18.600000</td>\n",
       "      <td>0.000000</td>\n",
       "      <td>1.000000</td>\n",
       "      <td>...</td>\n",
       "      <td>NaN</td>\n",
       "      <td>NaN</td>\n",
       "      <td>NaN</td>\n",
       "      <td>NaN</td>\n",
       "      <td>0.000000</td>\n",
       "      <td>0.0</td>\n",
       "      <td>NaN</td>\n",
       "      <td>NaN</td>\n",
       "      <td>NaN</td>\n",
       "      <td>NaN</td>\n",
       "    </tr>\n",
       "    <tr>\n",
       "      <th>max</th>\n",
       "      <td>1.077501e+06</td>\n",
       "      <td>1.314167e+06</td>\n",
       "      <td>35000.000000</td>\n",
       "      <td>35000.000000</td>\n",
       "      <td>35000.000000</td>\n",
       "      <td>1305.190000</td>\n",
       "      <td>6.000000e+06</td>\n",
       "      <td>29.990000</td>\n",
       "      <td>11.000000</td>\n",
       "      <td>8.000000</td>\n",
       "      <td>...</td>\n",
       "      <td>NaN</td>\n",
       "      <td>NaN</td>\n",
       "      <td>NaN</td>\n",
       "      <td>NaN</td>\n",
       "      <td>2.000000</td>\n",
       "      <td>0.0</td>\n",
       "      <td>NaN</td>\n",
       "      <td>NaN</td>\n",
       "      <td>NaN</td>\n",
       "      <td>NaN</td>\n",
       "    </tr>\n",
       "  </tbody>\n",
       "</table>\n",
       "<p>8 rows × 87 columns</p>\n",
       "</div>"
      ],
      "text/plain": [
       "                 id     member_id     loan_amnt   funded_amnt  \\\n",
       "count  3.971700e+04  3.971700e+04  39717.000000  39717.000000   \n",
       "mean   6.831319e+05  8.504636e+05  11219.443815  10947.713196   \n",
       "std    2.106941e+05  2.656783e+05   7456.670694   7187.238670   \n",
       "min    5.473400e+04  7.069900e+04    500.000000    500.000000   \n",
       "25%    5.162210e+05  6.667800e+05   5500.000000   5400.000000   \n",
       "50%    6.656650e+05  8.508120e+05  10000.000000   9600.000000   \n",
       "75%    8.377550e+05  1.047339e+06  15000.000000  15000.000000   \n",
       "max    1.077501e+06  1.314167e+06  35000.000000  35000.000000   \n",
       "\n",
       "       funded_amnt_inv   installment    annual_inc           dti  \\\n",
       "count     39717.000000  39717.000000  3.971700e+04  39717.000000   \n",
       "mean      10397.448868    324.561922  6.896893e+04     13.315130   \n",
       "std        7128.450439    208.874874  6.379377e+04      6.678594   \n",
       "min           0.000000     15.690000  4.000000e+03      0.000000   \n",
       "25%        5000.000000    167.020000  4.040400e+04      8.170000   \n",
       "50%        8975.000000    280.220000  5.900000e+04     13.400000   \n",
       "75%       14400.000000    430.780000  8.230000e+04     18.600000   \n",
       "max       35000.000000   1305.190000  6.000000e+06     29.990000   \n",
       "\n",
       "        delinq_2yrs  inq_last_6mths  ...  num_tl_90g_dpd_24m  \\\n",
       "count  39717.000000    39717.000000  ...                 0.0   \n",
       "mean       0.146512        0.869200  ...                 NaN   \n",
       "std        0.491812        1.070219  ...                 NaN   \n",
       "min        0.000000        0.000000  ...                 NaN   \n",
       "25%        0.000000        0.000000  ...                 NaN   \n",
       "50%        0.000000        1.000000  ...                 NaN   \n",
       "75%        0.000000        1.000000  ...                 NaN   \n",
       "max       11.000000        8.000000  ...                 NaN   \n",
       "\n",
       "       num_tl_op_past_12m  pct_tl_nvr_dlq  percent_bc_gt_75  \\\n",
       "count                 0.0             0.0               0.0   \n",
       "mean                  NaN             NaN               NaN   \n",
       "std                   NaN             NaN               NaN   \n",
       "min                   NaN             NaN               NaN   \n",
       "25%                   NaN             NaN               NaN   \n",
       "50%                   NaN             NaN               NaN   \n",
       "75%                   NaN             NaN               NaN   \n",
       "max                   NaN             NaN               NaN   \n",
       "\n",
       "       pub_rec_bankruptcies  tax_liens  tot_hi_cred_lim  total_bal_ex_mort  \\\n",
       "count          39020.000000    39678.0              0.0                0.0   \n",
       "mean               0.043260        0.0              NaN                NaN   \n",
       "std                0.204324        0.0              NaN                NaN   \n",
       "min                0.000000        0.0              NaN                NaN   \n",
       "25%                0.000000        0.0              NaN                NaN   \n",
       "50%                0.000000        0.0              NaN                NaN   \n",
       "75%                0.000000        0.0              NaN                NaN   \n",
       "max                2.000000        0.0              NaN                NaN   \n",
       "\n",
       "       total_bc_limit  total_il_high_credit_limit  \n",
       "count             0.0                         0.0  \n",
       "mean              NaN                         NaN  \n",
       "std               NaN                         NaN  \n",
       "min               NaN                         NaN  \n",
       "25%               NaN                         NaN  \n",
       "50%               NaN                         NaN  \n",
       "75%               NaN                         NaN  \n",
       "max               NaN                         NaN  \n",
       "\n",
       "[8 rows x 87 columns]"
      ]
     },
     "execution_count": 5,
     "metadata": {},
     "output_type": "execute_result"
    }
   ],
   "source": [
    "#Check statistical information of the dataframe to see if there are any ouliers through intuitive analysis and also to see where are \n",
    "#the most frequent values exist through median and quantile analysis.\n",
    "\n",
    "df1.describe()"
   ]
  },
  {
   "cell_type": "markdown",
   "id": "e0f162c2",
   "metadata": {},
   "source": [
    "# Inference from the data above : Seems the 25th,50th and 75th percentile of annual income is in the range of 10^4 where as the maximum is in the range of 10^6. This could mean there are outliers to the higher range. "
   ]
  },
  {
   "cell_type": "code",
   "execution_count": 6,
   "id": "dfe2f8ca",
   "metadata": {},
   "outputs": [
    {
     "data": {
      "text/plain": [
       "id                              int64\n",
       "member_id                       int64\n",
       "loan_amnt                       int64\n",
       "funded_amnt                     int64\n",
       "funded_amnt_inv               float64\n",
       "                               ...   \n",
       "tax_liens                     float64\n",
       "tot_hi_cred_lim               float64\n",
       "total_bal_ex_mort             float64\n",
       "total_bc_limit                float64\n",
       "total_il_high_credit_limit    float64\n",
       "Length: 111, dtype: object"
      ]
     },
     "execution_count": 6,
     "metadata": {},
     "output_type": "execute_result"
    }
   ],
   "source": [
    "##Check the datatypes of all the columns of the dataframe\n",
    "df1.dtypes"
   ]
  },
  {
   "cell_type": "code",
   "execution_count": 7,
   "id": "ea2ede77",
   "metadata": {},
   "outputs": [
    {
     "data": {
      "text/plain": [
       "id                                0\n",
       "member_id                         0\n",
       "loan_amnt                         0\n",
       "funded_amnt                       0\n",
       "funded_amnt_inv                   0\n",
       "                              ...  \n",
       "tax_liens                        39\n",
       "tot_hi_cred_lim               39717\n",
       "total_bal_ex_mort             39717\n",
       "total_bc_limit                39717\n",
       "total_il_high_credit_limit    39717\n",
       "Length: 111, dtype: int64"
      ]
     },
     "execution_count": 7,
     "metadata": {},
     "output_type": "execute_result"
    }
   ],
   "source": [
    "df1.isnull().sum()"
   ]
  },
  {
   "cell_type": "markdown",
   "id": "bd0a5142",
   "metadata": {},
   "source": [
    "# Check if there are columns and rows which contains null values in it."
   ]
  },
  {
   "cell_type": "code",
   "execution_count": 8,
   "id": "7fc05b55",
   "metadata": {},
   "outputs": [
    {
     "data": {
      "text/plain": [
       "54"
      ]
     },
     "execution_count": 8,
     "metadata": {},
     "output_type": "execute_result"
    }
   ],
   "source": [
    "#Find columns having null values\n",
    "df1.isnull().all().sum()"
   ]
  },
  {
   "cell_type": "code",
   "execution_count": 9,
   "id": "66186506",
   "metadata": {
    "scrolled": true
   },
   "outputs": [
    {
     "data": {
      "text/plain": [
       "mths_since_last_major_derog       float64\n",
       "annual_inc_joint                  float64\n",
       "dti_joint                         float64\n",
       "verification_status_joint         float64\n",
       "tot_coll_amt                      float64\n",
       "tot_cur_bal                       float64\n",
       "open_acc_6m                       float64\n",
       "open_il_6m                        float64\n",
       "open_il_12m                       float64\n",
       "open_il_24m                       float64\n",
       "mths_since_rcnt_il                float64\n",
       "total_bal_il                      float64\n",
       "il_util                           float64\n",
       "open_rv_12m                       float64\n",
       "open_rv_24m                       float64\n",
       "max_bal_bc                        float64\n",
       "all_util                          float64\n",
       "total_rev_hi_lim                  float64\n",
       "inq_fi                            float64\n",
       "total_cu_tl                       float64\n",
       "inq_last_12m                      float64\n",
       "acc_open_past_24mths              float64\n",
       "avg_cur_bal                       float64\n",
       "bc_open_to_buy                    float64\n",
       "bc_util                           float64\n",
       "mo_sin_old_il_acct                float64\n",
       "mo_sin_old_rev_tl_op              float64\n",
       "mo_sin_rcnt_rev_tl_op             float64\n",
       "mo_sin_rcnt_tl                    float64\n",
       "mort_acc                          float64\n",
       "mths_since_recent_bc              float64\n",
       "mths_since_recent_bc_dlq          float64\n",
       "mths_since_recent_inq             float64\n",
       "mths_since_recent_revol_delinq    float64\n",
       "num_accts_ever_120_pd             float64\n",
       "num_actv_bc_tl                    float64\n",
       "num_actv_rev_tl                   float64\n",
       "num_bc_sats                       float64\n",
       "num_bc_tl                         float64\n",
       "num_il_tl                         float64\n",
       "num_op_rev_tl                     float64\n",
       "num_rev_accts                     float64\n",
       "num_rev_tl_bal_gt_0               float64\n",
       "num_sats                          float64\n",
       "num_tl_120dpd_2m                  float64\n",
       "num_tl_30dpd                      float64\n",
       "num_tl_90g_dpd_24m                float64\n",
       "num_tl_op_past_12m                float64\n",
       "pct_tl_nvr_dlq                    float64\n",
       "percent_bc_gt_75                  float64\n",
       "tot_hi_cred_lim                   float64\n",
       "total_bal_ex_mort                 float64\n",
       "total_bc_limit                    float64\n",
       "total_il_high_credit_limit        float64\n",
       "dtype: object"
      ]
     },
     "execution_count": 9,
     "metadata": {},
     "output_type": "execute_result"
    }
   ],
   "source": [
    "#Find columns with all null values and display it before making a decision to drop them.\n",
    "df1_null=df1.loc[:,df1.isnull().all()]\n",
    "df1_null.dtypes"
   ]
  },
  {
   "cell_type": "markdown",
   "id": "bd0ab66d",
   "metadata": {},
   "source": [
    "# Step2 : Data Cleaning"
   ]
  },
  {
   "cell_type": "code",
   "execution_count": 10,
   "id": "bff74407",
   "metadata": {},
   "outputs": [],
   "source": [
    "#dropping columns with all null\n",
    "df1=df1.dropna(axis=1,how='all')"
   ]
  },
  {
   "cell_type": "code",
   "execution_count": 11,
   "id": "5fffd08a",
   "metadata": {},
   "outputs": [
    {
     "data": {
      "text/plain": [
       "0"
      ]
     },
     "execution_count": 11,
     "metadata": {},
     "output_type": "execute_result"
    }
   ],
   "source": [
    "#Check if the Coulmns with all null values in their rows are deleted.\n",
    "df1.isnull().all().sum()\n"
   ]
  },
  {
   "cell_type": "code",
   "execution_count": 12,
   "id": "1e2df120",
   "metadata": {},
   "outputs": [
    {
     "data": {
      "text/plain": [
       "id                                0\n",
       "member_id                         0\n",
       "loan_amnt                         0\n",
       "funded_amnt                       0\n",
       "funded_amnt_inv                   0\n",
       "term                              0\n",
       "int_rate                          0\n",
       "installment                       0\n",
       "grade                             0\n",
       "sub_grade                         0\n",
       "emp_title                      2459\n",
       "emp_length                     1075\n",
       "home_ownership                    0\n",
       "annual_inc                        0\n",
       "verification_status               0\n",
       "issue_d                           0\n",
       "loan_status                       0\n",
       "pymnt_plan                        0\n",
       "url                               0\n",
       "desc                          12940\n",
       "purpose                           0\n",
       "title                            11\n",
       "zip_code                          0\n",
       "addr_state                        0\n",
       "dti                               0\n",
       "delinq_2yrs                       0\n",
       "earliest_cr_line                  0\n",
       "inq_last_6mths                    0\n",
       "mths_since_last_delinq        25682\n",
       "mths_since_last_record        36931\n",
       "open_acc                          0\n",
       "pub_rec                           0\n",
       "revol_bal                         0\n",
       "revol_util                       50\n",
       "total_acc                         0\n",
       "initial_list_status               0\n",
       "out_prncp                         0\n",
       "out_prncp_inv                     0\n",
       "total_pymnt                       0\n",
       "total_pymnt_inv                   0\n",
       "total_rec_prncp                   0\n",
       "total_rec_int                     0\n",
       "total_rec_late_fee                0\n",
       "recoveries                        0\n",
       "collection_recovery_fee           0\n",
       "last_pymnt_d                     71\n",
       "last_pymnt_amnt                   0\n",
       "next_pymnt_d                  38577\n",
       "last_credit_pull_d                2\n",
       "collections_12_mths_ex_med       56\n",
       "policy_code                       0\n",
       "application_type                  0\n",
       "acc_now_delinq                    0\n",
       "chargeoff_within_12_mths         56\n",
       "delinq_amnt                       0\n",
       "pub_rec_bankruptcies            697\n",
       "tax_liens                        39\n",
       "dtype: int64"
      ]
     },
     "execution_count": 12,
     "metadata": {},
     "output_type": "execute_result"
    }
   ],
   "source": [
    "#Find rows having null values\n",
    "df1.isnull().sum()"
   ]
  },
  {
   "cell_type": "markdown",
   "id": "405bf7de",
   "metadata": {},
   "source": [
    " # Inference from the data above : As more than ~90% of rows are null in mths_since_last_record ,next_pymnt_d, it is better to delete those columns."
   ]
  },
  {
   "cell_type": "code",
   "execution_count": 13,
   "id": "14420da6",
   "metadata": {},
   "outputs": [],
   "source": [
    "#Delete Columns : mths_since_last_record ,mths_since_last_delinq \n",
    "df1 = df1.drop(columns = ['mths_since_last_record' ,'next_pymnt_d'])"
   ]
  },
  {
   "cell_type": "code",
   "execution_count": 14,
   "id": "5db0f577",
   "metadata": {},
   "outputs": [
    {
     "data": {
      "text/plain": [
       "id                                0\n",
       "member_id                         0\n",
       "loan_amnt                         0\n",
       "funded_amnt                       0\n",
       "funded_amnt_inv                   0\n",
       "term                              0\n",
       "int_rate                          0\n",
       "installment                       0\n",
       "grade                             0\n",
       "sub_grade                         0\n",
       "emp_title                      2459\n",
       "emp_length                     1075\n",
       "home_ownership                    0\n",
       "annual_inc                        0\n",
       "verification_status               0\n",
       "issue_d                           0\n",
       "loan_status                       0\n",
       "pymnt_plan                        0\n",
       "url                               0\n",
       "desc                          12940\n",
       "purpose                           0\n",
       "title                            11\n",
       "zip_code                          0\n",
       "addr_state                        0\n",
       "dti                               0\n",
       "delinq_2yrs                       0\n",
       "earliest_cr_line                  0\n",
       "inq_last_6mths                    0\n",
       "mths_since_last_delinq        25682\n",
       "open_acc                          0\n",
       "pub_rec                           0\n",
       "revol_bal                         0\n",
       "revol_util                       50\n",
       "total_acc                         0\n",
       "initial_list_status               0\n",
       "out_prncp                         0\n",
       "out_prncp_inv                     0\n",
       "total_pymnt                       0\n",
       "total_pymnt_inv                   0\n",
       "total_rec_prncp                   0\n",
       "total_rec_int                     0\n",
       "total_rec_late_fee                0\n",
       "recoveries                        0\n",
       "collection_recovery_fee           0\n",
       "last_pymnt_d                     71\n",
       "last_pymnt_amnt                   0\n",
       "last_credit_pull_d                2\n",
       "collections_12_mths_ex_med       56\n",
       "policy_code                       0\n",
       "application_type                  0\n",
       "acc_now_delinq                    0\n",
       "chargeoff_within_12_mths         56\n",
       "delinq_amnt                       0\n",
       "pub_rec_bankruptcies            697\n",
       "tax_liens                        39\n",
       "dtype: int64"
      ]
     },
     "execution_count": 14,
     "metadata": {},
     "output_type": "execute_result"
    }
   ],
   "source": [
    "#Find rows having null values\n",
    "df1.isnull().sum()"
   ]
  },
  {
   "cell_type": "code",
   "execution_count": 15,
   "id": "61d4f5d3",
   "metadata": {},
   "outputs": [
    {
     "data": {
      "text/plain": [
       "0"
      ]
     },
     "execution_count": 15,
     "metadata": {},
     "output_type": "execute_result"
    }
   ],
   "source": [
    "#Analyze the Tatget variable : loan_status to identify any irrelevant rows\n",
    "df1.loan_status.isnull().sum()\n"
   ]
  },
  {
   "cell_type": "code",
   "execution_count": 16,
   "id": "94960176",
   "metadata": {},
   "outputs": [
    {
     "data": {
      "text/plain": [
       "Fully Paid     32950\n",
       "Charged Off     5627\n",
       "Current         1140\n",
       "Name: loan_status, dtype: int64"
      ]
     },
     "execution_count": 16,
     "metadata": {},
     "output_type": "execute_result"
    }
   ],
   "source": [
    "# Find data within the series and number of instances of the data within 'loan_status'\n",
    "df1.loan_status.value_counts()"
   ]
  },
  {
   "cell_type": "code",
   "execution_count": 17,
   "id": "0bed4bb6",
   "metadata": {},
   "outputs": [
    {
     "data": {
      "text/plain": [
       "id                              int64\n",
       "member_id                       int64\n",
       "loan_amnt                       int64\n",
       "funded_amnt                     int64\n",
       "funded_amnt_inv               float64\n",
       "term                           object\n",
       "int_rate                       object\n",
       "installment                   float64\n",
       "grade                          object\n",
       "sub_grade                      object\n",
       "emp_title                      object\n",
       "emp_length                     object\n",
       "home_ownership                 object\n",
       "annual_inc                    float64\n",
       "verification_status            object\n",
       "issue_d                        object\n",
       "loan_status                    object\n",
       "pymnt_plan                     object\n",
       "url                            object\n",
       "desc                           object\n",
       "purpose                        object\n",
       "title                          object\n",
       "zip_code                       object\n",
       "addr_state                     object\n",
       "dti                           float64\n",
       "delinq_2yrs                     int64\n",
       "earliest_cr_line               object\n",
       "inq_last_6mths                  int64\n",
       "mths_since_last_delinq        float64\n",
       "open_acc                        int64\n",
       "pub_rec                         int64\n",
       "revol_bal                       int64\n",
       "revol_util                     object\n",
       "total_acc                       int64\n",
       "initial_list_status            object\n",
       "out_prncp                     float64\n",
       "out_prncp_inv                 float64\n",
       "total_pymnt                   float64\n",
       "total_pymnt_inv               float64\n",
       "total_rec_prncp               float64\n",
       "total_rec_int                 float64\n",
       "total_rec_late_fee            float64\n",
       "recoveries                    float64\n",
       "collection_recovery_fee       float64\n",
       "last_pymnt_d                   object\n",
       "last_pymnt_amnt               float64\n",
       "last_credit_pull_d             object\n",
       "collections_12_mths_ex_med    float64\n",
       "policy_code                     int64\n",
       "application_type               object\n",
       "acc_now_delinq                  int64\n",
       "chargeoff_within_12_mths      float64\n",
       "delinq_amnt                     int64\n",
       "pub_rec_bankruptcies          float64\n",
       "tax_liens                     float64\n",
       "dtype: object"
      ]
     },
     "execution_count": 17,
     "metadata": {},
     "output_type": "execute_result"
    }
   ],
   "source": [
    "#Find the data type of columns\n",
    "df1.dtypes"
   ]
  },
  {
   "cell_type": "code",
   "execution_count": 18,
   "id": "764063a7",
   "metadata": {},
   "outputs": [
    {
     "data": {
      "text/html": [
       "<div>\n",
       "<style scoped>\n",
       "    .dataframe tbody tr th:only-of-type {\n",
       "        vertical-align: middle;\n",
       "    }\n",
       "\n",
       "    .dataframe tbody tr th {\n",
       "        vertical-align: top;\n",
       "    }\n",
       "\n",
       "    .dataframe thead th {\n",
       "        text-align: right;\n",
       "    }\n",
       "</style>\n",
       "<table border=\"1\" class=\"dataframe\">\n",
       "  <thead>\n",
       "    <tr style=\"text-align: right;\">\n",
       "      <th></th>\n",
       "      <th>id</th>\n",
       "      <th>member_id</th>\n",
       "      <th>loan_amnt</th>\n",
       "      <th>funded_amnt</th>\n",
       "      <th>funded_amnt_inv</th>\n",
       "      <th>term</th>\n",
       "      <th>int_rate</th>\n",
       "      <th>installment</th>\n",
       "      <th>grade</th>\n",
       "      <th>sub_grade</th>\n",
       "      <th>...</th>\n",
       "      <th>last_pymnt_amnt</th>\n",
       "      <th>last_credit_pull_d</th>\n",
       "      <th>collections_12_mths_ex_med</th>\n",
       "      <th>policy_code</th>\n",
       "      <th>application_type</th>\n",
       "      <th>acc_now_delinq</th>\n",
       "      <th>chargeoff_within_12_mths</th>\n",
       "      <th>delinq_amnt</th>\n",
       "      <th>pub_rec_bankruptcies</th>\n",
       "      <th>tax_liens</th>\n",
       "    </tr>\n",
       "  </thead>\n",
       "  <tbody>\n",
       "    <tr>\n",
       "      <th>0</th>\n",
       "      <td>1077501</td>\n",
       "      <td>1296599</td>\n",
       "      <td>5000</td>\n",
       "      <td>5000</td>\n",
       "      <td>4975.0</td>\n",
       "      <td>36 months</td>\n",
       "      <td>10.65</td>\n",
       "      <td>162.87</td>\n",
       "      <td>B</td>\n",
       "      <td>B2</td>\n",
       "      <td>...</td>\n",
       "      <td>171.62</td>\n",
       "      <td>May-16</td>\n",
       "      <td>0.0</td>\n",
       "      <td>1</td>\n",
       "      <td>INDIVIDUAL</td>\n",
       "      <td>0</td>\n",
       "      <td>0.0</td>\n",
       "      <td>0</td>\n",
       "      <td>0.0</td>\n",
       "      <td>0.0</td>\n",
       "    </tr>\n",
       "    <tr>\n",
       "      <th>1</th>\n",
       "      <td>1077430</td>\n",
       "      <td>1314167</td>\n",
       "      <td>2500</td>\n",
       "      <td>2500</td>\n",
       "      <td>2500.0</td>\n",
       "      <td>60 months</td>\n",
       "      <td>15.27</td>\n",
       "      <td>59.83</td>\n",
       "      <td>C</td>\n",
       "      <td>C4</td>\n",
       "      <td>...</td>\n",
       "      <td>119.66</td>\n",
       "      <td>Sep-13</td>\n",
       "      <td>0.0</td>\n",
       "      <td>1</td>\n",
       "      <td>INDIVIDUAL</td>\n",
       "      <td>0</td>\n",
       "      <td>0.0</td>\n",
       "      <td>0</td>\n",
       "      <td>0.0</td>\n",
       "      <td>0.0</td>\n",
       "    </tr>\n",
       "    <tr>\n",
       "      <th>2</th>\n",
       "      <td>1077175</td>\n",
       "      <td>1313524</td>\n",
       "      <td>2400</td>\n",
       "      <td>2400</td>\n",
       "      <td>2400.0</td>\n",
       "      <td>36 months</td>\n",
       "      <td>15.96</td>\n",
       "      <td>84.33</td>\n",
       "      <td>C</td>\n",
       "      <td>C5</td>\n",
       "      <td>...</td>\n",
       "      <td>649.91</td>\n",
       "      <td>May-16</td>\n",
       "      <td>0.0</td>\n",
       "      <td>1</td>\n",
       "      <td>INDIVIDUAL</td>\n",
       "      <td>0</td>\n",
       "      <td>0.0</td>\n",
       "      <td>0</td>\n",
       "      <td>0.0</td>\n",
       "      <td>0.0</td>\n",
       "    </tr>\n",
       "    <tr>\n",
       "      <th>3</th>\n",
       "      <td>1076863</td>\n",
       "      <td>1277178</td>\n",
       "      <td>10000</td>\n",
       "      <td>10000</td>\n",
       "      <td>10000.0</td>\n",
       "      <td>36 months</td>\n",
       "      <td>13.49</td>\n",
       "      <td>339.31</td>\n",
       "      <td>C</td>\n",
       "      <td>C1</td>\n",
       "      <td>...</td>\n",
       "      <td>357.48</td>\n",
       "      <td>Apr-16</td>\n",
       "      <td>0.0</td>\n",
       "      <td>1</td>\n",
       "      <td>INDIVIDUAL</td>\n",
       "      <td>0</td>\n",
       "      <td>0.0</td>\n",
       "      <td>0</td>\n",
       "      <td>0.0</td>\n",
       "      <td>0.0</td>\n",
       "    </tr>\n",
       "    <tr>\n",
       "      <th>4</th>\n",
       "      <td>1075358</td>\n",
       "      <td>1311748</td>\n",
       "      <td>3000</td>\n",
       "      <td>3000</td>\n",
       "      <td>3000.0</td>\n",
       "      <td>60 months</td>\n",
       "      <td>12.69</td>\n",
       "      <td>67.79</td>\n",
       "      <td>B</td>\n",
       "      <td>B5</td>\n",
       "      <td>...</td>\n",
       "      <td>67.79</td>\n",
       "      <td>May-16</td>\n",
       "      <td>0.0</td>\n",
       "      <td>1</td>\n",
       "      <td>INDIVIDUAL</td>\n",
       "      <td>0</td>\n",
       "      <td>0.0</td>\n",
       "      <td>0</td>\n",
       "      <td>0.0</td>\n",
       "      <td>0.0</td>\n",
       "    </tr>\n",
       "  </tbody>\n",
       "</table>\n",
       "<p>5 rows × 55 columns</p>\n",
       "</div>"
      ],
      "text/plain": [
       "        id  member_id  loan_amnt  funded_amnt  funded_amnt_inv        term  \\\n",
       "0  1077501    1296599       5000         5000           4975.0   36 months   \n",
       "1  1077430    1314167       2500         2500           2500.0   60 months   \n",
       "2  1077175    1313524       2400         2400           2400.0   36 months   \n",
       "3  1076863    1277178      10000        10000          10000.0   36 months   \n",
       "4  1075358    1311748       3000         3000           3000.0   60 months   \n",
       "\n",
       "   int_rate  installment grade sub_grade  ... last_pymnt_amnt  \\\n",
       "0     10.65       162.87     B        B2  ...          171.62   \n",
       "1     15.27        59.83     C        C4  ...          119.66   \n",
       "2     15.96        84.33     C        C5  ...          649.91   \n",
       "3     13.49       339.31     C        C1  ...          357.48   \n",
       "4     12.69        67.79     B        B5  ...           67.79   \n",
       "\n",
       "  last_credit_pull_d collections_12_mths_ex_med  policy_code application_type  \\\n",
       "0             May-16                        0.0            1       INDIVIDUAL   \n",
       "1             Sep-13                        0.0            1       INDIVIDUAL   \n",
       "2             May-16                        0.0            1       INDIVIDUAL   \n",
       "3             Apr-16                        0.0            1       INDIVIDUAL   \n",
       "4             May-16                        0.0            1       INDIVIDUAL   \n",
       "\n",
       "  acc_now_delinq chargeoff_within_12_mths delinq_amnt pub_rec_bankruptcies  \\\n",
       "0              0                      0.0           0                  0.0   \n",
       "1              0                      0.0           0                  0.0   \n",
       "2              0                      0.0           0                  0.0   \n",
       "3              0                      0.0           0                  0.0   \n",
       "4              0                      0.0           0                  0.0   \n",
       "\n",
       "  tax_liens  \n",
       "0       0.0  \n",
       "1       0.0  \n",
       "2       0.0  \n",
       "3       0.0  \n",
       "4       0.0  \n",
       "\n",
       "[5 rows x 55 columns]"
      ]
     },
     "execution_count": 18,
     "metadata": {},
     "output_type": "execute_result"
    }
   ],
   "source": [
    "# interst rate dtype needs to be converted to a quantitative value for easy analysis.\n",
    "df1.int_rate=df1.int_rate.str.replace('%','')\n",
    "df1.int_rate.value_counts()\n",
    "df1.int_rate=df1.int_rate.astype(\"float\")\n",
    "df1.head()"
   ]
  },
  {
   "cell_type": "code",
   "execution_count": 19,
   "id": "4a08f05c",
   "metadata": {},
   "outputs": [
    {
     "data": {
      "text/plain": [
       "id                              int64\n",
       "member_id                       int64\n",
       "loan_amnt                       int64\n",
       "funded_amnt                     int64\n",
       "funded_amnt_inv               float64\n",
       "term                           object\n",
       "int_rate                      float64\n",
       "installment                   float64\n",
       "grade                          object\n",
       "sub_grade                      object\n",
       "emp_title                      object\n",
       "emp_length                     object\n",
       "home_ownership                 object\n",
       "annual_inc                    float64\n",
       "verification_status            object\n",
       "issue_d                        object\n",
       "loan_status                    object\n",
       "pymnt_plan                     object\n",
       "url                            object\n",
       "desc                           object\n",
       "purpose                        object\n",
       "title                          object\n",
       "zip_code                       object\n",
       "addr_state                     object\n",
       "dti                           float64\n",
       "delinq_2yrs                     int64\n",
       "earliest_cr_line               object\n",
       "inq_last_6mths                  int64\n",
       "mths_since_last_delinq        float64\n",
       "open_acc                        int64\n",
       "pub_rec                         int64\n",
       "revol_bal                       int64\n",
       "revol_util                     object\n",
       "total_acc                       int64\n",
       "initial_list_status            object\n",
       "out_prncp                     float64\n",
       "out_prncp_inv                 float64\n",
       "total_pymnt                   float64\n",
       "total_pymnt_inv               float64\n",
       "total_rec_prncp               float64\n",
       "total_rec_int                 float64\n",
       "total_rec_late_fee            float64\n",
       "recoveries                    float64\n",
       "collection_recovery_fee       float64\n",
       "last_pymnt_d                   object\n",
       "last_pymnt_amnt               float64\n",
       "last_credit_pull_d             object\n",
       "collections_12_mths_ex_med    float64\n",
       "policy_code                     int64\n",
       "application_type               object\n",
       "acc_now_delinq                  int64\n",
       "chargeoff_within_12_mths      float64\n",
       "delinq_amnt                     int64\n",
       "pub_rec_bankruptcies          float64\n",
       "tax_liens                     float64\n",
       "dtype: object"
      ]
     },
     "execution_count": 19,
     "metadata": {},
     "output_type": "execute_result"
    }
   ],
   "source": [
    "#Check and ensure that int_rate is changed to float64\n",
    "df1.dtypes"
   ]
  },
  {
   "cell_type": "code",
   "execution_count": 20,
   "id": "4c30d2aa",
   "metadata": {},
   "outputs": [
    {
     "data": {
      "text/plain": [
       "0"
      ]
     },
     "execution_count": 20,
     "metadata": {},
     "output_type": "execute_result"
    }
   ],
   "source": [
    "df1.dti.isnull().sum()"
   ]
  },
  {
   "cell_type": "code",
   "execution_count": 21,
   "id": "21c89d2f",
   "metadata": {},
   "outputs": [
    {
     "data": {
      "text/plain": [
       "1075"
      ]
     },
     "execution_count": 21,
     "metadata": {},
     "output_type": "execute_result"
    }
   ],
   "source": [
    "df1.emp_length.isnull().sum()"
   ]
  },
  {
   "cell_type": "code",
   "execution_count": 22,
   "id": "d83dccc5",
   "metadata": {},
   "outputs": [
    {
     "data": {
      "text/plain": [
       "10+ years    8879\n",
       "< 1 year     4583\n",
       "2 years      4388\n",
       "3 years      4095\n",
       "4 years      3436\n",
       "5 years      3282\n",
       "1 year       3240\n",
       "6 years      2229\n",
       "7 years      1773\n",
       "8 years      1479\n",
       "9 years      1258\n",
       "Name: emp_length, dtype: int64"
      ]
     },
     "execution_count": 22,
     "metadata": {},
     "output_type": "execute_result"
    }
   ],
   "source": [
    "df1.emp_length.value_counts()"
   ]
  },
  {
   "cell_type": "code",
   "execution_count": 23,
   "id": "aa5dd3ee",
   "metadata": {},
   "outputs": [
    {
     "data": {
      "text/plain": [
       "0"
      ]
     },
     "execution_count": 23,
     "metadata": {},
     "output_type": "execute_result"
    }
   ],
   "source": [
    "df1.emp_length.fillna(0,inplace = True)\n",
    "df1.emp_length.isnull().sum()"
   ]
  },
  {
   "cell_type": "code",
   "execution_count": 24,
   "id": "bddfb4ae",
   "metadata": {},
   "outputs": [
    {
     "data": {
      "text/plain": [
       "id                                0\n",
       "member_id                         0\n",
       "loan_amnt                         0\n",
       "funded_amnt                       0\n",
       "funded_amnt_inv                   0\n",
       "term                              0\n",
       "int_rate                          0\n",
       "installment                       0\n",
       "grade                             0\n",
       "sub_grade                         0\n",
       "emp_title                      2459\n",
       "emp_length                        0\n",
       "home_ownership                    0\n",
       "annual_inc                        0\n",
       "verification_status               0\n",
       "issue_d                           0\n",
       "loan_status                       0\n",
       "pymnt_plan                        0\n",
       "url                               0\n",
       "desc                          12940\n",
       "purpose                           0\n",
       "title                            11\n",
       "zip_code                          0\n",
       "addr_state                        0\n",
       "dti                               0\n",
       "delinq_2yrs                       0\n",
       "earliest_cr_line                  0\n",
       "inq_last_6mths                    0\n",
       "mths_since_last_delinq        25682\n",
       "open_acc                          0\n",
       "pub_rec                           0\n",
       "revol_bal                         0\n",
       "revol_util                       50\n",
       "total_acc                         0\n",
       "initial_list_status               0\n",
       "out_prncp                         0\n",
       "out_prncp_inv                     0\n",
       "total_pymnt                       0\n",
       "total_pymnt_inv                   0\n",
       "total_rec_prncp                   0\n",
       "total_rec_int                     0\n",
       "total_rec_late_fee                0\n",
       "recoveries                        0\n",
       "collection_recovery_fee           0\n",
       "last_pymnt_d                     71\n",
       "last_pymnt_amnt                   0\n",
       "last_credit_pull_d                2\n",
       "collections_12_mths_ex_med       56\n",
       "policy_code                       0\n",
       "application_type                  0\n",
       "acc_now_delinq                    0\n",
       "chargeoff_within_12_mths         56\n",
       "delinq_amnt                       0\n",
       "pub_rec_bankruptcies            697\n",
       "tax_liens                        39\n",
       "dtype: int64"
      ]
     },
     "execution_count": 24,
     "metadata": {},
     "output_type": "execute_result"
    }
   ],
   "source": [
    "df1.isnull().sum()"
   ]
  },
  {
   "cell_type": "markdown",
   "id": "31da88da",
   "metadata": {},
   "source": [
    "# Note : At the beginning it was (39717, 111). After data cleaning of missing values and redundant columns, The remaining rows are 38577 and columns are 55.\n",
    "\n",
    "# Data Cleaning phase is complete\n",
    "\n",
    "# 3. Data Analysis"
   ]
  },
  {
   "cell_type": "markdown",
   "id": "5d13f709",
   "metadata": {},
   "source": [
    "# From further investigation to gain domain experience the important variables identified are: \n",
    "1. Annual Income \n",
    "2. Loan Amount\n",
    "3. Term\n",
    "4. Grade\n",
    "5. SubGrade\n",
    "6. Loan Amount\n",
    "7. Purpose of loan\n",
    "8. DTI\n",
    "9. Emp_length\n",
    "10. Loan Date\n",
    "11. Hpme Ownership\n",
    "12. Verification_Status\n",
    "\n",
    "There are customer behavioral variables present in the dataset, but that won't be available at the time of loan application hence can be ignored.\n"
   ]
  },
  {
   "cell_type": "code",
   "execution_count": 25,
   "id": "98fd634a",
   "metadata": {},
   "outputs": [
    {
     "data": {
      "text/plain": [
       "(38577, 55)"
      ]
     },
     "execution_count": 25,
     "metadata": {},
     "output_type": "execute_result"
    }
   ],
   "source": [
    "#As anaysis is on finding the factors that contribute for chargeoff, details related to 'Current' are irrelevant.\n",
    "#So dropping them\n",
    "df1 = df1.drop(df1[df1.loan_status == 'Current'].index)\n",
    "df1.shape"
   ]
  },
  {
   "cell_type": "markdown",
   "id": "9ae1ade7",
   "metadata": {},
   "source": [
    "# Quantitative Variables - Univariate Analysis"
   ]
  },
  {
   "cell_type": "code",
   "execution_count": 26,
   "id": "36076f55",
   "metadata": {},
   "outputs": [
    {
     "data": {
      "text/plain": [
       "count    3.857700e+04\n",
       "mean     6.877797e+04\n",
       "std      6.421868e+04\n",
       "min      4.000000e+03\n",
       "25%      4.000000e+04\n",
       "50%      5.886800e+04\n",
       "75%      8.200000e+04\n",
       "max      6.000000e+06\n",
       "Name: annual_inc, dtype: float64"
      ]
     },
     "execution_count": 26,
     "metadata": {},
     "output_type": "execute_result"
    }
   ],
   "source": [
    "df1.annual_inc.describe()"
   ]
  },
  {
   "cell_type": "code",
   "execution_count": 27,
   "id": "8a05a3c5",
   "metadata": {},
   "outputs": [
    {
     "data": {
      "text/plain": [
       "<AxesSubplot:>"
      ]
     },
     "execution_count": 27,
     "metadata": {},
     "output_type": "execute_result"
    },
    {
     "data": {
      "image/png": "[encoded data removed]",
      "text/plain": [
       "<Figure size 432x288 with 1 Axes>"
      ]
     },
     "metadata": {
      "needs_background": "light"
     },
     "output_type": "display_data"
    }
   ],
   "source": [
    "df1.annual_inc.plot.box()"
   ]
  },
  {
   "cell_type": "code",
   "execution_count": 28,
   "id": "e2edb70e",
   "metadata": {},
   "outputs": [],
   "source": [
    "#Remove the outliers from annual income\n",
    "df1 = df1[df1.annual_inc < 1000000]"
   ]
  },
  {
   "cell_type": "code",
   "execution_count": 29,
   "id": "802de658",
   "metadata": {},
   "outputs": [
    {
     "data": {
      "image/png": "[encoded data removed]",
      "text/plain": [
       "<Figure size 432x288 with 1 Axes>"
      ]
     },
     "metadata": {
      "needs_background": "light"
     },
     "output_type": "display_data"
    }
   ],
   "source": [
    "#Analyze the data relationship outliers between loan_status and annual income.\n",
    "sns.boxplot(df1.annual_inc,df1.loan_status)\n",
    "plt.show()"
   ]
  },
  {
   "cell_type": "code",
   "execution_count": 30,
   "id": "d93d9569",
   "metadata": {},
   "outputs": [
    {
     "data": {
      "image/png": "[encoded data removed]",
      "text/plain": [
       "<Figure size 432x288 with 1 Axes>"
      ]
     },
     "metadata": {
      "needs_background": "light"
     },
     "output_type": "display_data"
    }
   ],
   "source": [
    "sns.boxplot(df1.annual_inc,df1.loan_status)\n",
    "plt.show()"
   ]
  },
  {
   "cell_type": "code",
   "execution_count": 31,
   "id": "3e2bf8aa",
   "metadata": {},
   "outputs": [
    {
     "data": {
      "text/html": [
       "<div>\n",
       "<style scoped>\n",
       "    .dataframe tbody tr th:only-of-type {\n",
       "        vertical-align: middle;\n",
       "    }\n",
       "\n",
       "    .dataframe tbody tr th {\n",
       "        vertical-align: top;\n",
       "    }\n",
       "\n",
       "    .dataframe thead th {\n",
       "        text-align: right;\n",
       "    }\n",
       "</style>\n",
       "<table border=\"1\" class=\"dataframe\">\n",
       "  <thead>\n",
       "    <tr style=\"text-align: right;\">\n",
       "      <th></th>\n",
       "      <th>id</th>\n",
       "      <th>member_id</th>\n",
       "      <th>loan_amnt</th>\n",
       "      <th>funded_amnt</th>\n",
       "      <th>funded_amnt_inv</th>\n",
       "      <th>int_rate</th>\n",
       "      <th>installment</th>\n",
       "      <th>annual_inc</th>\n",
       "      <th>dti</th>\n",
       "      <th>delinq_2yrs</th>\n",
       "      <th>...</th>\n",
       "      <th>recoveries</th>\n",
       "      <th>collection_recovery_fee</th>\n",
       "      <th>last_pymnt_amnt</th>\n",
       "      <th>collections_12_mths_ex_med</th>\n",
       "      <th>policy_code</th>\n",
       "      <th>acc_now_delinq</th>\n",
       "      <th>chargeoff_within_12_mths</th>\n",
       "      <th>delinq_amnt</th>\n",
       "      <th>pub_rec_bankruptcies</th>\n",
       "      <th>tax_liens</th>\n",
       "    </tr>\n",
       "  </thead>\n",
       "  <tbody>\n",
       "    <tr>\n",
       "      <th>count</th>\n",
       "      <td>5.626000e+03</td>\n",
       "      <td>5.626000e+03</td>\n",
       "      <td>5626.000000</td>\n",
       "      <td>5626.000000</td>\n",
       "      <td>5626.000000</td>\n",
       "      <td>5626.000000</td>\n",
       "      <td>5626.000000</td>\n",
       "      <td>5626.000000</td>\n",
       "      <td>5626.000000</td>\n",
       "      <td>5626.000000</td>\n",
       "      <td>...</td>\n",
       "      <td>5626.000000</td>\n",
       "      <td>5626.000000</td>\n",
       "      <td>5626.000000</td>\n",
       "      <td>5620.0</td>\n",
       "      <td>5626.0</td>\n",
       "      <td>5626.0</td>\n",
       "      <td>5620.0</td>\n",
       "      <td>5626.0</td>\n",
       "      <td>5508.000000</td>\n",
       "      <td>5625.0</td>\n",
       "    </tr>\n",
       "    <tr>\n",
       "      <th>mean</th>\n",
       "      <td>6.978205e+05</td>\n",
       "      <td>8.677217e+05</td>\n",
       "      <td>12103.732670</td>\n",
       "      <td>11752.683967</td>\n",
       "      <td>10863.652949</td>\n",
       "      <td>13.820579</td>\n",
       "      <td>336.170976</td>\n",
       "      <td>62216.211525</td>\n",
       "      <td>13.999236</td>\n",
       "      <td>0.170636</td>\n",
       "      <td>...</td>\n",
       "      <td>672.217754</td>\n",
       "      <td>87.580860</td>\n",
       "      <td>326.014998</td>\n",
       "      <td>0.0</td>\n",
       "      <td>1.0</td>\n",
       "      <td>0.0</td>\n",
       "      <td>0.0</td>\n",
       "      <td>0.0</td>\n",
       "      <td>0.067175</td>\n",
       "      <td>0.0</td>\n",
       "    </tr>\n",
       "    <tr>\n",
       "      <th>std</th>\n",
       "      <td>2.163887e+05</td>\n",
       "      <td>2.723416e+05</td>\n",
       "      <td>8086.302606</td>\n",
       "      <td>7761.020860</td>\n",
       "      <td>7662.154617</td>\n",
       "      <td>3.654721</td>\n",
       "      <td>217.070923</td>\n",
       "      <td>45079.747234</td>\n",
       "      <td>6.585339</td>\n",
       "      <td>0.535029</td>\n",
       "      <td>...</td>\n",
       "      <td>1720.873939</td>\n",
       "      <td>386.623347</td>\n",
       "      <td>529.029889</td>\n",
       "      <td>0.0</td>\n",
       "      <td>0.0</td>\n",
       "      <td>0.0</td>\n",
       "      <td>0.0</td>\n",
       "      <td>0.0</td>\n",
       "      <td>0.251794</td>\n",
       "      <td>0.0</td>\n",
       "    </tr>\n",
       "    <tr>\n",
       "      <th>min</th>\n",
       "      <td>6.141900e+04</td>\n",
       "      <td>8.035300e+04</td>\n",
       "      <td>900.000000</td>\n",
       "      <td>900.000000</td>\n",
       "      <td>0.000000</td>\n",
       "      <td>5.420000</td>\n",
       "      <td>22.790000</td>\n",
       "      <td>4080.000000</td>\n",
       "      <td>0.000000</td>\n",
       "      <td>0.000000</td>\n",
       "      <td>...</td>\n",
       "      <td>0.000000</td>\n",
       "      <td>0.000000</td>\n",
       "      <td>0.000000</td>\n",
       "      <td>0.0</td>\n",
       "      <td>1.0</td>\n",
       "      <td>0.0</td>\n",
       "      <td>0.0</td>\n",
       "      <td>0.0</td>\n",
       "      <td>0.000000</td>\n",
       "      <td>0.0</td>\n",
       "    </tr>\n",
       "    <tr>\n",
       "      <th>25%</th>\n",
       "      <td>5.297122e+05</td>\n",
       "      <td>6.848970e+05</td>\n",
       "      <td>5600.000000</td>\n",
       "      <td>5562.500000</td>\n",
       "      <td>5000.000000</td>\n",
       "      <td>11.295000</td>\n",
       "      <td>168.522500</td>\n",
       "      <td>37000.000000</td>\n",
       "      <td>9.050000</td>\n",
       "      <td>0.000000</td>\n",
       "      <td>...</td>\n",
       "      <td>0.000000</td>\n",
       "      <td>0.000000</td>\n",
       "      <td>112.827500</td>\n",
       "      <td>0.0</td>\n",
       "      <td>1.0</td>\n",
       "      <td>0.0</td>\n",
       "      <td>0.0</td>\n",
       "      <td>0.0</td>\n",
       "      <td>0.000000</td>\n",
       "      <td>0.0</td>\n",
       "    </tr>\n",
       "    <tr>\n",
       "      <th>50%</th>\n",
       "      <td>6.969170e+05</td>\n",
       "      <td>8.881330e+05</td>\n",
       "      <td>10000.000000</td>\n",
       "      <td>10000.000000</td>\n",
       "      <td>9400.605813</td>\n",
       "      <td>13.610000</td>\n",
       "      <td>293.870000</td>\n",
       "      <td>53000.000000</td>\n",
       "      <td>14.290000</td>\n",
       "      <td>0.000000</td>\n",
       "      <td>...</td>\n",
       "      <td>173.050000</td>\n",
       "      <td>2.511600</td>\n",
       "      <td>238.200000</td>\n",
       "      <td>0.0</td>\n",
       "      <td>1.0</td>\n",
       "      <td>0.0</td>\n",
       "      <td>0.0</td>\n",
       "      <td>0.0</td>\n",
       "      <td>0.000000</td>\n",
       "      <td>0.0</td>\n",
       "    </tr>\n",
       "    <tr>\n",
       "      <th>75%</th>\n",
       "      <td>8.548820e+05</td>\n",
       "      <td>1.066599e+06</td>\n",
       "      <td>16500.000000</td>\n",
       "      <td>16000.000000</td>\n",
       "      <td>15000.000000</td>\n",
       "      <td>16.400000</td>\n",
       "      <td>457.925000</td>\n",
       "      <td>75000.000000</td>\n",
       "      <td>19.290000</td>\n",
       "      <td>0.000000</td>\n",
       "      <td>...</td>\n",
       "      <td>595.767500</td>\n",
       "      <td>9.372500</td>\n",
       "      <td>405.887500</td>\n",
       "      <td>0.0</td>\n",
       "      <td>1.0</td>\n",
       "      <td>0.0</td>\n",
       "      <td>0.0</td>\n",
       "      <td>0.0</td>\n",
       "      <td>0.000000</td>\n",
       "      <td>0.0</td>\n",
       "    </tr>\n",
       "    <tr>\n",
       "      <th>max</th>\n",
       "      <td>1.077430e+06</td>\n",
       "      <td>1.314167e+06</td>\n",
       "      <td>35000.000000</td>\n",
       "      <td>35000.000000</td>\n",
       "      <td>35000.000000</td>\n",
       "      <td>24.400000</td>\n",
       "      <td>1305.190000</td>\n",
       "      <td>840000.000000</td>\n",
       "      <td>29.850000</td>\n",
       "      <td>8.000000</td>\n",
       "      <td>...</td>\n",
       "      <td>29623.350000</td>\n",
       "      <td>7002.190000</td>\n",
       "      <td>12818.380000</td>\n",
       "      <td>0.0</td>\n",
       "      <td>1.0</td>\n",
       "      <td>0.0</td>\n",
       "      <td>0.0</td>\n",
       "      <td>0.0</td>\n",
       "      <td>2.000000</td>\n",
       "      <td>0.0</td>\n",
       "    </tr>\n",
       "  </tbody>\n",
       "</table>\n",
       "<p>8 rows × 33 columns</p>\n",
       "</div>"
      ],
      "text/plain": [
       "                 id     member_id     loan_amnt   funded_amnt  \\\n",
       "count  5.626000e+03  5.626000e+03   5626.000000   5626.000000   \n",
       "mean   6.978205e+05  8.677217e+05  12103.732670  11752.683967   \n",
       "std    2.163887e+05  2.723416e+05   8086.302606   7761.020860   \n",
       "min    6.141900e+04  8.035300e+04    900.000000    900.000000   \n",
       "25%    5.297122e+05  6.848970e+05   5600.000000   5562.500000   \n",
       "50%    6.969170e+05  8.881330e+05  10000.000000  10000.000000   \n",
       "75%    8.548820e+05  1.066599e+06  16500.000000  16000.000000   \n",
       "max    1.077430e+06  1.314167e+06  35000.000000  35000.000000   \n",
       "\n",
       "       funded_amnt_inv     int_rate  installment     annual_inc          dti  \\\n",
       "count      5626.000000  5626.000000  5626.000000    5626.000000  5626.000000   \n",
       "mean      10863.652949    13.820579   336.170976   62216.211525    13.999236   \n",
       "std        7662.154617     3.654721   217.070923   45079.747234     6.585339   \n",
       "min           0.000000     5.420000    22.790000    4080.000000     0.000000   \n",
       "25%        5000.000000    11.295000   168.522500   37000.000000     9.050000   \n",
       "50%        9400.605813    13.610000   293.870000   53000.000000    14.290000   \n",
       "75%       15000.000000    16.400000   457.925000   75000.000000    19.290000   \n",
       "max       35000.000000    24.400000  1305.190000  840000.000000    29.850000   \n",
       "\n",
       "       delinq_2yrs  ...    recoveries  collection_recovery_fee  \\\n",
       "count  5626.000000  ...   5626.000000              5626.000000   \n",
       "mean      0.170636  ...    672.217754                87.580860   \n",
       "std       0.535029  ...   1720.873939               386.623347   \n",
       "min       0.000000  ...      0.000000                 0.000000   \n",
       "25%       0.000000  ...      0.000000                 0.000000   \n",
       "50%       0.000000  ...    173.050000                 2.511600   \n",
       "75%       0.000000  ...    595.767500                 9.372500   \n",
       "max       8.000000  ...  29623.350000              7002.190000   \n",
       "\n",
       "       last_pymnt_amnt  collections_12_mths_ex_med  policy_code  \\\n",
       "count      5626.000000                      5620.0       5626.0   \n",
       "mean        326.014998                         0.0          1.0   \n",
       "std         529.029889                         0.0          0.0   \n",
       "min           0.000000                         0.0          1.0   \n",
       "25%         112.827500                         0.0          1.0   \n",
       "50%         238.200000                         0.0          1.0   \n",
       "75%         405.887500                         0.0          1.0   \n",
       "max       12818.380000                         0.0          1.0   \n",
       "\n",
       "       acc_now_delinq  chargeoff_within_12_mths  delinq_amnt  \\\n",
       "count          5626.0                    5620.0       5626.0   \n",
       "mean              0.0                       0.0          0.0   \n",
       "std               0.0                       0.0          0.0   \n",
       "min               0.0                       0.0          0.0   \n",
       "25%               0.0                       0.0          0.0   \n",
       "50%               0.0                       0.0          0.0   \n",
       "75%               0.0                       0.0          0.0   \n",
       "max               0.0                       0.0          0.0   \n",
       "\n",
       "       pub_rec_bankruptcies  tax_liens  \n",
       "count           5508.000000     5625.0  \n",
       "mean               0.067175        0.0  \n",
       "std                0.251794        0.0  \n",
       "min                0.000000        0.0  \n",
       "25%                0.000000        0.0  \n",
       "50%                0.000000        0.0  \n",
       "75%                0.000000        0.0  \n",
       "max                2.000000        0.0  \n",
       "\n",
       "[8 rows x 33 columns]"
      ]
     },
     "execution_count": 31,
     "metadata": {},
     "output_type": "execute_result"
    }
   ],
   "source": [
    "df2 = df1[(df1.annual_inc <1000000) & (df1.loan_status == 'Charged Off')]\n",
    "df2.head()\n",
    "df2.describe()\n"
   ]
  },
  {
   "cell_type": "markdown",
   "id": "d095161d",
   "metadata": {},
   "source": [
    "# Inference from the data above : The charged Off maximum annual income is 840000. We can remove the outliers of annual income above it."
   ]
  },
  {
   "cell_type": "code",
   "execution_count": 32,
   "id": "105becdd",
   "metadata": {},
   "outputs": [],
   "source": [
    "#Remove outliers above 840000 so that the focus will be on the representative information\n",
    "df1 = df1[df1.annual_inc <= 840000] "
   ]
  },
  {
   "cell_type": "code",
   "execution_count": 33,
   "id": "6b6d3257",
   "metadata": {},
   "outputs": [
    {
     "data": {
      "image/png": "[encoded data removed]",
      "text/plain": [
       "<Figure size 432x288 with 1 Axes>"
      ]
     },
     "metadata": {
      "needs_background": "light"
     },
     "output_type": "display_data"
    }
   ],
   "source": [
    "#Visualize data between loan_status and annual_inc after removal of outliers\n",
    "sns.boxplot(df1.annual_inc,df1.loan_status)\n",
    "plt.show()"
   ]
  },
  {
   "cell_type": "code",
   "execution_count": 34,
   "id": "15633ad3",
   "metadata": {},
   "outputs": [
    {
     "data": {
      "image/png": "[encoded data removed]",
      "text/plain": [
       "<Figure size 432x288 with 1 Axes>"
      ]
     },
     "metadata": {
      "needs_background": "light"
     },
     "output_type": "display_data"
    }
   ],
   "source": [
    "#Visualize data between loan_status and loan_amnt.\n",
    "sns.boxplot(df1.loan_amnt,df1.loan_status)\n",
    "plt.show()"
   ]
  },
  {
   "cell_type": "code",
   "execution_count": 35,
   "id": "45b0725b",
   "metadata": {},
   "outputs": [
    {
     "data": {
      "image/png": "[encoded data removed]",
      "text/plain": [
       "<Figure size 432x288 with 1 Axes>"
      ]
     },
     "metadata": {
      "needs_background": "light"
     },
     "output_type": "display_data"
    }
   ],
   "source": [
    "#Visualize data between loan_status and dti\n",
    "sns.boxplot(df1.dti,df1.loan_status)\n",
    "plt.show()"
   ]
  },
  {
   "cell_type": "markdown",
   "id": "c8538475",
   "metadata": {},
   "source": [
    "# Bivariate analysis"
   ]
  },
  {
   "cell_type": "code",
   "execution_count": 36,
   "id": "8987b9aa",
   "metadata": {},
   "outputs": [
    {
     "data": {
      "text/plain": [
       "<AxesSubplot:xlabel='loan_status'>"
      ]
     },
     "execution_count": 36,
     "metadata": {},
     "output_type": "execute_result"
    },
    {
     "data": {
      "image/png": "[encoded data removed]",
      "text/plain": [
       "<Figure size 432x288 with 1 Axes>"
      ]
     },
     "metadata": {
      "needs_background": "light"
     },
     "output_type": "display_data"
    }
   ],
   "source": [
    "#Visualize data between loan_status and annual income in a bar plot\n",
    "df1.groupby(['loan_status'])['annual_inc'].mean().plot.bar()\n"
   ]
  },
  {
   "cell_type": "code",
   "execution_count": 37,
   "id": "e36e1f0a",
   "metadata": {},
   "outputs": [
    {
     "data": {
      "text/plain": [
       "<AxesSubplot:xlabel='loan_status'>"
      ]
     },
     "execution_count": 37,
     "metadata": {},
     "output_type": "execute_result"
    },
    {
     "data": {
      "image/png": "[encoded data removed]",
      "text/plain": [
       "<Figure size 432x288 with 1 Axes>"
      ]
     },
     "metadata": {
      "needs_background": "light"
     },
     "output_type": "display_data"
    }
   ],
   "source": [
    "df1.groupby(['loan_status'])['annual_inc'].median().plot.bar()"
   ]
  },
  {
   "cell_type": "markdown",
   "id": "2a6a8dca",
   "metadata": {},
   "source": [
    "# Inference from the data above : There is not much to infer from the mean and median bar plots, hence it would require the process of binning and further analysis"
   ]
  },
  {
   "cell_type": "code",
   "execution_count": 38,
   "id": "792c7f1b",
   "metadata": {},
   "outputs": [],
   "source": [
    "df1['incomeRange']=pd.qcut(df1.annual_inc,[0,0.33,0.66,1],[\"L\",\"M\",\"H\"])"
   ]
  },
  {
   "cell_type": "raw",
   "id": "2f078b29",
   "metadata": {},
   "source": [
    "# The qcut method is used to bin the annual income distributed over wide range into alomost equally sized bins."
   ]
  },
  {
   "cell_type": "code",
   "execution_count": 39,
   "id": "40ed5927",
   "metadata": {},
   "outputs": [
    {
     "data": {
      "text/plain": [
       "M    12959\n",
       "L    12806\n",
       "H    12792\n",
       "Name: incomeRange, dtype: int64"
      ]
     },
     "execution_count": 39,
     "metadata": {},
     "output_type": "execute_result"
    }
   ],
   "source": [
    "df1.incomeRange.value_counts()"
   ]
  },
  {
   "cell_type": "markdown",
   "id": "464668e0",
   "metadata": {},
   "source": [
    "# Analyzing Loan amount against Income range and Loan Status"
   ]
  },
  {
   "cell_type": "code",
   "execution_count": 40,
   "id": "db944b4d",
   "metadata": {},
   "outputs": [
    {
     "data": {
      "text/html": [
       "<div>\n",
       "<style scoped>\n",
       "    .dataframe tbody tr th:only-of-type {\n",
       "        vertical-align: middle;\n",
       "    }\n",
       "\n",
       "    .dataframe tbody tr th {\n",
       "        vertical-align: top;\n",
       "    }\n",
       "\n",
       "    .dataframe thead th {\n",
       "        text-align: right;\n",
       "    }\n",
       "</style>\n",
       "<table border=\"1\" class=\"dataframe\">\n",
       "  <thead>\n",
       "    <tr style=\"text-align: right;\">\n",
       "      <th>incomeRange</th>\n",
       "      <th>L</th>\n",
       "      <th>M</th>\n",
       "      <th>H</th>\n",
       "      <th>All</th>\n",
       "    </tr>\n",
       "    <tr>\n",
       "      <th>loan_status</th>\n",
       "      <th></th>\n",
       "      <th></th>\n",
       "      <th></th>\n",
       "      <th></th>\n",
       "    </tr>\n",
       "  </thead>\n",
       "  <tbody>\n",
       "    <tr>\n",
       "      <th>Charged Off</th>\n",
       "      <td>18084525</td>\n",
       "      <td>24037625</td>\n",
       "      <td>25973450</td>\n",
       "      <td>68095600</td>\n",
       "    </tr>\n",
       "    <tr>\n",
       "      <th>Fully Paid</th>\n",
       "      <td>77818675</td>\n",
       "      <td>117030625</td>\n",
       "      <td>162965750</td>\n",
       "      <td>357815050</td>\n",
       "    </tr>\n",
       "    <tr>\n",
       "      <th>All</th>\n",
       "      <td>95903200</td>\n",
       "      <td>141068250</td>\n",
       "      <td>188939200</td>\n",
       "      <td>425910650</td>\n",
       "    </tr>\n",
       "  </tbody>\n",
       "</table>\n",
       "</div>"
      ],
      "text/plain": [
       "incomeRange         L          M          H        All\n",
       "loan_status                                           \n",
       "Charged Off  18084525   24037625   25973450   68095600\n",
       "Fully Paid   77818675  117030625  162965750  357815050\n",
       "All          95903200  141068250  188939200  425910650"
      ]
     },
     "execution_count": 40,
     "metadata": {},
     "output_type": "execute_result"
    }
   ],
   "source": [
    "res=pd.pivot_table(data=df1,index=\"loan_status\",columns =\"incomeRange\",values=\"loan_amnt\",aggfunc=sum,margins = True,fill_value = 0)\n",
    "res.head()"
   ]
  },
  {
   "cell_type": "code",
   "execution_count": 41,
   "id": "8df07f1c",
   "metadata": {},
   "outputs": [
    {
     "data": {
      "text/html": [
       "<div>\n",
       "<style scoped>\n",
       "    .dataframe tbody tr th:only-of-type {\n",
       "        vertical-align: middle;\n",
       "    }\n",
       "\n",
       "    .dataframe tbody tr th {\n",
       "        vertical-align: top;\n",
       "    }\n",
       "\n",
       "    .dataframe thead th {\n",
       "        text-align: right;\n",
       "    }\n",
       "</style>\n",
       "<table border=\"1\" class=\"dataframe\">\n",
       "  <thead>\n",
       "    <tr style=\"text-align: right;\">\n",
       "      <th>incomeRange</th>\n",
       "      <th>L</th>\n",
       "      <th>M</th>\n",
       "      <th>H</th>\n",
       "      <th>All</th>\n",
       "    </tr>\n",
       "    <tr>\n",
       "      <th>loan_status</th>\n",
       "      <th></th>\n",
       "      <th></th>\n",
       "      <th></th>\n",
       "      <th></th>\n",
       "    </tr>\n",
       "  </thead>\n",
       "  <tbody>\n",
       "    <tr>\n",
       "      <th>Charged Off</th>\n",
       "      <td>26.557553</td>\n",
       "      <td>35.299821</td>\n",
       "      <td>38.142626</td>\n",
       "      <td>100.0</td>\n",
       "    </tr>\n",
       "    <tr>\n",
       "      <th>Fully Paid</th>\n",
       "      <td>21.748296</td>\n",
       "      <td>32.707016</td>\n",
       "      <td>45.544689</td>\n",
       "      <td>100.0</td>\n",
       "    </tr>\n",
       "    <tr>\n",
       "      <th>All</th>\n",
       "      <td>22.517211</td>\n",
       "      <td>33.121560</td>\n",
       "      <td>44.361229</td>\n",
       "      <td>100.0</td>\n",
       "    </tr>\n",
       "  </tbody>\n",
       "</table>\n",
       "</div>"
      ],
      "text/plain": [
       "incomeRange          L          M          H    All\n",
       "loan_status                                        \n",
       "Charged Off  26.557553  35.299821  38.142626  100.0\n",
       "Fully Paid   21.748296  32.707016  45.544689  100.0\n",
       "All          22.517211  33.121560  44.361229  100.0"
      ]
     },
     "execution_count": 41,
     "metadata": {},
     "output_type": "execute_result"
    }
   ],
   "source": [
    "resPer = (res.div(res.iloc[:,-1],axis=0)*100)\n",
    "resPer.head()"
   ]
  },
  {
   "cell_type": "code",
   "execution_count": 42,
   "id": "299af64c",
   "metadata": {},
   "outputs": [],
   "source": [
    "##Apply customisations\n",
    "resPlt = resPer.drop(index='All',axis=0)\n",
    "resPlt = resPlt.drop(columns='All',axis=1)"
   ]
  },
  {
   "cell_type": "code",
   "execution_count": 43,
   "id": "c7122204",
   "metadata": {},
   "outputs": [
    {
     "data": {
      "text/plain": [
       "<AxesSubplot:xlabel='incomeRange', ylabel='loan_status'>"
      ]
     },
     "execution_count": 43,
     "metadata": {},
     "output_type": "execute_result"
    },
    {
     "data": {
      "image/png": "[encoded data removed]",
      "text/plain": [
       "<Figure size 432x288 with 2 Axes>"
      ]
     },
     "metadata": {
      "needs_background": "light"
     },
     "output_type": "display_data"
    }
   ],
   "source": [
    "sns.heatmap(resPlt ,cmap=\"Greens\",annot=True,fmt='g')"
   ]
  },
  {
   "cell_type": "markdown",
   "id": "60d7250d",
   "metadata": {},
   "source": [
    "# Inference from the data above : The percentage of the amount Charged Off is in the increasing order with a positive correlation from the Lower income to the Higher income group. "
   ]
  },
  {
   "cell_type": "code",
   "execution_count": 44,
   "id": "be610893",
   "metadata": {},
   "outputs": [],
   "source": [
    "#loan_status for different purpose over median loan amount\n",
    "resp=pd.pivot_table(data=df1,index=\"purpose\",columns =\"loan_status\",values=\"loan_amnt\",aggfunc=lambda x: np.quantile(x,0.5))"
   ]
  },
  {
   "cell_type": "code",
   "execution_count": 45,
   "id": "3aa621af",
   "metadata": {},
   "outputs": [
    {
     "data": {
      "text/plain": [
       "<AxesSubplot:xlabel='loan_status', ylabel='purpose'>"
      ]
     },
     "execution_count": 45,
     "metadata": {},
     "output_type": "execute_result"
    },
    {
     "data": {
      "image/png": "[encoded data removed]",
      "text/plain": [
       "<Figure size 432x288 with 2 Axes>"
      ]
     },
     "metadata": {
      "needs_background": "light"
     },
     "output_type": "display_data"
    }
   ],
   "source": [
    "sns.heatmap(resp,cmap=\"Greens\",annot=True,fmt='g')"
   ]
  },
  {
   "cell_type": "markdown",
   "id": "4c741762",
   "metadata": {},
   "source": [
    "# Inference from the analysis above : The loan_amount taken for creditcard,debt_consolidation,small_business are among the top Charged Off"
   ]
  },
  {
   "cell_type": "markdown",
   "id": "102dfeec",
   "metadata": {},
   "source": [
    "# Analysis of Purpose aginst income range and loan amount  - TBC"
   ]
  },
  {
   "cell_type": "code",
   "execution_count": 46,
   "id": "d8ff7c92",
   "metadata": {},
   "outputs": [],
   "source": [
    "resa=pd.pivot_table(data=df1,index=\"purpose\",columns =\"incomeRange\",values=\"loan_amnt\",aggfunc=lambda x: np.quantile(x,0.5))"
   ]
  },
  {
   "cell_type": "code",
   "execution_count": 47,
   "id": "b23bc46f",
   "metadata": {},
   "outputs": [
    {
     "data": {
      "text/plain": [
       "<AxesSubplot:xlabel='incomeRange', ylabel='purpose'>"
      ]
     },
     "execution_count": 47,
     "metadata": {},
     "output_type": "execute_result"
    },
    {
     "data": {
      "image/png": "[encoded data removed]",
      "text/plain": [
       "<Figure size 432x288 with 2 Axes>"
      ]
     },
     "metadata": {
      "needs_background": "light"
     },
     "output_type": "display_data"
    }
   ],
   "source": [
    "sns.heatmap(resa,cmap=\"Greens\",annot=True,fmt='g')"
   ]
  },
  {
   "cell_type": "markdown",
   "id": "671930dc",
   "metadata": {},
   "source": [
    "# Analysis of purpose against income range -TBC"
   ]
  },
  {
   "cell_type": "code",
   "execution_count": 48,
   "id": "1ecba36c",
   "metadata": {},
   "outputs": [
    {
     "data": {
      "text/html": [
       "<div>\n",
       "<style scoped>\n",
       "    .dataframe tbody tr th:only-of-type {\n",
       "        vertical-align: middle;\n",
       "    }\n",
       "\n",
       "    .dataframe tbody tr th {\n",
       "        vertical-align: top;\n",
       "    }\n",
       "\n",
       "    .dataframe thead th {\n",
       "        text-align: right;\n",
       "    }\n",
       "</style>\n",
       "<table border=\"1\" class=\"dataframe\">\n",
       "  <thead>\n",
       "    <tr style=\"text-align: right;\">\n",
       "      <th>incomeRange</th>\n",
       "      <th>L</th>\n",
       "      <th>M</th>\n",
       "      <th>H</th>\n",
       "    </tr>\n",
       "    <tr>\n",
       "      <th>purpose</th>\n",
       "      <th></th>\n",
       "      <th></th>\n",
       "      <th></th>\n",
       "    </tr>\n",
       "  </thead>\n",
       "  <tbody>\n",
       "    <tr>\n",
       "      <th>car</th>\n",
       "      <td>561</td>\n",
       "      <td>507</td>\n",
       "      <td>431</td>\n",
       "    </tr>\n",
       "    <tr>\n",
       "      <th>credit_card</th>\n",
       "      <td>1485</td>\n",
       "      <td>1730</td>\n",
       "      <td>1811</td>\n",
       "    </tr>\n",
       "    <tr>\n",
       "      <th>debt_consolidation</th>\n",
       "      <td>5961</td>\n",
       "      <td>6340</td>\n",
       "      <td>5745</td>\n",
       "    </tr>\n",
       "    <tr>\n",
       "      <th>educational</th>\n",
       "      <td>181</td>\n",
       "      <td>73</td>\n",
       "      <td>71</td>\n",
       "    </tr>\n",
       "    <tr>\n",
       "      <th>home_improvement</th>\n",
       "      <td>630</td>\n",
       "      <td>844</td>\n",
       "      <td>1398</td>\n",
       "    </tr>\n",
       "  </tbody>\n",
       "</table>\n",
       "</div>"
      ],
      "text/plain": [
       "incomeRange            L     M     H\n",
       "purpose                             \n",
       "car                  561   507   431\n",
       "credit_card         1485  1730  1811\n",
       "debt_consolidation  5961  6340  5745\n",
       "educational          181    73    71\n",
       "home_improvement     630   844  1398"
      ]
     },
     "execution_count": 48,
     "metadata": {},
     "output_type": "execute_result"
    }
   ],
   "source": [
    "dfannual=df1[['purpose','incomeRange']]\n",
    "resannual=pd.pivot_table(data=dfannual,index=\"purpose\",columns =\"incomeRange\",aggfunc=len)\n",
    "resannual.head()\n"
   ]
  },
  {
   "cell_type": "code",
   "execution_count": 49,
   "id": "4890339c",
   "metadata": {},
   "outputs": [
    {
     "data": {
      "image/png": "[encoded data removed]",
      "text/plain": [
       "<Figure size 432x288 with 1 Axes>"
      ]
     },
     "metadata": {
      "needs_background": "light"
     },
     "output_type": "display_data"
    }
   ],
   "source": [
    "resannual.plot(kind=\"bar\")\n",
    "plt.show()"
   ]
  },
  {
   "cell_type": "raw",
   "id": "71c4b0d2",
   "metadata": {},
   "source": [
    "#Inference from the data above : Moderate income group applies more loan mostly for debt_consolidation"
   ]
  },
  {
   "cell_type": "markdown",
   "id": "b28559ee",
   "metadata": {},
   "source": [
    "# Analysis of Purpose against loan status"
   ]
  },
  {
   "cell_type": "code",
   "execution_count": 50,
   "id": "ac19cd79",
   "metadata": {},
   "outputs": [
    {
     "data": {
      "text/html": [
       "<div>\n",
       "<style scoped>\n",
       "    .dataframe tbody tr th:only-of-type {\n",
       "        vertical-align: middle;\n",
       "    }\n",
       "\n",
       "    .dataframe tbody tr th {\n",
       "        vertical-align: top;\n",
       "    }\n",
       "\n",
       "    .dataframe thead th {\n",
       "        text-align: right;\n",
       "    }\n",
       "</style>\n",
       "<table border=\"1\" class=\"dataframe\">\n",
       "  <thead>\n",
       "    <tr style=\"text-align: right;\">\n",
       "      <th></th>\n",
       "      <th>purpose</th>\n",
       "      <th>incomeRange</th>\n",
       "      <th>loan_status</th>\n",
       "      <th>loan_amnt</th>\n",
       "    </tr>\n",
       "  </thead>\n",
       "  <tbody>\n",
       "    <tr>\n",
       "      <th>1</th>\n",
       "      <td>car</td>\n",
       "      <td>L</td>\n",
       "      <td>Charged Off</td>\n",
       "      <td>2500</td>\n",
       "    </tr>\n",
       "    <tr>\n",
       "      <th>8</th>\n",
       "      <td>small_business</td>\n",
       "      <td>L</td>\n",
       "      <td>Charged Off</td>\n",
       "      <td>5600</td>\n",
       "    </tr>\n",
       "    <tr>\n",
       "      <th>9</th>\n",
       "      <td>other</td>\n",
       "      <td>L</td>\n",
       "      <td>Charged Off</td>\n",
       "      <td>5375</td>\n",
       "    </tr>\n",
       "    <tr>\n",
       "      <th>12</th>\n",
       "      <td>debt_consolidation</td>\n",
       "      <td>L</td>\n",
       "      <td>Charged Off</td>\n",
       "      <td>9000</td>\n",
       "    </tr>\n",
       "    <tr>\n",
       "      <th>14</th>\n",
       "      <td>other</td>\n",
       "      <td>H</td>\n",
       "      <td>Charged Off</td>\n",
       "      <td>10000</td>\n",
       "    </tr>\n",
       "  </tbody>\n",
       "</table>\n",
       "</div>"
      ],
      "text/plain": [
       "               purpose incomeRange  loan_status  loan_amnt\n",
       "1                  car           L  Charged Off       2500\n",
       "8       small_business           L  Charged Off       5600\n",
       "9                other           L  Charged Off       5375\n",
       "12  debt_consolidation           L  Charged Off       9000\n",
       "14               other           H  Charged Off      10000"
      ]
     },
     "execution_count": 50,
     "metadata": {},
     "output_type": "execute_result"
    }
   ],
   "source": [
    "dfannualdefault=df1[['purpose','incomeRange','loan_status','loan_amnt']]\n",
    "dfannualdefault=dfannualdefault[dfannualdefault['loan_status']=='Charged Off']\n",
    "dfannualdefault.head()\n"
   ]
  },
  {
   "cell_type": "code",
   "execution_count": 51,
   "id": "b8a0016d",
   "metadata": {},
   "outputs": [
    {
     "data": {
      "image/png": "[encoded data removed]",
      "text/plain": [
       "<Figure size 432x288 with 1 Axes>"
      ]
     },
     "metadata": {
      "needs_background": "light"
     },
     "output_type": "display_data"
    }
   ],
   "source": [
    "dfannualdefault.groupby(['purpose'])['loan_status'].value_counts().plot.barh()\n",
    "#The largest number of loan is taken for debt_consolidation\n",
    "plt.show()"
   ]
  },
  {
   "cell_type": "markdown",
   "id": "139cff28",
   "metadata": {},
   "source": [
    "# Inference from the above analysis : The number of defaulters are more for debt_consolidation loan applications followed by other ,small business ,crdedit card. "
   ]
  },
  {
   "cell_type": "markdown",
   "id": "d213e1c9",
   "metadata": {},
   "source": [
    "# Analysis of Loan amount against purpose and loan status"
   ]
  },
  {
   "cell_type": "code",
   "execution_count": 52,
   "id": "9fdc7769",
   "metadata": {},
   "outputs": [],
   "source": [
    "resp_la =pd.pivot_table(data=dfannualdefault,index=\"purpose\",columns =\"loan_status\",values=\"loan_amnt\",aggfunc=lambda x: np.quantile(x,0.50))"
   ]
  },
  {
   "cell_type": "code",
   "execution_count": 53,
   "id": "3e3b68d3",
   "metadata": {},
   "outputs": [
    {
     "data": {
      "text/plain": [
       "<AxesSubplot:xlabel='purpose'>"
      ]
     },
     "execution_count": 53,
     "metadata": {},
     "output_type": "execute_result"
    },
    {
     "data": {
      "image/png": "[encoded data removed]",
      "text/plain": [
       "<Figure size 432x288 with 1 Axes>"
      ]
     },
     "metadata": {
      "needs_background": "light"
     },
     "output_type": "display_data"
    }
   ],
   "source": [
    "#sns.heatmap(resp_la,cmap=\"Greens\",annot=True,fmt='g')\n",
    "resp_la.plot(kind=\"bar\")"
   ]
  },
  {
   "cell_type": "markdown",
   "id": "969c290e",
   "metadata": {},
   "source": [
    "# Inference from above analysis : The median loan amount charged off is higher for loans taken against small_business,debt_consolidation,credit card."
   ]
  },
  {
   "cell_type": "markdown",
   "id": "baadda0a",
   "metadata": {},
   "source": [
    "# Analysis of Percentage of Purpose against Annual income range and loan status"
   ]
  },
  {
   "cell_type": "code",
   "execution_count": 54,
   "id": "9a8399ff",
   "metadata": {},
   "outputs": [
    {
     "data": {
      "text/html": [
       "<div>\n",
       "<style scoped>\n",
       "    .dataframe tbody tr th:only-of-type {\n",
       "        vertical-align: middle;\n",
       "    }\n",
       "\n",
       "    .dataframe tbody tr th {\n",
       "        vertical-align: top;\n",
       "    }\n",
       "\n",
       "    .dataframe thead tr th {\n",
       "        text-align: left;\n",
       "    }\n",
       "\n",
       "    .dataframe thead tr:last-of-type th {\n",
       "        text-align: right;\n",
       "    }\n",
       "</style>\n",
       "<table border=\"1\" class=\"dataframe\">\n",
       "  <thead>\n",
       "    <tr>\n",
       "      <th></th>\n",
       "      <th></th>\n",
       "      <th colspan=\"4\" halign=\"left\">loan_amnt</th>\n",
       "    </tr>\n",
       "    <tr>\n",
       "      <th></th>\n",
       "      <th>incomeRange</th>\n",
       "      <th>L</th>\n",
       "      <th>M</th>\n",
       "      <th>H</th>\n",
       "      <th>All</th>\n",
       "    </tr>\n",
       "    <tr>\n",
       "      <th>purpose</th>\n",
       "      <th>loan_status</th>\n",
       "      <th></th>\n",
       "      <th></th>\n",
       "      <th></th>\n",
       "      <th></th>\n",
       "    </tr>\n",
       "  </thead>\n",
       "  <tbody>\n",
       "    <tr>\n",
       "      <th>car</th>\n",
       "      <th>Charged Off</th>\n",
       "      <td>75</td>\n",
       "      <td>49</td>\n",
       "      <td>36</td>\n",
       "      <td>160</td>\n",
       "    </tr>\n",
       "    <tr>\n",
       "      <th>credit_card</th>\n",
       "      <th>Charged Off</th>\n",
       "      <td>202</td>\n",
       "      <td>178</td>\n",
       "      <td>162</td>\n",
       "      <td>542</td>\n",
       "    </tr>\n",
       "    <tr>\n",
       "      <th>debt_consolidation</th>\n",
       "      <th>Charged Off</th>\n",
       "      <td>1058</td>\n",
       "      <td>990</td>\n",
       "      <td>718</td>\n",
       "      <td>2766</td>\n",
       "    </tr>\n",
       "    <tr>\n",
       "      <th>educational</th>\n",
       "      <th>Charged Off</th>\n",
       "      <td>35</td>\n",
       "      <td>10</td>\n",
       "      <td>11</td>\n",
       "      <td>56</td>\n",
       "    </tr>\n",
       "    <tr>\n",
       "      <th>home_improvement</th>\n",
       "      <th>Charged Off</th>\n",
       "      <td>98</td>\n",
       "      <td>120</td>\n",
       "      <td>129</td>\n",
       "      <td>347</td>\n",
       "    </tr>\n",
       "  </tbody>\n",
       "</table>\n",
       "</div>"
      ],
      "text/plain": [
       "                               loan_amnt                \n",
       "incomeRange                            L    M    H   All\n",
       "purpose            loan_status                          \n",
       "car                Charged Off        75   49   36   160\n",
       "credit_card        Charged Off       202  178  162   542\n",
       "debt_consolidation Charged Off      1058  990  718  2766\n",
       "educational        Charged Off        35   10   11    56\n",
       "home_improvement   Charged Off        98  120  129   347"
      ]
     },
     "execution_count": 54,
     "metadata": {},
     "output_type": "execute_result"
    }
   ],
   "source": [
    "dfannualdefaultLst=df1[['purpose','incomeRange','loan_status','loan_amnt']]\n",
    "dfannualdefaultLst=dfannualdefaultLst[dfannualdefaultLst['loan_status']=='Charged Off']\n",
    "dfannualdefaultLst.head()\n",
    "resannualLst=pd.pivot_table(data=dfannualdefaultLst,index=[\"purpose\",\"loan_status\"],columns =\"incomeRange\",aggfunc=len,margins=True,fill_value =0)\n",
    "resannualLst.head()"
   ]
  },
  {
   "cell_type": "code",
   "execution_count": 55,
   "id": "80b92084",
   "metadata": {},
   "outputs": [
    {
     "data": {
      "text/html": [
       "<div>\n",
       "<style scoped>\n",
       "    .dataframe tbody tr th:only-of-type {\n",
       "        vertical-align: middle;\n",
       "    }\n",
       "\n",
       "    .dataframe tbody tr th {\n",
       "        vertical-align: top;\n",
       "    }\n",
       "\n",
       "    .dataframe thead tr th {\n",
       "        text-align: left;\n",
       "    }\n",
       "\n",
       "    .dataframe thead tr:last-of-type th {\n",
       "        text-align: right;\n",
       "    }\n",
       "</style>\n",
       "<table border=\"1\" class=\"dataframe\">\n",
       "  <thead>\n",
       "    <tr>\n",
       "      <th></th>\n",
       "      <th></th>\n",
       "      <th colspan=\"4\" halign=\"left\">loan_amnt</th>\n",
       "    </tr>\n",
       "    <tr>\n",
       "      <th></th>\n",
       "      <th>incomeRange</th>\n",
       "      <th>L</th>\n",
       "      <th>M</th>\n",
       "      <th>H</th>\n",
       "      <th>All</th>\n",
       "    </tr>\n",
       "    <tr>\n",
       "      <th>purpose</th>\n",
       "      <th>loan_status</th>\n",
       "      <th></th>\n",
       "      <th></th>\n",
       "      <th></th>\n",
       "      <th></th>\n",
       "    </tr>\n",
       "  </thead>\n",
       "  <tbody>\n",
       "    <tr>\n",
       "      <th>renewable_energy</th>\n",
       "      <th>Charged Off</th>\n",
       "      <td>11</td>\n",
       "      <td>2</td>\n",
       "      <td>6</td>\n",
       "      <td>19</td>\n",
       "    </tr>\n",
       "    <tr>\n",
       "      <th>small_business</th>\n",
       "      <th>Charged Off</th>\n",
       "      <td>143</td>\n",
       "      <td>182</td>\n",
       "      <td>150</td>\n",
       "      <td>475</td>\n",
       "    </tr>\n",
       "    <tr>\n",
       "      <th>vacation</th>\n",
       "      <th>Charged Off</th>\n",
       "      <td>25</td>\n",
       "      <td>19</td>\n",
       "      <td>9</td>\n",
       "      <td>53</td>\n",
       "    </tr>\n",
       "    <tr>\n",
       "      <th>wedding</th>\n",
       "      <th>Charged Off</th>\n",
       "      <td>35</td>\n",
       "      <td>34</td>\n",
       "      <td>27</td>\n",
       "      <td>96</td>\n",
       "    </tr>\n",
       "    <tr>\n",
       "      <th>All</th>\n",
       "      <th></th>\n",
       "      <td>2223</td>\n",
       "      <td>1905</td>\n",
       "      <td>1498</td>\n",
       "      <td>5626</td>\n",
       "    </tr>\n",
       "  </tbody>\n",
       "</table>\n",
       "</div>"
      ],
      "text/plain": [
       "                             loan_amnt                  \n",
       "incomeRange                          L     M     H   All\n",
       "purpose          loan_status                            \n",
       "renewable_energy Charged Off        11     2     6    19\n",
       "small_business   Charged Off       143   182   150   475\n",
       "vacation         Charged Off        25    19     9    53\n",
       "wedding          Charged Off        35    34    27    96\n",
       "All                               2223  1905  1498  5626"
      ]
     },
     "execution_count": 55,
     "metadata": {},
     "output_type": "execute_result"
    }
   ],
   "source": [
    "resannualLst.tail()"
   ]
  },
  {
   "cell_type": "code",
   "execution_count": 56,
   "id": "8b85a93b",
   "metadata": {},
   "outputs": [
    {
     "data": {
      "text/plain": [
       "(loan_amnt, L)  (loan_amnt, M)  (loan_amnt, H)  (loan_amnt, All)\n",
       "11              2               6               19                  1\n",
       "21              16              22              59                  1\n",
       "25              19              9               53                  1\n",
       "35              10              11              56                  1\n",
       "                34              27              96                  1\n",
       "42              35              29              106                 1\n",
       "55              23              14              92                  1\n",
       "75              49              36              160                 1\n",
       "98              120             129             347                 1\n",
       "118             65              39              222                 1\n",
       "143             182             150             475                 1\n",
       "202             178             162             542                 1\n",
       "305             182             146             633                 1\n",
       "1058            990             718             2766                1\n",
       "2223            1905            1498            5626                1\n",
       "dtype: int64"
      ]
     },
     "execution_count": 56,
     "metadata": {},
     "output_type": "execute_result"
    }
   ],
   "source": [
    "resannualLst.value_counts()"
   ]
  },
  {
   "cell_type": "code",
   "execution_count": 57,
   "id": "4a5af601",
   "metadata": {},
   "outputs": [],
   "source": [
    "resannualPer = (resannualLst.div(resannualLst.iloc[:,-1],axis=0)*100)"
   ]
  },
  {
   "cell_type": "code",
   "execution_count": 58,
   "id": "2f660b16",
   "metadata": {},
   "outputs": [
    {
     "data": {
      "text/html": [
       "<div>\n",
       "<style scoped>\n",
       "    .dataframe tbody tr th:only-of-type {\n",
       "        vertical-align: middle;\n",
       "    }\n",
       "\n",
       "    .dataframe tbody tr th {\n",
       "        vertical-align: top;\n",
       "    }\n",
       "\n",
       "    .dataframe thead tr th {\n",
       "        text-align: left;\n",
       "    }\n",
       "\n",
       "    .dataframe thead tr:last-of-type th {\n",
       "        text-align: right;\n",
       "    }\n",
       "</style>\n",
       "<table border=\"1\" class=\"dataframe\">\n",
       "  <thead>\n",
       "    <tr>\n",
       "      <th></th>\n",
       "      <th></th>\n",
       "      <th colspan=\"4\" halign=\"left\">loan_amnt</th>\n",
       "    </tr>\n",
       "    <tr>\n",
       "      <th></th>\n",
       "      <th>incomeRange</th>\n",
       "      <th>L</th>\n",
       "      <th>M</th>\n",
       "      <th>H</th>\n",
       "      <th>All</th>\n",
       "    </tr>\n",
       "    <tr>\n",
       "      <th>purpose</th>\n",
       "      <th>loan_status</th>\n",
       "      <th></th>\n",
       "      <th></th>\n",
       "      <th></th>\n",
       "      <th></th>\n",
       "    </tr>\n",
       "  </thead>\n",
       "  <tbody>\n",
       "    <tr>\n",
       "      <th>car</th>\n",
       "      <th>Charged Off</th>\n",
       "      <td>46.875000</td>\n",
       "      <td>30.625000</td>\n",
       "      <td>22.500000</td>\n",
       "      <td>100.0</td>\n",
       "    </tr>\n",
       "    <tr>\n",
       "      <th>credit_card</th>\n",
       "      <th>Charged Off</th>\n",
       "      <td>37.269373</td>\n",
       "      <td>32.841328</td>\n",
       "      <td>29.889299</td>\n",
       "      <td>100.0</td>\n",
       "    </tr>\n",
       "    <tr>\n",
       "      <th>debt_consolidation</th>\n",
       "      <th>Charged Off</th>\n",
       "      <td>38.250181</td>\n",
       "      <td>35.791757</td>\n",
       "      <td>25.958062</td>\n",
       "      <td>100.0</td>\n",
       "    </tr>\n",
       "    <tr>\n",
       "      <th>educational</th>\n",
       "      <th>Charged Off</th>\n",
       "      <td>62.500000</td>\n",
       "      <td>17.857143</td>\n",
       "      <td>19.642857</td>\n",
       "      <td>100.0</td>\n",
       "    </tr>\n",
       "    <tr>\n",
       "      <th>home_improvement</th>\n",
       "      <th>Charged Off</th>\n",
       "      <td>28.242075</td>\n",
       "      <td>34.582133</td>\n",
       "      <td>37.175793</td>\n",
       "      <td>100.0</td>\n",
       "    </tr>\n",
       "  </tbody>\n",
       "</table>\n",
       "</div>"
      ],
      "text/plain": [
       "                                loan_amnt                             \n",
       "incomeRange                             L          M          H    All\n",
       "purpose            loan_status                                        \n",
       "car                Charged Off  46.875000  30.625000  22.500000  100.0\n",
       "credit_card        Charged Off  37.269373  32.841328  29.889299  100.0\n",
       "debt_consolidation Charged Off  38.250181  35.791757  25.958062  100.0\n",
       "educational        Charged Off  62.500000  17.857143  19.642857  100.0\n",
       "home_improvement   Charged Off  28.242075  34.582133  37.175793  100.0"
      ]
     },
     "execution_count": 58,
     "metadata": {},
     "output_type": "execute_result"
    }
   ],
   "source": [
    "resannualPer.head()"
   ]
  },
  {
   "cell_type": "code",
   "execution_count": 59,
   "id": "08ad6a63",
   "metadata": {},
   "outputs": [],
   "source": [
    "##Apply customisations\n",
    "resannualPerPlt = resannualPer.drop(index='All',axis=0)\n",
    "resannualPerPlt1 = resannualPerPlt.drop(resannualPerPlt.columns[-1],axis=1)"
   ]
  },
  {
   "cell_type": "code",
   "execution_count": 60,
   "id": "18dcecf8",
   "metadata": {},
   "outputs": [
    {
     "data": {
      "text/plain": [
       "<AxesSubplot:ylabel='purpose,loan_status'>"
      ]
     },
     "execution_count": 60,
     "metadata": {},
     "output_type": "execute_result"
    },
    {
     "data": {
      "image/png": "[encoded data removed]",
      "text/plain": [
       "<Figure size 432x288 with 1 Axes>"
      ]
     },
     "metadata": {
      "needs_background": "light"
     },
     "output_type": "display_data"
    }
   ],
   "source": [
    "resannualPerPlt1.plot(kind=\"barh\")"
   ]
  },
  {
   "cell_type": "markdown",
   "id": "551d9fa5",
   "metadata": {},
   "source": [
    "# Inference from the data above : On percentage analysis,Low income group creates more charge_offs when they apply for educational,moving,renewable energy loans."
   ]
  },
  {
   "cell_type": "code",
   "execution_count": 61,
   "id": "20723909",
   "metadata": {},
   "outputs": [
    {
     "data": {
      "text/html": [
       "<div>\n",
       "<style scoped>\n",
       "    .dataframe tbody tr th:only-of-type {\n",
       "        vertical-align: middle;\n",
       "    }\n",
       "\n",
       "    .dataframe tbody tr th {\n",
       "        vertical-align: top;\n",
       "    }\n",
       "\n",
       "    .dataframe thead th {\n",
       "        text-align: right;\n",
       "    }\n",
       "</style>\n",
       "<table border=\"1\" class=\"dataframe\">\n",
       "  <thead>\n",
       "    <tr style=\"text-align: right;\">\n",
       "      <th></th>\n",
       "      <th>incomeRange</th>\n",
       "      <th>L</th>\n",
       "      <th>M</th>\n",
       "      <th>H</th>\n",
       "      <th>All</th>\n",
       "    </tr>\n",
       "    <tr>\n",
       "      <th>purpose</th>\n",
       "      <th>loan_status</th>\n",
       "      <th></th>\n",
       "      <th></th>\n",
       "      <th></th>\n",
       "      <th></th>\n",
       "    </tr>\n",
       "  </thead>\n",
       "  <tbody>\n",
       "    <tr>\n",
       "      <th>car</th>\n",
       "      <th>Fully Paid</th>\n",
       "      <td>486</td>\n",
       "      <td>458</td>\n",
       "      <td>395</td>\n",
       "      <td>1339</td>\n",
       "    </tr>\n",
       "    <tr>\n",
       "      <th>credit_card</th>\n",
       "      <th>Fully Paid</th>\n",
       "      <td>1283</td>\n",
       "      <td>1552</td>\n",
       "      <td>1649</td>\n",
       "      <td>4484</td>\n",
       "    </tr>\n",
       "    <tr>\n",
       "      <th>debt_consolidation</th>\n",
       "      <th>Fully Paid</th>\n",
       "      <td>4903</td>\n",
       "      <td>5350</td>\n",
       "      <td>5027</td>\n",
       "      <td>15280</td>\n",
       "    </tr>\n",
       "    <tr>\n",
       "      <th>educational</th>\n",
       "      <th>Fully Paid</th>\n",
       "      <td>146</td>\n",
       "      <td>63</td>\n",
       "      <td>60</td>\n",
       "      <td>269</td>\n",
       "    </tr>\n",
       "    <tr>\n",
       "      <th>home_improvement</th>\n",
       "      <th>Fully Paid</th>\n",
       "      <td>532</td>\n",
       "      <td>724</td>\n",
       "      <td>1269</td>\n",
       "      <td>2525</td>\n",
       "    </tr>\n",
       "  </tbody>\n",
       "</table>\n",
       "</div>"
      ],
      "text/plain": [
       "incomeRange                        L     M     H    All\n",
       "purpose            loan_status                         \n",
       "car                Fully Paid    486   458   395   1339\n",
       "credit_card        Fully Paid   1283  1552  1649   4484\n",
       "debt_consolidation Fully Paid   4903  5350  5027  15280\n",
       "educational        Fully Paid    146    63    60    269\n",
       "home_improvement   Fully Paid    532   724  1269   2525"
      ]
     },
     "execution_count": 61,
     "metadata": {},
     "output_type": "execute_result"
    }
   ],
   "source": [
    "dfannualpaid=df1[['purpose','incomeRange','loan_status']]\n",
    "dfannualpaid=dfannualpaid[dfannualpaid['loan_status']=='Fully Paid']\n",
    "dfannualpaid.head()\n",
    "resannualpaid=pd.pivot_table(data=dfannualpaid,index=[\"purpose\",\"loan_status\"],columns =\"incomeRange\",margins=True,aggfunc=len,fill_value=0)\n",
    "resannualpaid.head()"
   ]
  },
  {
   "cell_type": "code",
   "execution_count": 62,
   "id": "83633de7",
   "metadata": {},
   "outputs": [
    {
     "data": {
      "text/html": [
       "<div>\n",
       "<style scoped>\n",
       "    .dataframe tbody tr th:only-of-type {\n",
       "        vertical-align: middle;\n",
       "    }\n",
       "\n",
       "    .dataframe tbody tr th {\n",
       "        vertical-align: top;\n",
       "    }\n",
       "\n",
       "    .dataframe thead th {\n",
       "        text-align: right;\n",
       "    }\n",
       "</style>\n",
       "<table border=\"1\" class=\"dataframe\">\n",
       "  <thead>\n",
       "    <tr style=\"text-align: right;\">\n",
       "      <th></th>\n",
       "      <th>incomeRange</th>\n",
       "      <th>L</th>\n",
       "      <th>M</th>\n",
       "      <th>H</th>\n",
       "      <th>All</th>\n",
       "    </tr>\n",
       "    <tr>\n",
       "      <th>purpose</th>\n",
       "      <th>loan_status</th>\n",
       "      <th></th>\n",
       "      <th></th>\n",
       "      <th></th>\n",
       "      <th></th>\n",
       "    </tr>\n",
       "  </thead>\n",
       "  <tbody>\n",
       "    <tr>\n",
       "      <th>car</th>\n",
       "      <th>Fully Paid</th>\n",
       "      <td>36.295743</td>\n",
       "      <td>34.204630</td>\n",
       "      <td>29.499627</td>\n",
       "      <td>100.0</td>\n",
       "    </tr>\n",
       "    <tr>\n",
       "      <th>credit_card</th>\n",
       "      <th>Fully Paid</th>\n",
       "      <td>28.612846</td>\n",
       "      <td>34.611954</td>\n",
       "      <td>36.775201</td>\n",
       "      <td>100.0</td>\n",
       "    </tr>\n",
       "    <tr>\n",
       "      <th>debt_consolidation</th>\n",
       "      <th>Fully Paid</th>\n",
       "      <td>32.087696</td>\n",
       "      <td>35.013089</td>\n",
       "      <td>32.899215</td>\n",
       "      <td>100.0</td>\n",
       "    </tr>\n",
       "    <tr>\n",
       "      <th>educational</th>\n",
       "      <th>Fully Paid</th>\n",
       "      <td>54.275093</td>\n",
       "      <td>23.420074</td>\n",
       "      <td>22.304833</td>\n",
       "      <td>100.0</td>\n",
       "    </tr>\n",
       "    <tr>\n",
       "      <th>home_improvement</th>\n",
       "      <th>Fully Paid</th>\n",
       "      <td>21.069307</td>\n",
       "      <td>28.673267</td>\n",
       "      <td>50.257426</td>\n",
       "      <td>100.0</td>\n",
       "    </tr>\n",
       "  </tbody>\n",
       "</table>\n",
       "</div>"
      ],
      "text/plain": [
       "incomeRange                             L          M          H    All\n",
       "purpose            loan_status                                        \n",
       "car                Fully Paid   36.295743  34.204630  29.499627  100.0\n",
       "credit_card        Fully Paid   28.612846  34.611954  36.775201  100.0\n",
       "debt_consolidation Fully Paid   32.087696  35.013089  32.899215  100.0\n",
       "educational        Fully Paid   54.275093  23.420074  22.304833  100.0\n",
       "home_improvement   Fully Paid   21.069307  28.673267  50.257426  100.0"
      ]
     },
     "execution_count": 62,
     "metadata": {},
     "output_type": "execute_result"
    }
   ],
   "source": [
    "resannualpaid = (resannualpaid.div(resannualpaid.iloc[:,-1],axis=0)*100)\n",
    "resannualpaid.head()"
   ]
  },
  {
   "cell_type": "code",
   "execution_count": 63,
   "id": "82aaea22",
   "metadata": {},
   "outputs": [],
   "source": [
    "resannualpaidPlt = resannualpaid.drop(index='All',axis=0)\n",
    "resannualpaiPlt1 = resannualpaidPlt.drop(resannualpaidPlt.columns[-1],axis=1)"
   ]
  },
  {
   "cell_type": "code",
   "execution_count": 64,
   "id": "f840b3ce",
   "metadata": {},
   "outputs": [
    {
     "data": {
      "text/plain": [
       "<AxesSubplot:xlabel='purpose,loan_status'>"
      ]
     },
     "execution_count": 64,
     "metadata": {},
     "output_type": "execute_result"
    },
    {
     "data": {
      "image/png": "[encoded data removed]",
      "text/plain": [
       "<Figure size 432x288 with 1 Axes>"
      ]
     },
     "metadata": {
      "needs_background": "light"
     },
     "output_type": "display_data"
    }
   ],
   "source": [
    "resannualpaiPlt1.plot(kind=\"bar\")"
   ]
  },
  {
   "cell_type": "markdown",
   "id": "99da4681",
   "metadata": {},
   "source": [
    "# Inference from the data above : On percentage analysis,Low income group is highest in paying off educational loans but they are also highest in charge off's in the same catefory."
   ]
  },
  {
   "cell_type": "markdown",
   "id": "8456055d",
   "metadata": {},
   "source": [
    "# Analysis Grade against Loan status"
   ]
  },
  {
   "cell_type": "code",
   "execution_count": 65,
   "id": "cf2c8c67",
   "metadata": {},
   "outputs": [
    {
     "data": {
      "text/html": [
       "<div>\n",
       "<style scoped>\n",
       "    .dataframe tbody tr th:only-of-type {\n",
       "        vertical-align: middle;\n",
       "    }\n",
       "\n",
       "    .dataframe tbody tr th {\n",
       "        vertical-align: top;\n",
       "    }\n",
       "\n",
       "    .dataframe thead th {\n",
       "        text-align: right;\n",
       "    }\n",
       "</style>\n",
       "<table border=\"1\" class=\"dataframe\">\n",
       "  <thead>\n",
       "    <tr style=\"text-align: right;\">\n",
       "      <th>loan_status</th>\n",
       "      <th>Charged Off</th>\n",
       "      <th>Fully Paid</th>\n",
       "      <th>All</th>\n",
       "    </tr>\n",
       "    <tr>\n",
       "      <th>grade</th>\n",
       "      <th></th>\n",
       "      <th></th>\n",
       "      <th></th>\n",
       "    </tr>\n",
       "  </thead>\n",
       "  <tbody>\n",
       "    <tr>\n",
       "      <th>A</th>\n",
       "      <td>5.997808</td>\n",
       "      <td>94.002192</td>\n",
       "      <td>100.0</td>\n",
       "    </tr>\n",
       "    <tr>\n",
       "      <th>B</th>\n",
       "      <td>12.209751</td>\n",
       "      <td>87.790249</td>\n",
       "      <td>100.0</td>\n",
       "    </tr>\n",
       "    <tr>\n",
       "      <th>C</th>\n",
       "      <td>17.196883</td>\n",
       "      <td>82.803117</td>\n",
       "      <td>100.0</td>\n",
       "    </tr>\n",
       "    <tr>\n",
       "      <th>D</th>\n",
       "      <td>21.990559</td>\n",
       "      <td>78.009441</td>\n",
       "      <td>100.0</td>\n",
       "    </tr>\n",
       "    <tr>\n",
       "      <th>E</th>\n",
       "      <td>26.849418</td>\n",
       "      <td>73.150582</td>\n",
       "      <td>100.0</td>\n",
       "    </tr>\n",
       "  </tbody>\n",
       "</table>\n",
       "</div>"
      ],
      "text/plain": [
       "loan_status  Charged Off  Fully Paid    All\n",
       "grade                                      \n",
       "A               5.997808   94.002192  100.0\n",
       "B              12.209751   87.790249  100.0\n",
       "C              17.196883   82.803117  100.0\n",
       "D              21.990559   78.009441  100.0\n",
       "E              26.849418   73.150582  100.0"
      ]
     },
     "execution_count": 65,
     "metadata": {},
     "output_type": "execute_result"
    }
   ],
   "source": [
    "dfrisk = df1[['grade','loan_status']]\n",
    "resrisk = pd.pivot_table(data=dfrisk,index=\"grade\",columns=\"loan_status\",aggfunc=len,margins=True,fill_value=0)\n",
    "resrisk = (resrisk.div(resrisk.iloc[:,-1],axis=0)*100)\n",
    "resrisk.head()\n",
    "\n"
   ]
  },
  {
   "cell_type": "code",
   "execution_count": 66,
   "id": "2620a458",
   "metadata": {},
   "outputs": [],
   "source": [
    "\n",
    "resriskPlt = resrisk.drop(index='All',axis=0)\n",
    "resriskPlt1 = resriskPlt.drop(resriskPlt.columns[-1],axis=1)"
   ]
  },
  {
   "cell_type": "code",
   "execution_count": 67,
   "id": "d19d5007",
   "metadata": {},
   "outputs": [
    {
     "data": {
      "image/png": "[encoded data removed]",
      "text/plain": [
       "<Figure size 432x288 with 1 Axes>"
      ]
     },
     "metadata": {
      "needs_background": "light"
     },
     "output_type": "display_data"
    }
   ],
   "source": [
    "resriskPlt1.plot(kind=\"bar\")\n",
    "plt.show()"
   ]
  },
  {
   "cell_type": "markdown",
   "id": "d23aab6f",
   "metadata": {},
   "source": [
    "# Inference from the analysis above : The percentage of chargeoff increases with risk represented by higher Grades"
   ]
  },
  {
   "cell_type": "code",
   "execution_count": 68,
   "id": "f90da22a",
   "metadata": {},
   "outputs": [
    {
     "data": {
      "text/plain": [
       "<AxesSubplot:xlabel='grade', ylabel='purpose'>"
      ]
     },
     "execution_count": 68,
     "metadata": {},
     "output_type": "execute_result"
    },
    {
     "data": {
      "image/png": "[encoded data removed]",
      "text/plain": [
       "<Figure size 432x288 with 2 Axes>"
      ]
     },
     "metadata": {
      "needs_background": "light"
     },
     "output_type": "display_data"
    }
   ],
   "source": [
    "resg=pd.pivot_table(data=df1,index=\"purpose\",columns =\"grade\",values=\"loan_amnt\",aggfunc=lambda x: np.quantile(x,0.5))\n",
    "sns.heatmap(resg,cmap=\"Greens\",annot=True,fmt='g')"
   ]
  },
  {
   "cell_type": "markdown",
   "id": "f7e41a1f",
   "metadata": {},
   "source": [
    "# Inference from the analysis above : High risk group needs loan more for credit_Card,medical,home_improvement purposes"
   ]
  },
  {
   "cell_type": "code",
   "execution_count": 69,
   "id": "51664aba",
   "metadata": {},
   "outputs": [],
   "source": [
    "dfriskSub = df1[['sub_grade','loan_status']]\n",
    "resriskSub = pd.pivot_table(data=dfriskSub,index=\"sub_grade\",columns=\"loan_status\",margins=True,aggfunc=len,fill_value=0)\n",
    "resriskSub  = (resriskSub.div(resriskSub.iloc[:,-1],axis=0)*100)\n",
    "\n",
    "resriskSub.head()\n",
    "\n",
    "resriskSubPlt = resriskSub.drop(index='All',axis=0)\n",
    "resriskSubPlt1 = resriskSubPlt.drop(resriskSubPlt.columns[-1],axis=1)"
   ]
  },
  {
   "cell_type": "code",
   "execution_count": 70,
   "id": "aac1fb6e",
   "metadata": {},
   "outputs": [
    {
     "data": {
      "image/png": "[encoded data removed]",
      "text/plain": [
       "<Figure size 432x288 with 1 Axes>"
      ]
     },
     "metadata": {
      "needs_background": "light"
     },
     "output_type": "display_data"
    }
   ],
   "source": [
    "resriskSubPlt1.plot(kind=\"bar\")\n",
    "plt.show()"
   ]
  },
  {
   "cell_type": "markdown",
   "id": "47f746c3",
   "metadata": {},
   "source": [
    "# Inference from the analysis above : The percentage of chargeoff increases with risk represented by higher Sub Grades"
   ]
  },
  {
   "cell_type": "markdown",
   "id": "221968b7",
   "metadata": {},
   "source": [
    "# Analysis of years in employment against term and loan status\n",
    "\n"
   ]
  },
  {
   "cell_type": "code",
   "execution_count": 71,
   "id": "dbc7380d",
   "metadata": {},
   "outputs": [
    {
     "data": {
      "text/plain": [
       " 36 months    29081\n",
       " 60 months     9476\n",
       "Name: term, dtype: int64"
      ]
     },
     "execution_count": 71,
     "metadata": {},
     "output_type": "execute_result"
    }
   ],
   "source": [
    "df1.term.value_counts()"
   ]
  },
  {
   "cell_type": "code",
   "execution_count": 72,
   "id": "fc7316ea",
   "metadata": {},
   "outputs": [
    {
     "data": {
      "text/plain": [
       "0"
      ]
     },
     "execution_count": 72,
     "metadata": {},
     "output_type": "execute_result"
    }
   ],
   "source": [
    "df1.term.isnull().sum()"
   ]
  },
  {
   "cell_type": "code",
   "execution_count": 73,
   "id": "67acbc98",
   "metadata": {},
   "outputs": [],
   "source": [
    "dfempl=df1[['emp_length','term','loan_status']]\n",
    "resempl=pd.pivot_table(data=dfempl,index=['emp_length','loan_status'],columns =['term'],aggfunc=len,fill_value=0)\n"
   ]
  },
  {
   "cell_type": "code",
   "execution_count": 74,
   "id": "3804b769",
   "metadata": {},
   "outputs": [
    {
     "data": {
      "text/html": [
       "<div>\n",
       "<style scoped>\n",
       "    .dataframe tbody tr th:only-of-type {\n",
       "        vertical-align: middle;\n",
       "    }\n",
       "\n",
       "    .dataframe tbody tr th {\n",
       "        vertical-align: top;\n",
       "    }\n",
       "\n",
       "    .dataframe thead th {\n",
       "        text-align: right;\n",
       "    }\n",
       "</style>\n",
       "<table border=\"1\" class=\"dataframe\">\n",
       "  <thead>\n",
       "    <tr style=\"text-align: right;\">\n",
       "      <th></th>\n",
       "      <th>term</th>\n",
       "      <th>36 months</th>\n",
       "      <th>60 months</th>\n",
       "    </tr>\n",
       "    <tr>\n",
       "      <th>emp_length</th>\n",
       "      <th>loan_status</th>\n",
       "      <th></th>\n",
       "      <th></th>\n",
       "    </tr>\n",
       "  </thead>\n",
       "  <tbody>\n",
       "    <tr>\n",
       "      <th rowspan=\"2\" valign=\"top\">0</th>\n",
       "      <th>Charged Off</th>\n",
       "      <td>154</td>\n",
       "      <td>74</td>\n",
       "    </tr>\n",
       "    <tr>\n",
       "      <th>Fully Paid</th>\n",
       "      <td>655</td>\n",
       "      <td>150</td>\n",
       "    </tr>\n",
       "    <tr>\n",
       "      <th rowspan=\"2\" valign=\"top\">1 year</th>\n",
       "      <th>Charged Off</th>\n",
       "      <td>302</td>\n",
       "      <td>154</td>\n",
       "    </tr>\n",
       "    <tr>\n",
       "      <th>Fully Paid</th>\n",
       "      <td>2280</td>\n",
       "      <td>431</td>\n",
       "    </tr>\n",
       "    <tr>\n",
       "      <th>10+ years</th>\n",
       "      <th>Charged Off</th>\n",
       "      <td>630</td>\n",
       "      <td>701</td>\n",
       "    </tr>\n",
       "  </tbody>\n",
       "</table>\n",
       "</div>"
      ],
      "text/plain": [
       "term                     36 months   60 months\n",
       "emp_length loan_status                        \n",
       "0          Charged Off         154          74\n",
       "           Fully Paid          655         150\n",
       "1 year     Charged Off         302         154\n",
       "           Fully Paid         2280         431\n",
       "10+ years  Charged Off         630         701"
      ]
     },
     "execution_count": 74,
     "metadata": {},
     "output_type": "execute_result"
    }
   ],
   "source": [
    "resempl.head()"
   ]
  },
  {
   "cell_type": "code",
   "execution_count": 75,
   "id": "3d47f487",
   "metadata": {},
   "outputs": [
    {
     "data": {
      "text/plain": [
       "<AxesSubplot:xlabel='emp_length,loan_status'>"
      ]
     },
     "execution_count": 75,
     "metadata": {},
     "output_type": "execute_result"
    },
    {
     "data": {
      "image/png": "[encoded data removed]",
      "text/plain": [
       "<Figure size 432x288 with 1 Axes>"
      ]
     },
     "metadata": {
      "needs_background": "light"
     },
     "output_type": "display_data"
    }
   ],
   "source": [
    "resempl.plot(kind=\"bar\")"
   ]
  },
  {
   "cell_type": "markdown",
   "id": "5f8c4b2a",
   "metadata": {},
   "source": [
    "# Inference from analysis above : short term loans are mostly requested among all employee groups - TBD"
   ]
  },
  {
   "cell_type": "code",
   "execution_count": 76,
   "id": "c9531330",
   "metadata": {},
   "outputs": [
    {
     "data": {
      "text/html": [
       "<div>\n",
       "<style scoped>\n",
       "    .dataframe tbody tr th:only-of-type {\n",
       "        vertical-align: middle;\n",
       "    }\n",
       "\n",
       "    .dataframe tbody tr th {\n",
       "        vertical-align: top;\n",
       "    }\n",
       "\n",
       "    .dataframe thead th {\n",
       "        text-align: right;\n",
       "    }\n",
       "</style>\n",
       "<table border=\"1\" class=\"dataframe\">\n",
       "  <thead>\n",
       "    <tr style=\"text-align: right;\">\n",
       "      <th>term</th>\n",
       "      <th>36 months</th>\n",
       "      <th>60 months</th>\n",
       "    </tr>\n",
       "    <tr>\n",
       "      <th>grade</th>\n",
       "      <th></th>\n",
       "      <th></th>\n",
       "    </tr>\n",
       "  </thead>\n",
       "  <tbody>\n",
       "    <tr>\n",
       "      <th>A</th>\n",
       "      <td>9643</td>\n",
       "      <td>394</td>\n",
       "    </tr>\n",
       "    <tr>\n",
       "      <th>B</th>\n",
       "      <td>9328</td>\n",
       "      <td>2343</td>\n",
       "    </tr>\n",
       "    <tr>\n",
       "      <th>C</th>\n",
       "      <td>5744</td>\n",
       "      <td>2083</td>\n",
       "    </tr>\n",
       "    <tr>\n",
       "      <th>D</th>\n",
       "      <td>3231</td>\n",
       "      <td>1853</td>\n",
       "    </tr>\n",
       "    <tr>\n",
       "      <th>E</th>\n",
       "      <td>868</td>\n",
       "      <td>1795</td>\n",
       "    </tr>\n",
       "  </tbody>\n",
       "</table>\n",
       "</div>"
      ],
      "text/plain": [
       "term    36 months   60 months\n",
       "grade                        \n",
       "A            9643         394\n",
       "B            9328        2343\n",
       "C            5744        2083\n",
       "D            3231        1853\n",
       "E             868        1795"
      ]
     },
     "execution_count": 76,
     "metadata": {},
     "output_type": "execute_result"
    }
   ],
   "source": [
    "dfemplgrade=df1[['grade','term']]\n",
    "resemplg=pd.pivot_table(data=dfemplgrade,index=['grade'],columns =['term'],aggfunc=len)\n",
    "resemplg.head()"
   ]
  },
  {
   "cell_type": "code",
   "execution_count": 77,
   "id": "49542164",
   "metadata": {},
   "outputs": [
    {
     "data": {
      "image/png": "[encoded data removed]",
      "text/plain": [
       "<Figure size 432x288 with 1 Axes>"
      ]
     },
     "metadata": {
      "needs_background": "light"
     },
     "output_type": "display_data"
    }
   ],
   "source": [
    "resemplg.plot(kind=\"bar\")\n",
    "plt.show()"
   ]
  },
  {
   "cell_type": "markdown",
   "id": "f9df3520",
   "metadata": {},
   "source": [
    "# Inference from analysis above : while the credit score deteriorates, people tend to go for long term loans."
   ]
  },
  {
   "cell_type": "code",
   "execution_count": 78,
   "id": "e7431722",
   "metadata": {},
   "outputs": [],
   "source": [
    "dfemplstat=df1[['emp_length','loan_status']]\n",
    "resemplstat=pd.pivot_table(data=dfemplstat,index=['emp_length'],columns =['loan_status'],margins =True,aggfunc=len,fill_value=0)\n"
   ]
  },
  {
   "cell_type": "code",
   "execution_count": 79,
   "id": "e32d48ea",
   "metadata": {},
   "outputs": [
    {
     "data": {
      "text/html": [
       "<div>\n",
       "<style scoped>\n",
       "    .dataframe tbody tr th:only-of-type {\n",
       "        vertical-align: middle;\n",
       "    }\n",
       "\n",
       "    .dataframe tbody tr th {\n",
       "        vertical-align: top;\n",
       "    }\n",
       "\n",
       "    .dataframe thead th {\n",
       "        text-align: right;\n",
       "    }\n",
       "</style>\n",
       "<table border=\"1\" class=\"dataframe\">\n",
       "  <thead>\n",
       "    <tr style=\"text-align: right;\">\n",
       "      <th>loan_status</th>\n",
       "      <th>Charged Off</th>\n",
       "      <th>Fully Paid</th>\n",
       "      <th>All</th>\n",
       "    </tr>\n",
       "    <tr>\n",
       "      <th>emp_length</th>\n",
       "      <th></th>\n",
       "      <th></th>\n",
       "      <th></th>\n",
       "    </tr>\n",
       "  </thead>\n",
       "  <tbody>\n",
       "    <tr>\n",
       "      <th>0</th>\n",
       "      <td>228</td>\n",
       "      <td>805</td>\n",
       "      <td>1033</td>\n",
       "    </tr>\n",
       "    <tr>\n",
       "      <th>1 year</th>\n",
       "      <td>456</td>\n",
       "      <td>2711</td>\n",
       "      <td>3167</td>\n",
       "    </tr>\n",
       "    <tr>\n",
       "      <th>10+ years</th>\n",
       "      <td>1331</td>\n",
       "      <td>7148</td>\n",
       "      <td>8479</td>\n",
       "    </tr>\n",
       "    <tr>\n",
       "      <th>2 years</th>\n",
       "      <td>566</td>\n",
       "      <td>3724</td>\n",
       "      <td>4290</td>\n",
       "    </tr>\n",
       "    <tr>\n",
       "      <th>3 years</th>\n",
       "      <td>555</td>\n",
       "      <td>3456</td>\n",
       "      <td>4011</td>\n",
       "    </tr>\n",
       "  </tbody>\n",
       "</table>\n",
       "</div>"
      ],
      "text/plain": [
       "loan_status  Charged Off  Fully Paid   All\n",
       "emp_length                                \n",
       "0                    228         805  1033\n",
       "1 year               456        2711  3167\n",
       "10+ years           1331        7148  8479\n",
       "2 years              566        3724  4290\n",
       "3 years              555        3456  4011"
      ]
     },
     "execution_count": 79,
     "metadata": {},
     "output_type": "execute_result"
    }
   ],
   "source": [
    "resemplstat.head()\n"
   ]
  },
  {
   "cell_type": "code",
   "execution_count": 80,
   "id": "6e8fbdd3",
   "metadata": {},
   "outputs": [],
   "source": [
    "resemplstat = (resemplstat.div(resemplstat.iloc[:,-1],axis=0)*100)\n",
    "\n",
    "resemplstat.head()\n",
    "\n",
    "resemplstatPlt = resemplstat.drop(index='All',axis=0)\n",
    "resemplstatPlt1 = resemplstatPlt.drop(resemplstatPlt.columns[-1],axis=1)"
   ]
  },
  {
   "cell_type": "code",
   "execution_count": 81,
   "id": "efb046d8",
   "metadata": {},
   "outputs": [
    {
     "data": {
      "image/png": "[encoded data removed]",
      "text/plain": [
       "<Figure size 432x288 with 1 Axes>"
      ]
     },
     "metadata": {
      "needs_background": "light"
     },
     "output_type": "display_data"
    }
   ],
   "source": [
    "resemplstatPlt1.plot(kind=\"bar\")\n",
    "plt.show()"
   ]
  },
  {
   "cell_type": "markdown",
   "id": "7967071b",
   "metadata": {},
   "source": [
    "# People with '0' employement length have more percentage of chargeoff."
   ]
  },
  {
   "cell_type": "markdown",
   "id": "01153bdc",
   "metadata": {},
   "source": [
    "# Analysis dti against loan status"
   ]
  },
  {
   "cell_type": "code",
   "execution_count": 82,
   "id": "03980392",
   "metadata": {},
   "outputs": [
    {
     "data": {
      "text/plain": [
       "0.00     177\n",
       "12.00     46\n",
       "18.00     45\n",
       "13.20     39\n",
       "19.20     39\n",
       "        ... \n",
       "28.26      1\n",
       "28.95      1\n",
       "25.77      1\n",
       "27.20      1\n",
       "25.43      1\n",
       "Name: dti, Length: 2853, dtype: int64"
      ]
     },
     "execution_count": 82,
     "metadata": {},
     "output_type": "execute_result"
    }
   ],
   "source": [
    "df1.dti.value_counts()"
   ]
  },
  {
   "cell_type": "code",
   "execution_count": 83,
   "id": "88c409f7",
   "metadata": {},
   "outputs": [
    {
     "data": {
      "text/plain": [
       "0"
      ]
     },
     "execution_count": 83,
     "metadata": {},
     "output_type": "execute_result"
    }
   ],
   "source": [
    "df1.dti.isnull().sum()"
   ]
  },
  {
   "cell_type": "code",
   "execution_count": 84,
   "id": "40aebf9e",
   "metadata": {},
   "outputs": [
    {
     "data": {
      "text/html": [
       "<div>\n",
       "<style scoped>\n",
       "    .dataframe tbody tr th:only-of-type {\n",
       "        vertical-align: middle;\n",
       "    }\n",
       "\n",
       "    .dataframe tbody tr th {\n",
       "        vertical-align: top;\n",
       "    }\n",
       "\n",
       "    .dataframe thead th {\n",
       "        text-align: right;\n",
       "    }\n",
       "</style>\n",
       "<table border=\"1\" class=\"dataframe\">\n",
       "  <thead>\n",
       "    <tr style=\"text-align: right;\">\n",
       "      <th></th>\n",
       "      <th>dti</th>\n",
       "      <th>dtiRange</th>\n",
       "    </tr>\n",
       "  </thead>\n",
       "  <tbody>\n",
       "    <tr>\n",
       "      <th>0</th>\n",
       "      <td>27.65</td>\n",
       "      <td>H</td>\n",
       "    </tr>\n",
       "    <tr>\n",
       "      <th>1</th>\n",
       "      <td>1.00</td>\n",
       "      <td>L</td>\n",
       "    </tr>\n",
       "    <tr>\n",
       "      <th>2</th>\n",
       "      <td>8.72</td>\n",
       "      <td>L</td>\n",
       "    </tr>\n",
       "    <tr>\n",
       "      <th>3</th>\n",
       "      <td>20.00</td>\n",
       "      <td>H</td>\n",
       "    </tr>\n",
       "    <tr>\n",
       "      <th>5</th>\n",
       "      <td>11.20</td>\n",
       "      <td>M</td>\n",
       "    </tr>\n",
       "    <tr>\n",
       "      <th>...</th>\n",
       "      <td>...</td>\n",
       "      <td>...</td>\n",
       "    </tr>\n",
       "    <tr>\n",
       "      <th>39712</th>\n",
       "      <td>11.33</td>\n",
       "      <td>M</td>\n",
       "    </tr>\n",
       "    <tr>\n",
       "      <th>39713</th>\n",
       "      <td>6.40</td>\n",
       "      <td>L</td>\n",
       "    </tr>\n",
       "    <tr>\n",
       "      <th>39714</th>\n",
       "      <td>2.30</td>\n",
       "      <td>L</td>\n",
       "    </tr>\n",
       "    <tr>\n",
       "      <th>39715</th>\n",
       "      <td>3.72</td>\n",
       "      <td>L</td>\n",
       "    </tr>\n",
       "    <tr>\n",
       "      <th>39716</th>\n",
       "      <td>14.29</td>\n",
       "      <td>M</td>\n",
       "    </tr>\n",
       "  </tbody>\n",
       "</table>\n",
       "<p>38557 rows × 2 columns</p>\n",
       "</div>"
      ],
      "text/plain": [
       "         dti dtiRange\n",
       "0      27.65        H\n",
       "1       1.00        L\n",
       "2       8.72        L\n",
       "3      20.00        H\n",
       "5      11.20        M\n",
       "...      ...      ...\n",
       "39712  11.33        M\n",
       "39713   6.40        L\n",
       "39714   2.30        L\n",
       "39715   3.72        L\n",
       "39716  14.29        M\n",
       "\n",
       "[38557 rows x 2 columns]"
      ]
     },
     "execution_count": 84,
     "metadata": {},
     "output_type": "execute_result"
    }
   ],
   "source": [
    "df1['dtiRange']=pd.qcut(df1.dti,[0,0.33,0.66,1],[\"L\",\"M\",\"H\"])\n",
    "df1[['dti','dtiRange']]"
   ]
  },
  {
   "cell_type": "code",
   "execution_count": 85,
   "id": "5664f66c",
   "metadata": {},
   "outputs": [
    {
     "data": {
      "text/html": [
       "<div>\n",
       "<style scoped>\n",
       "    .dataframe tbody tr th:only-of-type {\n",
       "        vertical-align: middle;\n",
       "    }\n",
       "\n",
       "    .dataframe tbody tr th {\n",
       "        vertical-align: top;\n",
       "    }\n",
       "\n",
       "    .dataframe thead th {\n",
       "        text-align: right;\n",
       "    }\n",
       "</style>\n",
       "<table border=\"1\" class=\"dataframe\">\n",
       "  <thead>\n",
       "    <tr style=\"text-align: right;\">\n",
       "      <th></th>\n",
       "      <th>loan_status</th>\n",
       "      <th>dtiRange</th>\n",
       "    </tr>\n",
       "  </thead>\n",
       "  <tbody>\n",
       "    <tr>\n",
       "      <th>0</th>\n",
       "      <td>Fully Paid</td>\n",
       "      <td>H</td>\n",
       "    </tr>\n",
       "    <tr>\n",
       "      <th>1</th>\n",
       "      <td>Charged Off</td>\n",
       "      <td>L</td>\n",
       "    </tr>\n",
       "    <tr>\n",
       "      <th>2</th>\n",
       "      <td>Fully Paid</td>\n",
       "      <td>L</td>\n",
       "    </tr>\n",
       "    <tr>\n",
       "      <th>3</th>\n",
       "      <td>Fully Paid</td>\n",
       "      <td>H</td>\n",
       "    </tr>\n",
       "    <tr>\n",
       "      <th>5</th>\n",
       "      <td>Fully Paid</td>\n",
       "      <td>M</td>\n",
       "    </tr>\n",
       "  </tbody>\n",
       "</table>\n",
       "</div>"
      ],
      "text/plain": [
       "   loan_status dtiRange\n",
       "0   Fully Paid        H\n",
       "1  Charged Off        L\n",
       "2   Fully Paid        L\n",
       "3   Fully Paid        H\n",
       "5   Fully Paid        M"
      ]
     },
     "execution_count": 85,
     "metadata": {},
     "output_type": "execute_result"
    }
   ],
   "source": [
    "dfdtRange=df1[['loan_status','dtiRange']]\n",
    "dfdtRange.head()"
   ]
  },
  {
   "cell_type": "code",
   "execution_count": 86,
   "id": "b086707e",
   "metadata": {},
   "outputs": [
    {
     "data": {
      "text/html": [
       "<div>\n",
       "<style scoped>\n",
       "    .dataframe tbody tr th:only-of-type {\n",
       "        vertical-align: middle;\n",
       "    }\n",
       "\n",
       "    .dataframe tbody tr th {\n",
       "        vertical-align: top;\n",
       "    }\n",
       "\n",
       "    .dataframe thead th {\n",
       "        text-align: right;\n",
       "    }\n",
       "</style>\n",
       "<table border=\"1\" class=\"dataframe\">\n",
       "  <thead>\n",
       "    <tr style=\"text-align: right;\">\n",
       "      <th>loan_status</th>\n",
       "      <th>Charged Off</th>\n",
       "      <th>Fully Paid</th>\n",
       "    </tr>\n",
       "    <tr>\n",
       "      <th>dtiRange</th>\n",
       "      <th></th>\n",
       "      <th></th>\n",
       "    </tr>\n",
       "  </thead>\n",
       "  <tbody>\n",
       "    <tr>\n",
       "      <th>L</th>\n",
       "      <td>1612</td>\n",
       "      <td>11126</td>\n",
       "    </tr>\n",
       "    <tr>\n",
       "      <th>M</th>\n",
       "      <td>1852</td>\n",
       "      <td>10868</td>\n",
       "    </tr>\n",
       "    <tr>\n",
       "      <th>H</th>\n",
       "      <td>2162</td>\n",
       "      <td>10937</td>\n",
       "    </tr>\n",
       "  </tbody>\n",
       "</table>\n",
       "</div>"
      ],
      "text/plain": [
       "loan_status  Charged Off  Fully Paid\n",
       "dtiRange                            \n",
       "L                   1612       11126\n",
       "M                   1852       10868\n",
       "H                   2162       10937"
      ]
     },
     "execution_count": 86,
     "metadata": {},
     "output_type": "execute_result"
    }
   ],
   "source": [
    "resdti=pd.pivot_table(data=dfdtRange,index=['dtiRange'],columns =['loan_status'],aggfunc=len)\n",
    "resdti.head()"
   ]
  },
  {
   "cell_type": "code",
   "execution_count": 87,
   "id": "3e2b2ddf",
   "metadata": {},
   "outputs": [
    {
     "data": {
      "text/plain": [
       "<AxesSubplot:xlabel='dtiRange'>"
      ]
     },
     "execution_count": 87,
     "metadata": {},
     "output_type": "execute_result"
    },
    {
     "data": {
      "image/png": "[encoded data removed]",
      "text/plain": [
       "<Figure size 432x288 with 1 Axes>"
      ]
     },
     "metadata": {
      "needs_background": "light"
     },
     "output_type": "display_data"
    }
   ],
   "source": [
    "resdti.plot(kind=\"bar\")"
   ]
  },
  {
   "cell_type": "code",
   "execution_count": 88,
   "id": "2fe9e87f",
   "metadata": {},
   "outputs": [
    {
     "data": {
      "text/plain": [
       "<AxesSubplot:xlabel='dtiRange'>"
      ]
     },
     "execution_count": 88,
     "metadata": {},
     "output_type": "execute_result"
    },
    {
     "data": {
      "image/png": "[encoded data removed]",
      "text/plain": [
       "<Figure size 432x288 with 1 Axes>"
      ]
     },
     "metadata": {
      "needs_background": "light"
     },
     "output_type": "display_data"
    }
   ],
   "source": [
    "resdtplt = resdti[['Charged Off']]\n",
    "resdtplt.plot(kind='bar')"
   ]
  },
  {
   "cell_type": "markdown",
   "id": "0fdbd9d1",
   "metadata": {},
   "source": [
    "# Inference from the analysis above : higher the Dti then higher the charged Off"
   ]
  },
  {
   "cell_type": "markdown",
   "id": "3a5d8ac9",
   "metadata": {},
   "source": [
    "# Analysis of Interest rate against Loan status"
   ]
  },
  {
   "cell_type": "code",
   "execution_count": 89,
   "id": "dd581d9a",
   "metadata": {},
   "outputs": [
    {
     "data": {
      "text/plain": [
       "10.99    913\n",
       "11.49    790\n",
       "7.51     786\n",
       "13.49    749\n",
       "7.88     723\n",
       "        ... \n",
       "16.96      1\n",
       "18.36      1\n",
       "16.15      1\n",
       "16.01      1\n",
       "16.20      1\n",
       "Name: int_rate, Length: 370, dtype: int64"
      ]
     },
     "execution_count": 89,
     "metadata": {},
     "output_type": "execute_result"
    }
   ],
   "source": [
    "df1.int_rate.value_counts()"
   ]
  },
  {
   "cell_type": "code",
   "execution_count": 90,
   "id": "13005fc1",
   "metadata": {},
   "outputs": [],
   "source": [
    "df1['intRange']=pd.qcut(df1.int_rate,[0,0.33,0.66,1],[\"L\",\"M\",\"H\"])"
   ]
  },
  {
   "cell_type": "code",
   "execution_count": 91,
   "id": "12af486b",
   "metadata": {},
   "outputs": [],
   "source": [
    "dfint = df1[['loan_status','intRange']]"
   ]
  },
  {
   "cell_type": "code",
   "execution_count": 92,
   "id": "093a67f2",
   "metadata": {},
   "outputs": [
    {
     "data": {
      "image/png": "[encoded data removed]",
      "text/plain": [
       "<Figure size 432x288 with 1 Axes>"
      ]
     },
     "metadata": {
      "needs_background": "light"
     },
     "output_type": "display_data"
    }
   ],
   "source": [
    "dfint.groupby('loan_status')['intRange'].value_counts().unstack().plot(kind='bar')\n",
    "plt.show()"
   ]
  },
  {
   "cell_type": "markdown",
   "id": "3fa387e0",
   "metadata": {},
   "source": [
    "# Inference from the analysis above : High interest rates get more charged Off while Low interest rates gets fully Paid"
   ]
  },
  {
   "cell_type": "markdown",
   "id": "4835bcbb",
   "metadata": {},
   "source": [
    "# Analysis of why Low income group tops in Charge Off and Fully paid category of Educational Loans"
   ]
  },
  {
   "cell_type": "code",
   "execution_count": 93,
   "id": "81d5bc5e",
   "metadata": {},
   "outputs": [
    {
     "data": {
      "text/html": [
       "<div>\n",
       "<style scoped>\n",
       "    .dataframe tbody tr th:only-of-type {\n",
       "        vertical-align: middle;\n",
       "    }\n",
       "\n",
       "    .dataframe tbody tr th {\n",
       "        vertical-align: top;\n",
       "    }\n",
       "\n",
       "    .dataframe thead th {\n",
       "        text-align: right;\n",
       "    }\n",
       "</style>\n",
       "<table border=\"1\" class=\"dataframe\">\n",
       "  <thead>\n",
       "    <tr style=\"text-align: right;\">\n",
       "      <th></th>\n",
       "      <th>incomeRange</th>\n",
       "      <th>loan_status</th>\n",
       "      <th>term</th>\n",
       "      <th>int_rate</th>\n",
       "      <th>grade</th>\n",
       "      <th>purpose</th>\n",
       "    </tr>\n",
       "  </thead>\n",
       "  <tbody>\n",
       "    <tr>\n",
       "      <th>0</th>\n",
       "      <td>L</td>\n",
       "      <td>Fully Paid</td>\n",
       "      <td>36 months</td>\n",
       "      <td>10.65</td>\n",
       "      <td>B</td>\n",
       "      <td>credit_card</td>\n",
       "    </tr>\n",
       "    <tr>\n",
       "      <th>1</th>\n",
       "      <td>L</td>\n",
       "      <td>Charged Off</td>\n",
       "      <td>60 months</td>\n",
       "      <td>15.27</td>\n",
       "      <td>C</td>\n",
       "      <td>car</td>\n",
       "    </tr>\n",
       "    <tr>\n",
       "      <th>2</th>\n",
       "      <td>L</td>\n",
       "      <td>Fully Paid</td>\n",
       "      <td>36 months</td>\n",
       "      <td>15.96</td>\n",
       "      <td>C</td>\n",
       "      <td>small_business</td>\n",
       "    </tr>\n",
       "    <tr>\n",
       "      <th>3</th>\n",
       "      <td>M</td>\n",
       "      <td>Fully Paid</td>\n",
       "      <td>36 months</td>\n",
       "      <td>13.49</td>\n",
       "      <td>C</td>\n",
       "      <td>other</td>\n",
       "    </tr>\n",
       "    <tr>\n",
       "      <th>5</th>\n",
       "      <td>L</td>\n",
       "      <td>Fully Paid</td>\n",
       "      <td>36 months</td>\n",
       "      <td>7.90</td>\n",
       "      <td>A</td>\n",
       "      <td>wedding</td>\n",
       "    </tr>\n",
       "  </tbody>\n",
       "</table>\n",
       "</div>"
      ],
      "text/plain": [
       "  incomeRange  loan_status        term  int_rate grade         purpose\n",
       "0           L   Fully Paid   36 months     10.65     B     credit_card\n",
       "1           L  Charged Off   60 months     15.27     C             car\n",
       "2           L   Fully Paid   36 months     15.96     C  small_business\n",
       "3           M   Fully Paid   36 months     13.49     C           other\n",
       "5           L   Fully Paid   36 months      7.90     A         wedding"
      ]
     },
     "execution_count": 93,
     "metadata": {},
     "output_type": "execute_result"
    }
   ],
   "source": [
    "dfLowIncome=df1[['incomeRange','loan_status','term','int_rate','grade','purpose']]\n",
    "dfLowIncome.head()"
   ]
  },
  {
   "cell_type": "code",
   "execution_count": 94,
   "id": "a5ecccdf",
   "metadata": {},
   "outputs": [],
   "source": [
    "dfLowIncome=dfLowIncome[dfLowIncome.incomeRange =='L']\n",
    "dfLowIncome=dfLowIncome[dfLowIncome.purpose =='educational']\n"
   ]
  },
  {
   "cell_type": "code",
   "execution_count": 95,
   "id": "c81b4a6d",
   "metadata": {},
   "outputs": [],
   "source": [
    "dfLowIncome['intRange']=pd.qcut(dfLowIncome.int_rate,[0,0.33,0.66,1],[\"L\",\"M\",\"H\"])"
   ]
  },
  {
   "cell_type": "code",
   "execution_count": 96,
   "id": "468b5957",
   "metadata": {},
   "outputs": [
    {
     "data": {
      "text/html": [
       "<div>\n",
       "<style scoped>\n",
       "    .dataframe tbody tr th:only-of-type {\n",
       "        vertical-align: middle;\n",
       "    }\n",
       "\n",
       "    .dataframe tbody tr th {\n",
       "        vertical-align: top;\n",
       "    }\n",
       "\n",
       "    .dataframe thead th {\n",
       "        text-align: right;\n",
       "    }\n",
       "</style>\n",
       "<table border=\"1\" class=\"dataframe\">\n",
       "  <thead>\n",
       "    <tr style=\"text-align: right;\">\n",
       "      <th></th>\n",
       "      <th>incomeRange</th>\n",
       "      <th>loan_status</th>\n",
       "      <th>term</th>\n",
       "      <th>int_rate</th>\n",
       "      <th>grade</th>\n",
       "      <th>purpose</th>\n",
       "      <th>intRange</th>\n",
       "    </tr>\n",
       "  </thead>\n",
       "  <tbody>\n",
       "    <tr>\n",
       "      <th>25162</th>\n",
       "      <td>L</td>\n",
       "      <td>Fully Paid</td>\n",
       "      <td>60 months</td>\n",
       "      <td>18.67</td>\n",
       "      <td>F</td>\n",
       "      <td>educational</td>\n",
       "      <td>H</td>\n",
       "    </tr>\n",
       "    <tr>\n",
       "      <th>25328</th>\n",
       "      <td>L</td>\n",
       "      <td>Charged Off</td>\n",
       "      <td>36 months</td>\n",
       "      <td>13.23</td>\n",
       "      <td>C</td>\n",
       "      <td>educational</td>\n",
       "      <td>H</td>\n",
       "    </tr>\n",
       "    <tr>\n",
       "      <th>25415</th>\n",
       "      <td>L</td>\n",
       "      <td>Charged Off</td>\n",
       "      <td>36 months</td>\n",
       "      <td>13.23</td>\n",
       "      <td>C</td>\n",
       "      <td>educational</td>\n",
       "      <td>H</td>\n",
       "    </tr>\n",
       "    <tr>\n",
       "      <th>25591</th>\n",
       "      <td>L</td>\n",
       "      <td>Fully Paid</td>\n",
       "      <td>36 months</td>\n",
       "      <td>10.75</td>\n",
       "      <td>B</td>\n",
       "      <td>educational</td>\n",
       "      <td>M</td>\n",
       "    </tr>\n",
       "    <tr>\n",
       "      <th>26251</th>\n",
       "      <td>L</td>\n",
       "      <td>Fully Paid</td>\n",
       "      <td>36 months</td>\n",
       "      <td>7.51</td>\n",
       "      <td>A</td>\n",
       "      <td>educational</td>\n",
       "      <td>L</td>\n",
       "    </tr>\n",
       "  </tbody>\n",
       "</table>\n",
       "</div>"
      ],
      "text/plain": [
       "      incomeRange  loan_status        term  int_rate grade      purpose  \\\n",
       "25162           L   Fully Paid   60 months     18.67     F  educational   \n",
       "25328           L  Charged Off   36 months     13.23     C  educational   \n",
       "25415           L  Charged Off   36 months     13.23     C  educational   \n",
       "25591           L   Fully Paid   36 months     10.75     B  educational   \n",
       "26251           L   Fully Paid   36 months      7.51     A  educational   \n",
       "\n",
       "      intRange  \n",
       "25162        H  \n",
       "25328        H  \n",
       "25415        H  \n",
       "25591        M  \n",
       "26251        L  "
      ]
     },
     "execution_count": 96,
     "metadata": {},
     "output_type": "execute_result"
    }
   ],
   "source": [
    "dfLowIncome.head()"
   ]
  },
  {
   "cell_type": "code",
   "execution_count": 97,
   "id": "498a301c",
   "metadata": {},
   "outputs": [],
   "source": [
    "dfLowIncome=dfLowIncome[['loan_status','term','intRange']]"
   ]
  },
  {
   "cell_type": "code",
   "execution_count": 98,
   "id": "0a095421",
   "metadata": {},
   "outputs": [
    {
     "data": {
      "text/html": [
       "<div>\n",
       "<style scoped>\n",
       "    .dataframe tbody tr th:only-of-type {\n",
       "        vertical-align: middle;\n",
       "    }\n",
       "\n",
       "    .dataframe tbody tr th {\n",
       "        vertical-align: top;\n",
       "    }\n",
       "\n",
       "    .dataframe thead th {\n",
       "        text-align: right;\n",
       "    }\n",
       "</style>\n",
       "<table border=\"1\" class=\"dataframe\">\n",
       "  <thead>\n",
       "    <tr style=\"text-align: right;\">\n",
       "      <th></th>\n",
       "      <th>intRange</th>\n",
       "      <th>L</th>\n",
       "      <th>M</th>\n",
       "      <th>H</th>\n",
       "      <th>All</th>\n",
       "    </tr>\n",
       "    <tr>\n",
       "      <th>loan_status</th>\n",
       "      <th>term</th>\n",
       "      <th></th>\n",
       "      <th></th>\n",
       "      <th></th>\n",
       "      <th></th>\n",
       "    </tr>\n",
       "  </thead>\n",
       "  <tbody>\n",
       "    <tr>\n",
       "      <th rowspan=\"2\" valign=\"top\">Charged Off</th>\n",
       "      <th>36 months</th>\n",
       "      <td>7</td>\n",
       "      <td>11</td>\n",
       "      <td>12</td>\n",
       "      <td>30</td>\n",
       "    </tr>\n",
       "    <tr>\n",
       "      <th>60 months</th>\n",
       "      <td>1</td>\n",
       "      <td>0</td>\n",
       "      <td>4</td>\n",
       "      <td>5</td>\n",
       "    </tr>\n",
       "    <tr>\n",
       "      <th rowspan=\"2\" valign=\"top\">Fully Paid</th>\n",
       "      <th>36 months</th>\n",
       "      <td>51</td>\n",
       "      <td>47</td>\n",
       "      <td>42</td>\n",
       "      <td>140</td>\n",
       "    </tr>\n",
       "    <tr>\n",
       "      <th>60 months</th>\n",
       "      <td>1</td>\n",
       "      <td>1</td>\n",
       "      <td>4</td>\n",
       "      <td>6</td>\n",
       "    </tr>\n",
       "    <tr>\n",
       "      <th>All</th>\n",
       "      <th></th>\n",
       "      <td>60</td>\n",
       "      <td>59</td>\n",
       "      <td>62</td>\n",
       "      <td>181</td>\n",
       "    </tr>\n",
       "  </tbody>\n",
       "</table>\n",
       "</div>"
      ],
      "text/plain": [
       "intRange                 L   M   H  All\n",
       "loan_status term                       \n",
       "Charged Off  36 months   7  11  12   30\n",
       "             60 months   1   0   4    5\n",
       "Fully Paid   36 months  51  47  42  140\n",
       "             60 months   1   1   4    6\n",
       "All                     60  59  62  181"
      ]
     },
     "execution_count": 98,
     "metadata": {},
     "output_type": "execute_result"
    }
   ],
   "source": [
    "resLincome=pd.pivot_table(data=dfLowIncome,index=[\"loan_status\",\"term\"],columns =[\"intRange\"],margins=True,aggfunc=len,fill_value=0)\n",
    "resLincome.head()"
   ]
  },
  {
   "cell_type": "code",
   "execution_count": 99,
   "id": "a48c8341",
   "metadata": {},
   "outputs": [],
   "source": [
    "resLincome = (resLincome.div(resLincome.iloc[:,-1],axis=0)*100)\n",
    "resLincome.head()\n",
    "resLincomePlt = resLincome.drop(index='All',axis=0)\n",
    "resemplstatPlt1 = resLincomePlt.drop(resLincomePlt.columns[-1],axis=1)"
   ]
  },
  {
   "cell_type": "code",
   "execution_count": 100,
   "id": "e8c5dac4",
   "metadata": {},
   "outputs": [
    {
     "data": {
      "image/png": "[encoded data removed]",
      "text/plain": [
       "<Figure size 432x288 with 1 Axes>"
      ]
     },
     "metadata": {
      "needs_background": "light"
     },
     "output_type": "display_data"
    }
   ],
   "source": [
    "resemplstatPlt1.plot(kind=\"barh\")\n",
    "plt.show()\n"
   ]
  },
  {
   "cell_type": "markdown",
   "id": "b1a32c05",
   "metadata": {},
   "source": []
  },
  {
   "cell_type": "markdown",
   "id": "c168aa6a",
   "metadata": {},
   "source": [
    "# Inference from the analysis above : For educational loans, when the interest rate is high, Low income group will get more charged Off for short term and long term loans. "
   ]
  },
  {
   "cell_type": "markdown",
   "id": "7760ce85",
   "metadata": {},
   "source": [
    "# Analysis of Home ownership against Loan status"
   ]
  },
  {
   "cell_type": "code",
   "execution_count": 101,
   "id": "58207b0f",
   "metadata": {},
   "outputs": [
    {
     "data": {
      "text/plain": [
       "RENT        18475\n",
       "MORTGAGE    17007\n",
       "OWN          2974\n",
       "OTHER          98\n",
       "NONE            3\n",
       "Name: home_ownership, dtype: int64"
      ]
     },
     "execution_count": 101,
     "metadata": {},
     "output_type": "execute_result"
    }
   ],
   "source": [
    "df1.home_ownership.value_counts()\n"
   ]
  },
  {
   "cell_type": "code",
   "execution_count": 102,
   "id": "675ce299",
   "metadata": {},
   "outputs": [],
   "source": [
    "df1 = df1[df1.home_ownership != 'NONE']"
   ]
  },
  {
   "cell_type": "code",
   "execution_count": 103,
   "id": "bcc24388",
   "metadata": {},
   "outputs": [
    {
     "data": {
      "text/plain": [
       "0"
      ]
     },
     "execution_count": 103,
     "metadata": {},
     "output_type": "execute_result"
    }
   ],
   "source": [
    "df1.home_ownership.isnull().sum()"
   ]
  },
  {
   "cell_type": "code",
   "execution_count": 104,
   "id": "337d6a57",
   "metadata": {},
   "outputs": [],
   "source": [
    "dfHmeOwn = df1[['home_ownership','loan_status']]"
   ]
  },
  {
   "cell_type": "code",
   "execution_count": 105,
   "id": "35b30550",
   "metadata": {},
   "outputs": [
    {
     "data": {
      "image/png": "[encoded data removed]",
      "text/plain": [
       "<Figure size 432x288 with 1 Axes>"
      ]
     },
     "metadata": {
      "needs_background": "light"
     },
     "output_type": "display_data"
    }
   ],
   "source": [
    "dfHmeOwn.groupby('home_ownership')['loan_status'].value_counts().unstack().plot(kind='bar')\n",
    "plt.show()"
   ]
  },
  {
   "cell_type": "markdown",
   "id": "78ac3e8f",
   "metadata": {},
   "source": [
    "# Inference from the analysis above : People who lives in Rented accomodation and those who has mortgage has more charged off than people who has Home ownership. "
   ]
  },
  {
   "cell_type": "markdown",
   "id": "1a9ce8ef",
   "metadata": {},
   "source": [
    "# Analysis of Verification status against Loan status"
   ]
  },
  {
   "cell_type": "code",
   "execution_count": 106,
   "id": "d6109430",
   "metadata": {},
   "outputs": [
    {
     "data": {
      "text/plain": [
       "Not Verified       16682\n",
       "Verified           12202\n",
       "Source Verified     9670\n",
       "Name: verification_status, dtype: int64"
      ]
     },
     "execution_count": 106,
     "metadata": {},
     "output_type": "execute_result"
    }
   ],
   "source": [
    "df1.verification_status.value_counts()"
   ]
  },
  {
   "cell_type": "code",
   "execution_count": 107,
   "id": "9d550c21",
   "metadata": {},
   "outputs": [
    {
     "data": {
      "text/plain": [
       "0"
      ]
     },
     "execution_count": 107,
     "metadata": {},
     "output_type": "execute_result"
    }
   ],
   "source": [
    "df1.verification_status.isnull().sum()"
   ]
  },
  {
   "cell_type": "code",
   "execution_count": 108,
   "id": "d2ff6cd5",
   "metadata": {},
   "outputs": [],
   "source": [
    "dfVerifySts=df1[['loan_status','verification_status']]"
   ]
  },
  {
   "cell_type": "code",
   "execution_count": 109,
   "id": "fe23f48b",
   "metadata": {},
   "outputs": [],
   "source": [
    "resVerifySts=pd.pivot_table(data=dfVerifySts,index=['verification_status'],columns =['loan_status'],margins =True,aggfunc=len,fill_value=0)\n"
   ]
  },
  {
   "cell_type": "code",
   "execution_count": 110,
   "id": "af66b2c8",
   "metadata": {},
   "outputs": [],
   "source": [
    "#resVerifySts = (resVerifySts.div(resVerifySts.iloc[:,-1],axis=0)*100)\n",
    "resVerifyStsPlt = resVerifySts.drop(index='All',axis=0)\n",
    "resVerifyStsPlt1 = resVerifyStsPlt.drop(resVerifyStsPlt.columns[-1],axis=1)"
   ]
  },
  {
   "cell_type": "code",
   "execution_count": 111,
   "id": "46238c65",
   "metadata": {},
   "outputs": [
    {
     "data": {
      "text/html": [
       "<div>\n",
       "<style scoped>\n",
       "    .dataframe tbody tr th:only-of-type {\n",
       "        vertical-align: middle;\n",
       "    }\n",
       "\n",
       "    .dataframe tbody tr th {\n",
       "        vertical-align: top;\n",
       "    }\n",
       "\n",
       "    .dataframe thead th {\n",
       "        text-align: right;\n",
       "    }\n",
       "</style>\n",
       "<table border=\"1\" class=\"dataframe\">\n",
       "  <thead>\n",
       "    <tr style=\"text-align: right;\">\n",
       "      <th>loan_status</th>\n",
       "      <th>Charged Off</th>\n",
       "      <th>Fully Paid</th>\n",
       "    </tr>\n",
       "    <tr>\n",
       "      <th>verification_status</th>\n",
       "      <th></th>\n",
       "      <th></th>\n",
       "    </tr>\n",
       "  </thead>\n",
       "  <tbody>\n",
       "    <tr>\n",
       "      <th>Not Verified</th>\n",
       "      <td>2142</td>\n",
       "      <td>14540</td>\n",
       "    </tr>\n",
       "    <tr>\n",
       "      <th>Source Verified</th>\n",
       "      <td>1434</td>\n",
       "      <td>8236</td>\n",
       "    </tr>\n",
       "    <tr>\n",
       "      <th>Verified</th>\n",
       "      <td>2050</td>\n",
       "      <td>10152</td>\n",
       "    </tr>\n",
       "  </tbody>\n",
       "</table>\n",
       "</div>"
      ],
      "text/plain": [
       "loan_status          Charged Off  Fully Paid\n",
       "verification_status                         \n",
       "Not Verified                2142       14540\n",
       "Source Verified             1434        8236\n",
       "Verified                    2050       10152"
      ]
     },
     "execution_count": 111,
     "metadata": {},
     "output_type": "execute_result"
    }
   ],
   "source": [
    "resVerifyStsPlt1.head()"
   ]
  },
  {
   "cell_type": "code",
   "execution_count": 112,
   "id": "21ad3626",
   "metadata": {},
   "outputs": [
    {
     "data": {
      "image/png": "[encoded data removed]",
      "text/plain": [
       "<Figure size 432x288 with 1 Axes>"
      ]
     },
     "metadata": {
      "needs_background": "light"
     },
     "output_type": "display_data"
    }
   ],
   "source": [
    "resVerifyStsPlt1.plot(kind=\"bar\")\n",
    "plt.show()"
   ]
  },
  {
   "cell_type": "markdown",
   "id": "506709ad",
   "metadata": {},
   "source": [
    "# Inference from the analysis above : The charged off cases of people with 'Not Verified' verification status is slightly high compared to others."
   ]
  }
 ],
 "metadata": {
  "kernelspec": {
   "display_name": "Python 3 (ipykernel)",
   "language": "python",
   "name": "python3"
  },
  "language_info": {
   "codemirror_mode": {
    "name": "ipython",
    "version": 3
   },
   "file_extension": ".py",
   "mimetype": "text/x-python",
   "name": "python",
   "nbconvert_exporter": "python",
   "pygments_lexer": "ipython3",
   "version": "3.9.6"
  }
 },
 "nbformat": 4,
 "nbformat_minor": 5
}
