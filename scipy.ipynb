import numpy as np 
seed=int(input())
n=int(input())
p=float(input())
np.random.seed(seed)
s = np.random.binomial(n, p, 10)
print(s)

import scipy.stats
m=float(input())#mean
sd=float(input())#standard deviation
print(round(1-scipy.stats.norm(m,sd).cdf(90),2))

import numpy as np 
from scipy.stats import zscore
import pandas as pd 
import scipy.stats as st

m=float(input())#mean
sd=float(input())#standard deviation
Z=(90-m)/sd
zeescore = st.norm.cdf(Z)
pofx = 1 - zeescore
print(round(pofx,2))